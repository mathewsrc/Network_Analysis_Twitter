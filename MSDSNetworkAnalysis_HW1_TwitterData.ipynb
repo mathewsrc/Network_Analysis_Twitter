{
  "nbformat": 4,
  "nbformat_minor": 0,
  "metadata": {
    "colab": {
      "provenance": [],
      "collapsed_sections": [],
      "include_colab_link": true
    },
    "kernelspec": {
      "name": "python3",
      "display_name": "Python 3"
    }
  },
  "cells": [
    {
      "cell_type": "markdown",
      "metadata": {
        "id": "view-in-github",
        "colab_type": "text"
      },
      "source": [
        "<a href=\"https://colab.research.google.com/github/punkmic/Network_Analysis_Twitter/blob/master/MSDSNetworkAnalysis_HW1_TwitterData.ipynb\" target=\"_parent\"><img src=\"https://colab.research.google.com/assets/colab-badge.svg\" alt=\"Open In Colab\"/></a>"
      ]
    },
    {
      "cell_type": "markdown",
      "source": [
        "# MSDS Network Analysis, Homework 1: Twitter data wrangling"
      ],
      "metadata": {
        "id": "Blhvc2teosDj"
      }
    },
    {
      "cell_type": "markdown",
      "source": [
        "## ⚡️ Make a Copy\n",
        "\n",
        "Save a copy of this notebook in your Google Drive before continuing. Be sure to edit your own copy, not the original notebook."
      ],
      "metadata": {
        "id": "YIjMSV2y4rna"
      }
    },
    {
      "cell_type": "markdown",
      "source": [
        "## 🏁 We are working toward a goal: the final project"
      ],
      "metadata": {
        "id": "R0dxMCbrGkVI"
      }
    },
    {
      "cell_type": "markdown",
      "source": [
        "Please take a moment to review the requirements for the upcoming final project for this course. The homework assignments and coding labs are designed to step you toward the goal of preparing to complete your final project."
      ],
      "metadata": {
        "id": "GBTs-_v7Go2x"
      }
    },
    {
      "cell_type": "markdown",
      "source": [
        "## Working with Twitter data"
      ],
      "metadata": {
        "id": "_W2TItPIpZIw"
      }
    },
    {
      "cell_type": "markdown",
      "source": [
        "Social media data tends to have a lot of metadata. When doing an analysis, you can take advantage of the richness of this data toward the end of slicing it up to meet the needs for your project."
      ],
      "metadata": {
        "id": "I_BTKgMPo_pa"
      }
    },
    {
      "cell_type": "markdown",
      "source": [
        "In this assignment, you will practice working with Twitter API data by implementing a function for matching Tweets to a given set of metadata parameters. We'll then take a look at how you can use that function for filtering Tweets to a specific subset.\n",
        "\n",
        "> 💡 Before continuing, take a moment to get familiar with the structure of the [Tweet object model](https://developer.twitter.com/en/docs/twitter-api/v1/data-dictionary/object-model/tweet)"
      ],
      "metadata": {
        "id": "tPDRAo7mpfyE"
      }
    },
    {
      "cell_type": "markdown",
      "source": [
        "### 📝 Completing the assignment"
      ],
      "metadata": {
        "id": "6KcmA3Hpz5Vf"
      }
    },
    {
      "cell_type": "markdown",
      "source": [
        "> **⚠️  Don't code outside the lines.** Keep your function implementation code inside the function blocks. Be sure not to write any code above the `/autorade` delimiter other than the specified function code. Any experimentation or testing code should go below the `/autograde` indicator, and will be ignored by the grader."
      ],
      "metadata": {
        "id": "DTr17HArz0r3"
      }
    },
    {
      "cell_type": "markdown",
      "source": [
        "## Defining the match critera"
      ],
      "metadata": {
        "id": "0WJTCtDKp6lx"
      }
    },
    {
      "cell_type": "markdown",
      "source": [
        "Take a look at the Twitter documentation referenced above, and determine what fields you will need to complete this assignment. In this assignment, you will be implementing a function called `match_tweet` which determines if a Tweet matches the set of matching parameters:\n",
        "\n",
        " * **country_codes:** If provided and non-empty, is the Tweet's country code in this list of provided country codes?\n",
        " * **start_date:** If provided, is the date of Tweet's `created_at` date greater than or equal to this date?\n",
        " * **end_date:** If provided, is the date of the Tweet's `created_at` date less than or equal to this date?\n",
        "\n",
        "\n",
        "Let's consider further details about matching before jumping into the implementation."
      ],
      "metadata": {
        "id": "_8TKxPBSqB1s"
      }
    },
    {
      "cell_type": "markdown",
      "source": [
        "## 🌎 Matching by country code"
      ],
      "metadata": {
        "id": "XRH47lCNsuyz"
      }
    },
    {
      "cell_type": "markdown",
      "source": [
        "The following criteria should be implemented in your function for matching to the country code:\n",
        "\n",
        " * If the country_code parameter is `None` or an empty list the function should match any Tweet regardless of country code.\n",
        " * Country codes should be matched in a case-insensitive way. E.g. \"US\" is equivalent to \"us\". However, \"US\" and \"USA\" are not considered to be matches -- the case-insensitive match should be exact.\n",
        " * If this parameter is provided and the Tweet's country code is not in the list of provided country codes, the function should return False regardless of the other match parameters."
      ],
      "metadata": {
        "id": "Wt5uSN8Gs0cW"
      }
    },
    {
      "cell_type": "markdown",
      "source": [
        "## 📅 Matching by date"
      ],
      "metadata": {
        "id": "GIx8f53wuEE8"
      }
    },
    {
      "cell_type": "markdown",
      "source": [
        "The `start_date` and `end_date` parameters are used to determine if the Tweet was created within a specific date range. One of these parameters may be provide to match an open-ended range, or neither of them to match all Tweets.\n",
        "\n",
        "Use the following criteria when matching by date:\n",
        "\n",
        " * The \"date\" of a Tweet is the date component of the `created_at` timestamp of the Tweet (see below for info about working with dates)\n",
        " * start_date and end_date are both inclusive matches. E.g. a Tweet created on 2021-11-01 will match either a start_date or an end_date of 2021-11-01\n",
        " * `None` for either date parameter means \"no limit\" in that direction. By this criterion, `None` for both parameters means: \"match all Tweets\"\n",
        " * If date parameters are provided and the Tweet does not match, the function should return False regardless of other matching parameters."
      ],
      "metadata": {
        "id": "vgh6PEi4uIqp"
      }
    },
    {
      "cell_type": "markdown",
      "source": [
        "### 🐍 Working with Tweet timestamps as dates"
      ],
      "metadata": {
        "id": "t3G0RgETx21v"
      }
    },
    {
      "cell_type": "markdown",
      "source": [
        "The following code snippet can be used to parse a Tweet's created_at time into a datetime object:\n",
        "\n",
        "```\n",
        "    dt = datetime.strptime(tweet[\"created_at\"], \"%a %b %d %H:%M:%S +0000 %Y\")\n",
        "```\n",
        "\n",
        "You can then get just a date object from that by calling the `.date()` method on the datetime object:\n",
        "\n",
        "```\n",
        "    dt = dt.date()\n",
        "```"
      ],
      "metadata": {
        "id": "KlP9apDMh78l"
      }
    },
    {
      "cell_type": "markdown",
      "source": [
        "## ⚡️ Getting started"
      ],
      "metadata": {
        "id": "IXJLl_JByPjN"
      }
    },
    {
      "cell_type": "markdown",
      "source": [
        "You should now be ready to go. To complete the assignment:\n",
        "\n",
        " 1. Complete the implementation of the `match_tweet` function.\n",
        "\n",
        "    The function definition line is created for you below. Your job is to complete the function so that it works to specification.\n",
        "\n",
        "2. Write any exploratory and testing code only below the `/autograde` note.\n",
        "\n",
        "3. Download the completed notebook as a .py file:\n",
        "\n",
        "    File > Download > Download .py\n",
        "\n",
        "    ⚠️ The .ipynb file will not work with the grader. Be sure to download the .py file\n",
        "\n",
        "4. Submit the file to the Coursera grader for assessment."
      ],
      "metadata": {
        "id": "MbfmxYIM1n3t"
      }
    },
    {
      "cell_type": "markdown",
      "source": [
        "## Imports"
      ],
      "metadata": {
        "id": "JEys5ZXDPk4L"
      }
    },
    {
      "cell_type": "code",
      "source": [
        "import datetime\n",
        "import gzip\n",
        "import json"
      ],
      "metadata": {
        "id": "cRE1kTM6PmCQ"
      },
      "execution_count": 232,
      "outputs": []
    },
    {
      "cell_type": "markdown",
      "source": [
        "## Implement match_tweet"
      ],
      "metadata": {
        "id": "K0odiwn4s2c6"
      }
    },
    {
      "cell_type": "code",
      "source": [
        "def match_tweet(tweet, country_codes=None, start_date=None, end_date=None):\n",
        "    \"\"\"Return the boolean value of whether this tweet object matches\n",
        "    the specified parameters.\n",
        "\n",
        "    Supports the following match criteria:\n",
        "\n",
        "      * country_codes (a list of case-insensitive country codes)\n",
        "      * start_date (earliest date of matching tweets)\n",
        "      * end_date (latest date of matching tweets)\n",
        "\n",
        "    `None` values for any parameters, as well as an empty country_code list are\n",
        "    interpreted as \"match all\" for the respective parameter.\n",
        "    \"\"\"\n",
        "   \n",
        "    if 'place' not in tweet and country_codes != None and len(country_codes) > 0: \n",
        "      return False\n",
        "    if 'place' in tweet and tweet[\"place\"] == None and country_codes != None and len(country_codes) > 0:\n",
        "      return False\n",
        "    if 'created_at' not in tweet or tweet[\"created_at\"] == None:\n",
        "      return False\n",
        "  \n",
        "    # parse str to date\n",
        "    created_at = datetime.datetime.strptime(tweet[\"created_at\"], \"%a %b %d %H:%M:%S +0000 %Y\").date()\n",
        "\n",
        "    if country_codes != None and len(country_codes) > 0:\n",
        "      country_codes = [x.lower() for x in country_codes]\n",
        "      if tweet['place']['country_code'].lower() not in country_codes:\n",
        "        return False\n",
        "    else:\n",
        "      if created_at != None and start_date != None:\n",
        "        if created_at < start_date:\n",
        "          return False\n",
        "      if created_at != None and end_date != None:\n",
        "        if created_at > end_date:\n",
        "          return False\n",
        "    return True"
      ],
      "metadata": {
        "id": "h6onyg1Zqjop",
        "cellView": "code"
      },
      "execution_count": 243,
      "outputs": []
    },
    {
      "cell_type": "code",
      "source": [
        "#~~ /autograde # do not delete this code cell"
      ],
      "metadata": {
        "id": "Uoxq6phr2Jfm"
      },
      "execution_count": 234,
      "outputs": []
    },
    {
      "cell_type": "markdown",
      "source": [
        "---\n",
        "### ⚠️  **Caution:** No arbitrary code above this line\n",
        "\n",
        "The only code written above should be the implementation of your graded \n",
        "function. For experimentation and testing, only add code below.\n",
        "\n",
        "---"
      ],
      "metadata": {
        "id": "mOGA9PUO2E0f"
      }
    },
    {
      "cell_type": "markdown",
      "source": [
        "## Testing things out"
      ],
      "metadata": {
        "id": "sV0RJg2Iv813"
      }
    },
    {
      "cell_type": "markdown",
      "source": [
        "A test Tweet with minimal data, and a start and end date are created below for you to test with. You will almost certainly want to create some of your own values for further testing."
      ],
      "metadata": {
        "id": "MAkF4CQs2Pw0"
      }
    },
    {
      "cell_type": "code",
      "source": [
        "test_tweets =  [\n",
        "    {\n",
        "    \"created_at\": \"Fri Nov 11 08:25:03 +0000 2021\",\n",
        "    \"place\": { \"country_code\": \"US\"}},\n",
        "    {\"created_at\": \"Fri Nov 11 08:25:03 +0000 2021\",\n",
        "    \"place\": { \"country_code\": \"BR\"}}\n",
        "]"
      ],
      "metadata": {
        "id": "Bqg7tEBJnUTp"
      },
      "execution_count": 235,
      "outputs": []
    },
    {
      "cell_type": "code",
      "source": [
        "start = datetime.date.fromisoformat(\"2021-11-01\")\n",
        "end = datetime.date.fromisoformat(\"2021-11-30\")"
      ],
      "metadata": {
        "id": "i4RmpkpTigth"
      },
      "execution_count": 236,
      "outputs": []
    },
    {
      "cell_type": "code",
      "source": [
        "for tweet in test_tweets:\n",
        "  print(match_tweet(tweet, country_codes=None, start_date=start, end_date=end))"
      ],
      "metadata": {
        "id": "X3mWRE3iooiq",
        "colab": {
          "base_uri": "https://localhost:8080/"
        },
        "outputId": "8298ce67-fe12-4650-991f-5035866015e4"
      },
      "execution_count": 237,
      "outputs": [
        {
          "output_type": "stream",
          "name": "stdout",
          "text": [
            "True\n",
            "True\n"
          ]
        }
      ]
    },
    {
      "cell_type": "markdown",
      "source": [
        "## Making use of the Tweet matcher: Filtering a set of Tweets"
      ],
      "metadata": {
        "id": "89D7YrnDNbSH"
      }
    },
    {
      "cell_type": "markdown",
      "source": [
        "The code below shows how you might make use of the matching function for filtering a list or a data file of Tweets."
      ],
      "metadata": {
        "id": "8FdMz89g2mWX"
      }
    },
    {
      "cell_type": "markdown",
      "source": [
        "The filter_tweets function uses your match_tweet implementation to filter an iterable of tweets using the provided matching parameters.\n",
        "\n",
        "`filter_tweets` works with an iterable of either JSON strings, or dict objects, so you can use it to parse tweets out of a JSON-L file, but also use it to re-filter the Tweets it returns. We'll see how that works below."
      ],
      "metadata": {
        "id": "ly9VDcGWNibY"
      }
    },
    {
      "cell_type": "code",
      "source": [
        "def filter_tweets(tweets, country_codes=None, start_date=None, end_date=None):\n",
        "    \"\"\"Returns a list of tweets filtered by provided filter criteria.\n",
        "\n",
        "    Currently only supports country_codes filtering. See match_tweet\n",
        "    for details about how match based filtering works.\n",
        "\n",
        "    This function accepts an iterable of tweet objects which may either \n",
        "    be JSON strings, or previously parsed tweet dictionaries.\n",
        "\n",
        "    Yields an iterable of dictionaries.\n",
        "    \"\"\"\n",
        "    count = 0\n",
        "    for i, tweet in enumerate(tweets):\n",
        "      count += 1\n",
        "      if isinstance(tweet, (bytes, str)):\n",
        "        tweet = json.loads(tweet)\n",
        "      if match_tweet(tweet,\n",
        "                       country_codes=country_codes,\n",
        "                       start_date=start_date,\n",
        "                       end_date=end_date):\n",
        "        if i % 200 == 0:\n",
        "          print(f\"Index {i}, {tweet['created_at']}\")\n",
        "        yield tweet\n",
        "    print(count)\n",
        "    "
      ],
      "metadata": {
        "id": "fsl3eds6N7-N"
      },
      "execution_count": 238,
      "outputs": []
    },
    {
      "cell_type": "markdown",
      "source": [
        "> 🐍 **About yield:** \"Yielding\" instead of \"returning\" from a function allows a Python function to iteratively turn out results as it processes them, rather than collecting all the results and returning them at once. This is called a **generator** and is handy particularly when processing large amounts of data. While we convert all the results to lists below for simple testing purposes, in a real application you would probably take advantage of the generator, and process the filtered Tweets as they are yielded by the function."
      ],
      "metadata": {
        "id": "W_AEx4cg22nk"
      }
    },
    {
      "cell_type": "markdown",
      "source": [
        "## 📁 Getting the data file"
      ],
      "metadata": {
        "id": "mEHNA_Tr0IrC"
      }
    },
    {
      "cell_type": "markdown",
      "source": [
        "The code below makes use of a Twitter dataset harvested from the Twitter API and saved in a Gzipped JSON-L file. This is the same file used in the labs and final project for the course.\n",
        "\n",
        "> **💡  JSON-L.** JSON-L is an unofficial yet common format of one JSON document per line in the file. It is typically read by parsing each line of the file as a JSON string.\n",
        "\n",
        "---\n",
        "\n",
        "Before continuing, you will need to:\n",
        "\n",
        " * Download the file from the course resources\n",
        " * Upload it to the root of your Google Drive account"
      ],
      "metadata": {
        "id": "czsn9x900PAn"
      }
    },
    {
      "cell_type": "markdown",
      "source": [
        "## Mount Google Drive"
      ],
      "metadata": {
        "id": "2MxR-LLqjd8_"
      }
    },
    {
      "cell_type": "code",
      "source": [
        "from google.colab import drive\n",
        "drive.mount('/content/drive')"
      ],
      "metadata": {
        "id": "qbAV_s8wjffW",
        "colab": {
          "base_uri": "https://localhost:8080/"
        },
        "outputId": "004e1a97-2965-476d-ce70-b27c27c9bee2"
      },
      "execution_count": 239,
      "outputs": [
        {
          "output_type": "stream",
          "name": "stdout",
          "text": [
            "Drive already mounted at /content/drive; to attempt to forcibly remount, call drive.mount(\"/content/drive\", force_remount=True).\n"
          ]
        }
      ]
    },
    {
      "cell_type": "markdown",
      "source": [
        "## Testing out the filter"
      ],
      "metadata": {
        "id": "2dtb98GEPLxX"
      }
    },
    {
      "cell_type": "code",
      "source": [
        "with gzip.open('drive/MyDrive/nikelululemonadidas_tweets.jsonl.gz') as f:\n",
        "    US_tweets = list(filter_tweets(f, country_codes=[]))"
      ],
      "metadata": {
        "id": "vQBfHnic15F-",
        "colab": {
          "base_uri": "https://localhost:8080/"
        },
        "outputId": "dd600793-5c62-490c-fef9-33f0add31da2"
      },
      "execution_count": 240,
      "outputs": [
        {
          "output_type": "stream",
          "name": "stdout",
          "text": [
            "Index 0, Fri Oct 01 08:25:03 +0000 2021\n",
            "Index 200, Fri Oct 01 15:19:16 +0000 2021\n",
            "Index 400, Fri Oct 01 17:34:00 +0000 2021\n",
            "Index 600, Fri Oct 01 19:14:32 +0000 2021\n",
            "Index 800, Fri Oct 01 23:15:00 +0000 2021\n",
            "Index 1000, Sat Oct 02 01:15:03 +0000 2021\n",
            "Index 1200, Sat Oct 02 10:44:44 +0000 2021\n",
            "Index 1400, Sat Oct 02 15:48:46 +0000 2021\n",
            "Index 1600, Sat Oct 02 19:13:27 +0000 2021\n",
            "Index 1800, Sat Oct 02 23:54:06 +0000 2021\n",
            "Index 2000, Sun Oct 03 02:10:30 +0000 2021\n",
            "Index 2200, Sun Oct 03 13:15:28 +0000 2021\n",
            "Index 2400, Sun Oct 03 18:30:46 +0000 2021\n",
            "Index 2600, Sun Oct 03 22:49:58 +0000 2021\n",
            "Index 2800, Mon Oct 04 02:07:32 +0000 2021\n",
            "Index 3000, Mon Oct 04 12:29:19 +0000 2021\n",
            "Index 3200, Mon Oct 04 14:58:46 +0000 2021\n",
            "Index 3400, Mon Oct 04 17:17:50 +0000 2021\n",
            "Index 3600, Mon Oct 04 19:50:35 +0000 2021\n",
            "Index 3800, Mon Oct 04 22:21:04 +0000 2021\n",
            "Index 4000, Tue Oct 05 01:45:12 +0000 2021\n",
            "Index 4200, Tue Oct 05 05:41:58 +0000 2021\n",
            "Index 4400, Tue Oct 05 13:20:06 +0000 2021\n",
            "Index 4600, Tue Oct 05 15:32:09 +0000 2021\n",
            "Index 4800, Tue Oct 05 18:22:14 +0000 2021\n",
            "Index 5000, Tue Oct 05 20:56:12 +0000 2021\n",
            "Index 5200, Wed Oct 06 00:02:48 +0000 2021\n",
            "Index 5400, Wed Oct 06 04:51:02 +0000 2021\n",
            "Index 5600, Wed Oct 06 13:03:35 +0000 2021\n",
            "Index 5800, Wed Oct 06 15:14:26 +0000 2021\n",
            "Index 6000, Wed Oct 06 17:40:35 +0000 2021\n",
            "Index 6200, Wed Oct 06 18:34:58 +0000 2021\n",
            "Index 6400, Wed Oct 06 19:24:58 +0000 2021\n",
            "Index 6600, Wed Oct 06 20:34:12 +0000 2021\n",
            "Index 6800, Wed Oct 06 21:09:54 +0000 2021\n",
            "Index 7000, Wed Oct 06 22:31:55 +0000 2021\n",
            "Index 7200, Thu Oct 07 00:37:04 +0000 2021\n",
            "Index 7400, Thu Oct 07 03:28:24 +0000 2021\n",
            "Index 7600, Thu Oct 07 10:53:46 +0000 2021\n",
            "Index 7800, Thu Oct 07 14:47:33 +0000 2021\n",
            "Index 8000, Thu Oct 07 16:03:23 +0000 2021\n",
            "Index 8200, Thu Oct 07 17:18:12 +0000 2021\n",
            "Index 8400, Thu Oct 07 18:26:02 +0000 2021\n",
            "Index 8600, Thu Oct 07 19:41:46 +0000 2021\n",
            "Index 8800, Thu Oct 07 20:51:52 +0000 2021\n",
            "Index 9000, Thu Oct 07 22:29:14 +0000 2021\n",
            "Index 9200, Fri Oct 08 00:25:23 +0000 2021\n",
            "Index 9400, Fri Oct 08 02:25:23 +0000 2021\n",
            "Index 9600, Fri Oct 08 05:44:22 +0000 2021\n",
            "Index 9800, Fri Oct 08 14:16:10 +0000 2021\n",
            "Index 10000, Fri Oct 08 16:14:01 +0000 2021\n",
            "Index 10200, Fri Oct 08 18:06:53 +0000 2021\n",
            "Index 10400, Fri Oct 08 20:48:06 +0000 2021\n",
            "Index 10600, Fri Oct 08 22:27:29 +0000 2021\n",
            "Index 10800, Sat Oct 09 02:08:51 +0000 2021\n",
            "Index 11000, Sat Oct 09 11:46:37 +0000 2021\n",
            "Index 11200, Sat Oct 09 15:07:42 +0000 2021\n",
            "Index 11400, Sat Oct 09 17:57:57 +0000 2021\n",
            "Index 11600, Sat Oct 09 23:00:42 +0000 2021\n",
            "Index 11800, Sun Oct 10 01:27:24 +0000 2021\n",
            "Index 12000, Sun Oct 10 13:37:55 +0000 2021\n",
            "Index 12200, Sun Oct 10 16:47:39 +0000 2021\n",
            "Index 12400, Sun Oct 10 22:07:26 +0000 2021\n",
            "Index 12600, Mon Oct 11 04:23:11 +0000 2021\n",
            "Index 12800, Mon Oct 11 13:54:50 +0000 2021\n",
            "Index 13000, Mon Oct 11 18:05:11 +0000 2021\n",
            "Index 13200, Mon Oct 11 19:28:08 +0000 2021\n",
            "Index 13400, Mon Oct 11 23:01:10 +0000 2021\n",
            "Index 13600, Tue Oct 12 00:47:13 +0000 2021\n",
            "Index 13800, Tue Oct 12 05:00:57 +0000 2021\n",
            "Index 14000, Tue Oct 12 14:04:17 +0000 2021\n",
            "Index 14200, Tue Oct 12 16:07:22 +0000 2021\n",
            "Index 14400, Tue Oct 12 18:32:43 +0000 2021\n",
            "Index 14600, Tue Oct 12 22:24:53 +0000 2021\n",
            "Index 14800, Wed Oct 13 01:31:41 +0000 2021\n",
            "Index 15000, Wed Oct 13 08:15:30 +0000 2021\n",
            "Index 15200, Wed Oct 13 14:21:34 +0000 2021\n",
            "Index 15400, Wed Oct 13 18:29:15 +0000 2021\n",
            "Index 15600, Wed Oct 13 19:46:20 +0000 2021\n",
            "Index 15800, Wed Oct 13 21:37:46 +0000 2021\n",
            "Index 16000, Wed Oct 13 21:39:51 +0000 2021\n",
            "Index 16200, Wed Oct 13 21:45:04 +0000 2021\n",
            "Index 16400, Wed Oct 13 21:48:51 +0000 2021\n",
            "Index 16600, Wed Oct 13 21:53:40 +0000 2021\n",
            "Index 16800, Wed Oct 13 21:57:11 +0000 2021\n",
            "Index 17000, Wed Oct 13 22:03:38 +0000 2021\n",
            "Index 17200, Wed Oct 13 22:10:21 +0000 2021\n",
            "Index 17400, Wed Oct 13 22:15:49 +0000 2021\n",
            "Index 17600, Wed Oct 13 22:24:11 +0000 2021\n",
            "Index 17800, Wed Oct 13 22:30:48 +0000 2021\n",
            "Index 18000, Wed Oct 13 22:48:37 +0000 2021\n",
            "Index 18200, Wed Oct 13 22:55:09 +0000 2021\n",
            "Index 18400, Wed Oct 13 23:06:42 +0000 2021\n",
            "Index 18600, Wed Oct 13 23:16:19 +0000 2021\n",
            "Index 18800, Wed Oct 13 23:32:05 +0000 2021\n",
            "Index 19000, Wed Oct 13 23:42:56 +0000 2021\n",
            "Index 19200, Wed Oct 13 23:56:24 +0000 2021\n",
            "Index 19400, Thu Oct 14 00:07:32 +0000 2021\n",
            "Index 19600, Thu Oct 14 00:23:25 +0000 2021\n",
            "Index 19800, Thu Oct 14 00:40:59 +0000 2021\n",
            "Index 20000, Thu Oct 14 00:55:46 +0000 2021\n",
            "Index 20200, Thu Oct 14 01:21:26 +0000 2021\n",
            "Index 20400, Thu Oct 14 01:42:12 +0000 2021\n",
            "Index 20600, Thu Oct 14 02:16:00 +0000 2021\n",
            "Index 20800, Thu Oct 14 02:34:19 +0000 2021\n",
            "Index 21000, Thu Oct 14 03:16:18 +0000 2021\n",
            "Index 21200, Thu Oct 14 04:05:41 +0000 2021\n",
            "Index 21400, Thu Oct 14 05:39:02 +0000 2021\n",
            "Index 21600, Thu Oct 14 08:19:50 +0000 2021\n",
            "Index 21800, Thu Oct 14 10:55:40 +0000 2021\n",
            "Index 22000, Thu Oct 14 12:09:57 +0000 2021\n",
            "Index 22200, Thu Oct 14 13:17:56 +0000 2021\n",
            "Index 22400, Thu Oct 14 14:36:56 +0000 2021\n",
            "Index 22600, Thu Oct 14 15:28:18 +0000 2021\n",
            "Index 22800, Thu Oct 14 16:46:55 +0000 2021\n",
            "Index 23000, Thu Oct 14 17:49:12 +0000 2021\n",
            "Index 23200, Thu Oct 14 18:53:21 +0000 2021\n",
            "Index 23400, Thu Oct 14 19:46:45 +0000 2021\n",
            "Index 23600, Thu Oct 14 21:12:09 +0000 2021\n",
            "Index 23800, Thu Oct 14 22:10:04 +0000 2021\n",
            "Index 24000, Fri Oct 15 00:20:16 +0000 2021\n",
            "Index 24200, Fri Oct 15 01:32:00 +0000 2021\n",
            "Index 24400, Fri Oct 15 04:31:53 +0000 2021\n",
            "Index 24600, Fri Oct 15 11:10:37 +0000 2021\n",
            "Index 24800, Fri Oct 15 13:48:35 +0000 2021\n",
            "Index 25000, Fri Oct 15 14:23:03 +0000 2021\n",
            "Index 25200, Fri Oct 15 15:50:04 +0000 2021\n",
            "Index 25400, Fri Oct 15 18:12:48 +0000 2021\n",
            "Index 25600, Fri Oct 15 19:42:43 +0000 2021\n",
            "Index 25800, Fri Oct 15 22:01:08 +0000 2021\n",
            "Index 26000, Sat Oct 16 00:16:20 +0000 2021\n",
            "Index 26200, Sat Oct 16 13:53:07 +0000 2021\n",
            "Index 26400, Sat Oct 16 16:43:18 +0000 2021\n",
            "Index 26600, Sat Oct 16 20:44:26 +0000 2021\n",
            "Index 26800, Sun Oct 17 00:03:52 +0000 2021\n",
            "Index 27000, Sun Oct 17 07:56:07 +0000 2021\n",
            "Index 27200, Sun Oct 17 16:16:32 +0000 2021\n",
            "Index 27400, Sun Oct 17 18:29:42 +0000 2021\n",
            "Index 27600, Sun Oct 17 22:55:50 +0000 2021\n",
            "Index 27800, Mon Oct 18 02:47:35 +0000 2021\n",
            "Index 28000, Mon Oct 18 10:03:18 +0000 2021\n",
            "Index 28200, Mon Oct 18 10:41:23 +0000 2021\n",
            "Index 28400, Mon Oct 18 12:22:10 +0000 2021\n",
            "Index 28600, Mon Oct 18 14:09:36 +0000 2021\n",
            "Index 28800, Mon Oct 18 15:02:45 +0000 2021\n",
            "Index 29000, Mon Oct 18 15:05:29 +0000 2021\n",
            "Index 29200, Mon Oct 18 15:08:12 +0000 2021\n",
            "Index 29400, Mon Oct 18 15:13:31 +0000 2021\n",
            "Index 29600, Mon Oct 18 15:18:20 +0000 2021\n",
            "Index 29800, Mon Oct 18 15:23:07 +0000 2021\n",
            "Index 30000, Mon Oct 18 15:28:59 +0000 2021\n",
            "Index 30200, Mon Oct 18 15:34:22 +0000 2021\n",
            "Index 30400, Mon Oct 18 15:46:46 +0000 2021\n",
            "Index 30600, Mon Oct 18 15:54:11 +0000 2021\n",
            "Index 30800, Mon Oct 18 16:01:51 +0000 2021\n",
            "Index 31000, Mon Oct 18 16:16:04 +0000 2021\n",
            "Index 31200, Mon Oct 18 16:24:30 +0000 2021\n",
            "Index 31400, Mon Oct 18 16:44:23 +0000 2021\n",
            "Index 31600, Mon Oct 18 16:53:13 +0000 2021\n",
            "Index 31800, Mon Oct 18 17:01:55 +0000 2021\n",
            "Index 32000, Mon Oct 18 17:23:50 +0000 2021\n",
            "Index 32200, Mon Oct 18 17:35:45 +0000 2021\n",
            "Index 32400, Mon Oct 18 17:47:18 +0000 2021\n",
            "Index 32600, Mon Oct 18 18:03:50 +0000 2021\n",
            "Index 32800, Mon Oct 18 18:34:59 +0000 2021\n",
            "Index 33000, Mon Oct 18 19:02:30 +0000 2021\n",
            "Index 33200, Mon Oct 18 19:21:09 +0000 2021\n",
            "Index 33400, Mon Oct 18 19:55:48 +0000 2021\n",
            "Index 33600, Mon Oct 18 20:28:19 +0000 2021\n",
            "Index 33800, Mon Oct 18 20:59:49 +0000 2021\n",
            "Index 34000, Mon Oct 18 21:42:22 +0000 2021\n",
            "Index 34200, Mon Oct 18 22:50:29 +0000 2021\n",
            "Index 34400, Mon Oct 18 23:12:04 +0000 2021\n",
            "Index 34600, Mon Oct 18 23:51:50 +0000 2021\n",
            "Index 34800, Tue Oct 19 00:41:10 +0000 2021\n",
            "Index 35000, Tue Oct 19 01:32:53 +0000 2021\n",
            "Index 35200, Tue Oct 19 02:40:34 +0000 2021\n",
            "Index 35400, Tue Oct 19 03:55:54 +0000 2021\n",
            "Index 35600, Tue Oct 19 05:30:00 +0000 2021\n",
            "Index 35800, Tue Oct 19 07:35:41 +0000 2021\n",
            "Index 36000, Tue Oct 19 09:08:08 +0000 2021\n",
            "Index 36200, Tue Oct 19 12:34:36 +0000 2021\n",
            "Index 36400, Tue Oct 19 13:21:38 +0000 2021\n",
            "Index 36600, Tue Oct 19 14:23:33 +0000 2021\n",
            "Index 36800, Tue Oct 19 15:41:57 +0000 2021\n",
            "Index 37000, Tue Oct 19 16:47:30 +0000 2021\n",
            "Index 37200, Tue Oct 19 17:27:55 +0000 2021\n",
            "Index 37400, Tue Oct 19 19:26:22 +0000 2021\n",
            "Index 37600, Tue Oct 19 21:14:00 +0000 2021\n",
            "Index 37800, Tue Oct 19 22:15:44 +0000 2021\n",
            "Index 38000, Tue Oct 19 23:38:34 +0000 2021\n",
            "Index 38200, Wed Oct 20 02:20:02 +0000 2021\n",
            "Index 38400, Wed Oct 20 03:22:29 +0000 2021\n",
            "Index 38600, Wed Oct 20 07:18:44 +0000 2021\n",
            "Index 38800, Wed Oct 20 13:21:25 +0000 2021\n",
            "Index 39000, Wed Oct 20 16:02:42 +0000 2021\n",
            "Index 39200, Wed Oct 20 17:45:59 +0000 2021\n",
            "Index 39400, Wed Oct 20 19:26:17 +0000 2021\n",
            "Index 39600, Thu Oct 21 00:06:37 +0000 2021\n",
            "Index 39800, Thu Oct 21 00:45:43 +0000 2021\n",
            "Index 40000, Thu Oct 21 03:20:20 +0000 2021\n",
            "Index 40200, Thu Oct 21 12:08:38 +0000 2021\n",
            "Index 40400, Thu Oct 21 14:18:08 +0000 2021\n",
            "Index 40600, Thu Oct 21 15:38:02 +0000 2021\n",
            "Index 40800, Thu Oct 21 17:19:01 +0000 2021\n",
            "Index 41000, Thu Oct 21 20:09:13 +0000 2021\n",
            "Index 41200, Thu Oct 21 23:01:20 +0000 2021\n",
            "Index 41400, Fri Oct 22 00:37:45 +0000 2021\n",
            "Index 41600, Fri Oct 22 03:45:25 +0000 2021\n",
            "Index 41800, Fri Oct 22 10:14:05 +0000 2021\n",
            "Index 42000, Fri Oct 22 14:17:06 +0000 2021\n",
            "Index 42200, Fri Oct 22 16:01:51 +0000 2021\n",
            "Index 42400, Fri Oct 22 17:49:17 +0000 2021\n",
            "Index 42600, Fri Oct 22 19:47:09 +0000 2021\n",
            "Index 42800, Fri Oct 22 22:27:25 +0000 2021\n",
            "Index 43000, Sat Oct 23 03:26:38 +0000 2021\n",
            "Index 43200, Sat Oct 23 11:00:02 +0000 2021\n",
            "Index 43400, Sat Oct 23 16:36:50 +0000 2021\n",
            "Index 43600, Sat Oct 23 20:39:27 +0000 2021\n",
            "Index 43800, Sat Oct 23 22:51:17 +0000 2021\n",
            "Index 44000, Sun Oct 24 02:43:16 +0000 2021\n",
            "Index 44200, Sun Oct 24 09:13:16 +0000 2021\n",
            "Index 44400, Sun Oct 24 15:32:05 +0000 2021\n",
            "Index 44600, Sun Oct 24 20:35:43 +0000 2021\n",
            "Index 44800, Mon Oct 25 00:27:44 +0000 2021\n",
            "Index 45000, Mon Oct 25 03:28:30 +0000 2021\n",
            "Index 45200, Mon Oct 25 14:12:05 +0000 2021\n",
            "Index 45400, Mon Oct 25 17:39:57 +0000 2021\n",
            "Index 45600, Mon Oct 25 19:07:52 +0000 2021\n",
            "Index 45800, Mon Oct 25 19:31:58 +0000 2021\n",
            "Index 46000, Mon Oct 25 19:50:02 +0000 2021\n",
            "Index 46200, Mon Oct 25 20:12:45 +0000 2021\n",
            "Index 46400, Mon Oct 25 20:25:34 +0000 2021\n",
            "Index 46600, Mon Oct 25 20:51:08 +0000 2021\n",
            "Index 46800, Mon Oct 25 21:25:32 +0000 2021\n",
            "Index 47000, Mon Oct 25 21:54:30 +0000 2021\n",
            "Index 47200, Mon Oct 25 22:32:48 +0000 2021\n",
            "Index 47400, Mon Oct 25 23:03:24 +0000 2021\n",
            "Index 47600, Mon Oct 25 23:26:08 +0000 2021\n",
            "Index 47800, Mon Oct 25 23:48:52 +0000 2021\n",
            "Index 48000, Tue Oct 26 00:39:27 +0000 2021\n",
            "Index 48200, Tue Oct 26 01:09:08 +0000 2021\n",
            "Index 48400, Tue Oct 26 01:53:28 +0000 2021\n",
            "Index 48600, Tue Oct 26 02:15:52 +0000 2021\n",
            "Index 48800, Tue Oct 26 02:54:00 +0000 2021\n",
            "Index 49000, Tue Oct 26 03:43:07 +0000 2021\n",
            "Index 49200, Tue Oct 26 04:50:34 +0000 2021\n",
            "Index 49400, Tue Oct 26 07:52:39 +0000 2021\n",
            "Index 49600, Tue Oct 26 11:39:15 +0000 2021\n",
            "Index 49800, Tue Oct 26 12:29:58 +0000 2021\n",
            "Index 50000, Tue Oct 26 13:47:57 +0000 2021\n",
            "Index 50200, Tue Oct 26 14:28:43 +0000 2021\n",
            "Index 50400, Tue Oct 26 15:21:12 +0000 2021\n",
            "Index 50600, Tue Oct 26 16:24:42 +0000 2021\n",
            "Index 50800, Tue Oct 26 17:15:11 +0000 2021\n",
            "Index 51000, Tue Oct 26 18:05:46 +0000 2021\n",
            "Index 51200, Tue Oct 26 18:24:27 +0000 2021\n",
            "Index 51400, Tue Oct 26 18:45:16 +0000 2021\n",
            "Index 51600, Tue Oct 26 19:06:27 +0000 2021\n",
            "Index 51800, Tue Oct 26 19:18:23 +0000 2021\n",
            "Index 52000, Tue Oct 26 19:26:11 +0000 2021\n",
            "Index 52200, Tue Oct 26 19:36:32 +0000 2021\n",
            "Index 52400, Tue Oct 26 19:50:58 +0000 2021\n",
            "Index 52600, Tue Oct 26 19:58:02 +0000 2021\n",
            "Index 52800, Tue Oct 26 20:10:45 +0000 2021\n",
            "Index 53000, Tue Oct 26 20:29:48 +0000 2021\n",
            "Index 53200, Tue Oct 26 20:39:10 +0000 2021\n",
            "Index 53400, Tue Oct 26 20:50:56 +0000 2021\n",
            "Index 53600, Tue Oct 26 21:08:35 +0000 2021\n",
            "Index 53800, Tue Oct 26 21:22:06 +0000 2021\n",
            "Index 54000, Tue Oct 26 21:34:53 +0000 2021\n",
            "Index 54200, Tue Oct 26 21:45:07 +0000 2021\n",
            "Index 54400, Tue Oct 26 21:57:49 +0000 2021\n",
            "Index 54600, Tue Oct 26 22:08:54 +0000 2021\n",
            "Index 54800, Tue Oct 26 22:26:03 +0000 2021\n",
            "Index 55000, Tue Oct 26 22:34:37 +0000 2021\n",
            "Index 55200, Tue Oct 26 22:46:07 +0000 2021\n",
            "Index 55400, Tue Oct 26 22:56:10 +0000 2021\n",
            "Index 55600, Tue Oct 26 23:12:10 +0000 2021\n",
            "Index 55800, Tue Oct 26 23:20:47 +0000 2021\n",
            "Index 56000, Tue Oct 26 23:39:19 +0000 2021\n",
            "Index 56200, Tue Oct 26 23:49:33 +0000 2021\n",
            "Index 56400, Wed Oct 27 00:03:50 +0000 2021\n",
            "Index 56600, Wed Oct 27 00:19:08 +0000 2021\n",
            "Index 56800, Wed Oct 27 00:39:24 +0000 2021\n",
            "Index 57000, Wed Oct 27 00:50:12 +0000 2021\n",
            "Index 57200, Wed Oct 27 01:04:48 +0000 2021\n",
            "Index 57400, Wed Oct 27 01:22:55 +0000 2021\n",
            "Index 57600, Wed Oct 27 01:43:08 +0000 2021\n",
            "Index 57800, Wed Oct 27 01:57:00 +0000 2021\n",
            "Index 58000, Wed Oct 27 02:20:30 +0000 2021\n",
            "Index 58200, Wed Oct 27 02:34:17 +0000 2021\n",
            "Index 58400, Wed Oct 27 03:02:39 +0000 2021\n",
            "Index 58600, Wed Oct 27 03:26:00 +0000 2021\n",
            "Index 58800, Wed Oct 27 04:02:42 +0000 2021\n",
            "Index 59000, Wed Oct 27 04:27:45 +0000 2021\n",
            "Index 59200, Wed Oct 27 05:17:46 +0000 2021\n",
            "Index 59400, Wed Oct 27 06:48:08 +0000 2021\n",
            "Index 59600, Wed Oct 27 08:51:47 +0000 2021\n",
            "Index 59800, Wed Oct 27 10:52:53 +0000 2021\n",
            "Index 60000, Wed Oct 27 11:52:15 +0000 2021\n",
            "Index 60200, Wed Oct 27 12:39:50 +0000 2021\n",
            "Index 60400, Wed Oct 27 13:08:42 +0000 2021\n",
            "Index 60600, Wed Oct 27 13:52:20 +0000 2021\n",
            "Index 60800, Wed Oct 27 14:14:44 +0000 2021\n",
            "Index 61000, Wed Oct 27 14:54:26 +0000 2021\n",
            "Index 61200, Wed Oct 27 15:25:14 +0000 2021\n",
            "Index 61400, Wed Oct 27 16:13:04 +0000 2021\n",
            "Index 61600, Wed Oct 27 16:45:33 +0000 2021\n",
            "Index 61800, Wed Oct 27 18:03:44 +0000 2021\n",
            "Index 62000, Wed Oct 27 18:32:24 +0000 2021\n",
            "Index 62200, Wed Oct 27 19:24:28 +0000 2021\n",
            "Index 62400, Wed Oct 27 20:28:12 +0000 2021\n",
            "Index 62600, Wed Oct 27 21:32:07 +0000 2021\n",
            "Index 62800, Wed Oct 27 22:50:58 +0000 2021\n",
            "Index 63000, Thu Oct 28 00:24:15 +0000 2021\n",
            "Index 63200, Thu Oct 28 01:15:28 +0000 2021\n",
            "Index 63400, Thu Oct 28 02:44:29 +0000 2021\n",
            "Index 63600, Thu Oct 28 04:20:03 +0000 2021\n",
            "Index 63800, Thu Oct 28 09:20:36 +0000 2021\n",
            "Index 64000, Thu Oct 28 13:12:52 +0000 2021\n",
            "Index 64200, Thu Oct 28 14:22:02 +0000 2021\n",
            "Index 64400, Thu Oct 28 15:49:44 +0000 2021\n",
            "Index 64600, Thu Oct 28 17:54:02 +0000 2021\n",
            "Index 64800, Thu Oct 28 19:46:20 +0000 2021\n",
            "Index 65000, Thu Oct 28 21:15:30 +0000 2021\n",
            "Index 65200, Thu Oct 28 21:49:50 +0000 2021\n",
            "Index 65400, Thu Oct 28 23:04:29 +0000 2021\n",
            "Index 65600, Fri Oct 29 00:11:15 +0000 2021\n",
            "Index 65800, Fri Oct 29 01:39:41 +0000 2021\n",
            "Index 66000, Fri Oct 29 03:37:37 +0000 2021\n",
            "Index 66200, Fri Oct 29 10:00:06 +0000 2021\n",
            "Index 66400, Fri Oct 29 13:50:51 +0000 2021\n",
            "Index 66600, Fri Oct 29 15:12:14 +0000 2021\n",
            "Index 66800, Fri Oct 29 16:31:51 +0000 2021\n",
            "Index 67000, Fri Oct 29 18:06:55 +0000 2021\n",
            "Index 67200, Fri Oct 29 20:00:34 +0000 2021\n",
            "Index 67400, Fri Oct 29 23:49:53 +0000 2021\n",
            "Index 67600, Sat Oct 30 01:40:01 +0000 2021\n",
            "Index 67800, Sat Oct 30 06:49:06 +0000 2021\n",
            "Index 68000, Sat Oct 30 11:38:29 +0000 2021\n",
            "Index 68200, Sat Oct 30 15:17:32 +0000 2021\n",
            "Index 68400, Sat Oct 30 17:24:38 +0000 2021\n",
            "Index 68600, Sat Oct 30 20:30:53 +0000 2021\n",
            "Index 68800, Sat Oct 30 23:37:13 +0000 2021\n",
            "Index 69000, Sun Oct 31 01:13:06 +0000 2021\n",
            "Index 69200, Sun Oct 31 03:53:22 +0000 2021\n",
            "Index 69400, Sun Oct 31 07:56:46 +0000 2021\n",
            "Index 69600, Sun Oct 31 14:03:32 +0000 2021\n",
            "Index 69800, Sun Oct 31 16:36:52 +0000 2021\n",
            "Index 70000, Sun Oct 31 20:06:29 +0000 2021\n",
            "Index 70200, Sun Oct 31 23:34:34 +0000 2021\n",
            "Index 70400, Mon Nov 01 01:30:39 +0000 2021\n",
            "Index 70600, Mon Nov 01 13:05:04 +0000 2021\n",
            "Index 70800, Mon Nov 01 14:29:11 +0000 2021\n",
            "Index 71000, Mon Nov 01 15:23:31 +0000 2021\n",
            "Index 71200, Mon Nov 01 16:50:37 +0000 2021\n",
            "Index 71400, Mon Nov 01 20:32:52 +0000 2021\n",
            "Index 71600, Mon Nov 01 22:09:30 +0000 2021\n",
            "Index 71800, Tue Nov 02 01:11:29 +0000 2021\n",
            "Index 72000, Tue Nov 02 04:17:24 +0000 2021\n",
            "Index 72200, Tue Nov 02 11:46:01 +0000 2021\n",
            "Index 72400, Tue Nov 02 16:14:13 +0000 2021\n",
            "Index 72600, Tue Nov 02 18:02:00 +0000 2021\n",
            "Index 72800, Tue Nov 02 19:47:27 +0000 2021\n",
            "Index 73000, Tue Nov 02 21:18:02 +0000 2021\n",
            "Index 73200, Tue Nov 02 23:12:01 +0000 2021\n",
            "Index 73400, Wed Nov 03 01:37:23 +0000 2021\n",
            "Index 73600, Wed Nov 03 03:48:08 +0000 2021\n",
            "Index 73800, Wed Nov 03 07:20:44 +0000 2021\n",
            "Index 74000, Wed Nov 03 14:02:24 +0000 2021\n",
            "Index 74200, Wed Nov 03 15:32:50 +0000 2021\n",
            "Index 74400, Wed Nov 03 16:59:56 +0000 2021\n",
            "Index 74600, Wed Nov 03 18:29:20 +0000 2021\n",
            "Index 74800, Wed Nov 03 21:56:45 +0000 2021\n",
            "Index 75000, Thu Nov 04 00:25:16 +0000 2021\n",
            "Index 75200, Thu Nov 04 04:14:50 +0000 2021\n",
            "Index 75400, Thu Nov 04 13:59:54 +0000 2021\n",
            "Index 75600, Thu Nov 04 15:44:44 +0000 2021\n",
            "Index 75800, Thu Nov 04 17:30:54 +0000 2021\n",
            "Index 76000, Thu Nov 04 19:43:24 +0000 2021\n",
            "Index 76200, Thu Nov 04 21:54:05 +0000 2021\n",
            "Index 76400, Fri Nov 05 00:29:51 +0000 2021\n",
            "Index 76600, Fri Nov 05 02:49:50 +0000 2021\n",
            "Index 76800, Fri Nov 05 11:40:35 +0000 2021\n",
            "Index 77000, Fri Nov 05 14:18:29 +0000 2021\n",
            "Index 77200, Fri Nov 05 15:04:29 +0000 2021\n",
            "Index 77400, Fri Nov 05 16:31:50 +0000 2021\n",
            "Index 77600, Fri Nov 05 18:41:21 +0000 2021\n",
            "Index 77800, Fri Nov 05 20:10:32 +0000 2021\n",
            "Index 78000, Fri Nov 05 23:14:00 +0000 2021\n",
            "Index 78200, Sat Nov 06 03:50:02 +0000 2021\n",
            "Index 78400, Sat Nov 06 12:20:03 +0000 2021\n",
            "Index 78600, Sat Nov 06 15:04:39 +0000 2021\n",
            "Index 78800, Sat Nov 06 19:01:48 +0000 2021\n",
            "Index 79000, Sat Nov 06 21:35:21 +0000 2021\n",
            "Index 79200, Sun Nov 07 01:11:03 +0000 2021\n",
            "Index 79400, Sun Nov 07 07:24:31 +0000 2021\n",
            "Index 79600, Sun Nov 07 14:22:45 +0000 2021\n",
            "Index 79800, Sun Nov 07 16:22:48 +0000 2021\n",
            "Index 80000, Sun Nov 07 19:12:24 +0000 2021\n",
            "Index 80200, Sun Nov 07 21:17:58 +0000 2021\n",
            "Index 80400, Sun Nov 07 23:27:25 +0000 2021\n",
            "Index 80600, Mon Nov 08 01:16:41 +0000 2021\n",
            "Index 80800, Mon Nov 08 03:43:43 +0000 2021\n",
            "Index 81000, Mon Nov 08 06:52:35 +0000 2021\n",
            "Index 81200, Mon Nov 08 13:33:27 +0000 2021\n",
            "Index 81400, Mon Nov 08 15:29:50 +0000 2021\n",
            "Index 81600, Mon Nov 08 18:37:31 +0000 2021\n",
            "Index 81800, Mon Nov 08 20:40:10 +0000 2021\n",
            "Index 82000, Mon Nov 08 23:39:05 +0000 2021\n",
            "Index 82200, Tue Nov 09 02:32:36 +0000 2021\n",
            "Index 82400, Tue Nov 09 07:53:27 +0000 2021\n",
            "Index 82600, Tue Nov 09 13:20:34 +0000 2021\n",
            "Index 82800, Tue Nov 09 16:01:05 +0000 2021\n",
            "Index 83000, Tue Nov 09 18:35:55 +0000 2021\n",
            "Index 83200, Tue Nov 09 20:29:15 +0000 2021\n",
            "Index 83400, Tue Nov 09 23:20:03 +0000 2021\n",
            "Index 83600, Wed Nov 10 00:50:03 +0000 2021\n",
            "Index 83800, Wed Nov 10 04:35:38 +0000 2021\n",
            "Index 84000, Wed Nov 10 13:35:46 +0000 2021\n",
            "Index 84200, Wed Nov 10 15:26:37 +0000 2021\n",
            "Index 84400, Wed Nov 10 16:13:12 +0000 2021\n",
            "Index 84600, Wed Nov 10 19:41:33 +0000 2021\n",
            "Index 84800, Wed Nov 10 21:04:46 +0000 2021\n",
            "Index 85000, Thu Nov 11 00:02:23 +0000 2021\n",
            "Index 85200, Thu Nov 11 03:19:23 +0000 2021\n",
            "Index 85400, Thu Nov 11 10:49:32 +0000 2021\n",
            "Index 85600, Thu Nov 11 15:13:44 +0000 2021\n",
            "Index 85800, Thu Nov 11 17:04:02 +0000 2021\n",
            "Index 86000, Thu Nov 11 19:35:06 +0000 2021\n",
            "Index 86200, Thu Nov 11 21:46:20 +0000 2021\n",
            "Index 86400, Fri Nov 12 00:17:18 +0000 2021\n",
            "Index 86600, Fri Nov 12 03:43:57 +0000 2021\n",
            "Index 86800, Fri Nov 12 11:05:00 +0000 2021\n",
            "Index 87000, Fri Nov 12 15:06:39 +0000 2021\n",
            "Index 87200, Fri Nov 12 16:27:32 +0000 2021\n",
            "Index 87400, Fri Nov 12 18:01:28 +0000 2021\n",
            "Index 87600, Fri Nov 12 18:56:02 +0000 2021\n",
            "Index 87800, Fri Nov 12 20:47:43 +0000 2021\n",
            "Index 88000, Fri Nov 12 22:50:46 +0000 2021\n",
            "Index 88200, Sat Nov 13 01:50:59 +0000 2021\n",
            "Index 88400, Sat Nov 13 05:03:46 +0000 2021\n",
            "Index 88600, Sat Nov 13 14:55:11 +0000 2021\n",
            "Index 88800, Sat Nov 13 17:50:09 +0000 2021\n",
            "Index 89000, Sat Nov 13 18:55:45 +0000 2021\n",
            "Index 89200, Sat Nov 13 21:11:22 +0000 2021\n",
            "Index 89400, Sat Nov 13 23:40:30 +0000 2021\n",
            "Index 89600, Sun Nov 14 02:42:05 +0000 2021\n",
            "Index 89800, Sun Nov 14 13:16:41 +0000 2021\n",
            "Index 90000, Sun Nov 14 17:14:39 +0000 2021\n",
            "Index 90200, Sun Nov 14 20:58:00 +0000 2021\n",
            "Index 90400, Mon Nov 15 03:53:14 +0000 2021\n",
            "Index 90600, Mon Nov 15 12:29:42 +0000 2021\n",
            "Index 90800, Mon Nov 15 16:26:36 +0000 2021\n",
            "Index 91000, Mon Nov 15 17:03:22 +0000 2021\n",
            "Index 91200, Mon Nov 15 18:48:51 +0000 2021\n",
            "Index 91400, Mon Nov 15 22:09:22 +0000 2021\n",
            "Index 91600, Mon Nov 15 23:52:01 +0000 2021\n",
            "Index 91800, Tue Nov 16 02:25:21 +0000 2021\n",
            "Index 92000, Tue Nov 16 03:32:00 +0000 2021\n",
            "Index 92200, Tue Nov 16 11:43:49 +0000 2021\n",
            "Index 92400, Tue Nov 16 15:02:44 +0000 2021\n",
            "Index 92600, Tue Nov 16 19:02:29 +0000 2021\n",
            "Index 92800, Tue Nov 16 21:36:03 +0000 2021\n",
            "Index 93000, Tue Nov 16 23:21:23 +0000 2021\n",
            "Index 93200, Wed Nov 17 03:14:09 +0000 2021\n",
            "Index 93400, Wed Nov 17 09:48:19 +0000 2021\n",
            "Index 93600, Wed Nov 17 16:39:32 +0000 2021\n",
            "Index 93800, Wed Nov 17 19:09:35 +0000 2021\n",
            "Index 94000, Wed Nov 17 21:41:37 +0000 2021\n",
            "Index 94200, Thu Nov 18 01:00:21 +0000 2021\n",
            "Index 94400, Thu Nov 18 03:43:43 +0000 2021\n",
            "Index 94600, Thu Nov 18 08:28:50 +0000 2021\n",
            "Index 94800, Thu Nov 18 16:05:21 +0000 2021\n",
            "Index 95000, Thu Nov 18 17:46:53 +0000 2021\n",
            "Index 95200, Thu Nov 18 18:21:00 +0000 2021\n",
            "Index 95400, Thu Nov 18 19:35:50 +0000 2021\n",
            "Index 95600, Thu Nov 18 20:19:23 +0000 2021\n",
            "Index 95800, Thu Nov 18 21:06:28 +0000 2021\n",
            "Index 96000, Thu Nov 18 21:44:19 +0000 2021\n",
            "Index 96200, Thu Nov 18 22:40:21 +0000 2021\n",
            "Index 96400, Thu Nov 18 23:45:54 +0000 2021\n",
            "Index 96600, Fri Nov 19 00:45:04 +0000 2021\n",
            "Index 96800, Fri Nov 19 01:35:37 +0000 2021\n",
            "Index 97000, Fri Nov 19 03:11:51 +0000 2021\n",
            "Index 97200, Fri Nov 19 04:34:41 +0000 2021\n",
            "Index 97400, Fri Nov 19 06:29:10 +0000 2021\n",
            "Index 97600, Fri Nov 19 11:19:57 +0000 2021\n",
            "Index 97800, Fri Nov 19 13:02:12 +0000 2021\n",
            "Index 98000, Fri Nov 19 14:08:41 +0000 2021\n",
            "Index 98200, Fri Nov 19 15:29:53 +0000 2021\n",
            "Index 98400, Fri Nov 19 16:13:22 +0000 2021\n",
            "Index 98600, Fri Nov 19 17:10:49 +0000 2021\n",
            "Index 98800, Fri Nov 19 18:31:23 +0000 2021\n",
            "Index 99000, Fri Nov 19 20:03:51 +0000 2021\n",
            "Index 99200, Fri Nov 19 21:09:57 +0000 2021\n",
            "Index 99400, Fri Nov 19 22:46:00 +0000 2021\n",
            "Index 99600, Sat Nov 20 00:32:39 +0000 2021\n",
            "Index 99800, Sat Nov 20 01:59:17 +0000 2021\n",
            "Index 100000, Sat Nov 20 03:56:17 +0000 2021\n",
            "Index 100200, Sat Nov 20 06:08:57 +0000 2021\n",
            "Index 100400, Sat Nov 20 12:41:21 +0000 2021\n",
            "Index 100600, Sat Nov 20 14:51:42 +0000 2021\n",
            "Index 100800, Sat Nov 20 15:40:54 +0000 2021\n",
            "Index 101000, Sat Nov 20 17:29:43 +0000 2021\n",
            "Index 101200, Sat Nov 20 19:48:31 +0000 2021\n",
            "Index 101400, Sat Nov 20 21:09:38 +0000 2021\n",
            "Index 101600, Sat Nov 20 23:56:57 +0000 2021\n",
            "Index 101800, Sun Nov 21 01:49:35 +0000 2021\n",
            "Index 102000, Sun Nov 21 03:24:56 +0000 2021\n",
            "Index 102200, Sun Nov 21 12:23:47 +0000 2021\n",
            "Index 102400, Sun Nov 21 14:55:27 +0000 2021\n",
            "Index 102600, Sun Nov 21 16:20:50 +0000 2021\n",
            "Index 102800, Sun Nov 21 19:56:00 +0000 2021\n",
            "Index 103000, Sun Nov 21 22:10:44 +0000 2021\n",
            "Index 103200, Sun Nov 21 23:58:48 +0000 2021\n",
            "Index 103400, Mon Nov 22 00:17:45 +0000 2021\n",
            "Index 103600, Mon Nov 22 00:33:44 +0000 2021\n",
            "Index 103800, Mon Nov 22 01:15:14 +0000 2021\n",
            "Index 104000, Mon Nov 22 02:21:43 +0000 2021\n",
            "Index 104200, Mon Nov 22 03:42:24 +0000 2021\n",
            "Index 104400, Mon Nov 22 05:52:01 +0000 2021\n",
            "Index 104600, Mon Nov 22 10:25:34 +0000 2021\n",
            "Index 104800, Mon Nov 22 13:27:54 +0000 2021\n",
            "Index 105000, Mon Nov 22 15:28:27 +0000 2021\n",
            "Index 105200, Mon Nov 22 17:05:20 +0000 2021\n",
            "Index 105400, Mon Nov 22 18:46:08 +0000 2021\n",
            "Index 105600, Mon Nov 22 20:13:31 +0000 2021\n",
            "Index 105800, Mon Nov 22 22:07:45 +0000 2021\n",
            "Index 106000, Tue Nov 23 00:44:13 +0000 2021\n",
            "Index 106200, Tue Nov 23 02:08:38 +0000 2021\n",
            "Index 106400, Tue Nov 23 04:04:06 +0000 2021\n",
            "Index 106600, Tue Nov 23 13:53:35 +0000 2021\n",
            "Index 106800, Tue Nov 23 17:09:36 +0000 2021\n",
            "Index 107000, Tue Nov 23 18:10:46 +0000 2021\n",
            "Index 107200, Tue Nov 23 20:03:36 +0000 2021\n",
            "Index 107400, Tue Nov 23 22:13:13 +0000 2021\n",
            "Index 107600, Wed Nov 24 00:36:22 +0000 2021\n",
            "Index 107800, Wed Nov 24 03:25:50 +0000 2021\n",
            "Index 108000, Wed Nov 24 09:35:02 +0000 2021\n",
            "Index 108200, Wed Nov 24 15:12:51 +0000 2021\n",
            "Index 108400, Wed Nov 24 15:57:51 +0000 2021\n",
            "Index 108600, Wed Nov 24 18:04:55 +0000 2021\n",
            "Index 108800, Wed Nov 24 20:43:38 +0000 2021\n",
            "Index 109000, Wed Nov 24 23:14:36 +0000 2021\n",
            "Index 109200, Thu Nov 25 01:32:55 +0000 2021\n",
            "Index 109400, Thu Nov 25 04:56:04 +0000 2021\n",
            "Index 109600, Thu Nov 25 13:53:44 +0000 2021\n",
            "Index 109800, Thu Nov 25 16:44:44 +0000 2021\n",
            "Index 110000, Thu Nov 25 20:57:29 +0000 2021\n",
            "Index 110200, Fri Nov 26 02:25:02 +0000 2021\n",
            "Index 110400, Fri Nov 26 09:18:45 +0000 2021\n",
            "Index 110600, Fri Nov 26 15:02:25 +0000 2021\n",
            "Index 110800, Fri Nov 26 15:23:47 +0000 2021\n",
            "Index 111000, Fri Nov 26 17:40:19 +0000 2021\n",
            "Index 111200, Fri Nov 26 19:30:46 +0000 2021\n",
            "Index 111400, Sat Nov 27 00:31:56 +0000 2021\n",
            "Index 111600, Sat Nov 27 03:30:05 +0000 2021\n",
            "Index 111800, Sat Nov 27 14:38:06 +0000 2021\n",
            "Index 112000, Sat Nov 27 16:07:47 +0000 2021\n",
            "Index 112200, Sat Nov 27 19:55:00 +0000 2021\n",
            "Index 112400, Sat Nov 27 23:18:35 +0000 2021\n",
            "Index 112600, Sun Nov 28 00:58:50 +0000 2021\n",
            "Index 112800, Sun Nov 28 09:53:35 +0000 2021\n",
            "Index 113000, Sun Nov 28 15:25:49 +0000 2021\n",
            "Index 113200, Sun Nov 28 18:02:20 +0000 2021\n",
            "Index 113400, Sun Nov 28 19:06:28 +0000 2021\n",
            "Index 113600, Sun Nov 28 21:25:17 +0000 2021\n",
            "Index 113800, Sun Nov 28 22:28:45 +0000 2021\n",
            "Index 114000, Sun Nov 28 23:38:12 +0000 2021\n",
            "Index 114200, Sun Nov 28 23:48:59 +0000 2021\n",
            "Index 114400, Mon Nov 29 00:00:26 +0000 2021\n",
            "Index 114600, Mon Nov 29 00:21:33 +0000 2021\n",
            "Index 114800, Mon Nov 29 00:39:50 +0000 2021\n",
            "Index 115000, Mon Nov 29 01:21:16 +0000 2021\n",
            "Index 115200, Mon Nov 29 01:54:52 +0000 2021\n",
            "Index 115400, Mon Nov 29 02:47:19 +0000 2021\n",
            "Index 115600, Mon Nov 29 04:08:09 +0000 2021\n",
            "Index 115800, Mon Nov 29 07:37:44 +0000 2021\n",
            "Index 116000, Mon Nov 29 11:00:21 +0000 2021\n",
            "Index 116200, Mon Nov 29 15:06:12 +0000 2021\n",
            "Index 116400, Mon Nov 29 17:17:05 +0000 2021\n",
            "Index 116600, Mon Nov 29 18:57:03 +0000 2021\n",
            "Index 116800, Mon Nov 29 21:11:14 +0000 2021\n",
            "Index 117000, Tue Nov 30 00:07:05 +0000 2021\n",
            "Index 117200, Tue Nov 30 01:40:03 +0000 2021\n",
            "Index 117400, Tue Nov 30 03:50:55 +0000 2021\n",
            "Index 117600, Tue Nov 30 05:17:15 +0000 2021\n",
            "Index 117800, Tue Nov 30 13:48:53 +0000 2021\n",
            "Index 118000, Tue Nov 30 15:25:03 +0000 2021\n",
            "Index 118200, Tue Nov 30 18:24:37 +0000 2021\n",
            "Index 118400, Tue Nov 30 20:40:19 +0000 2021\n",
            "Index 118600, Tue Nov 30 23:41:28 +0000 2021\n",
            "Index 118800, Wed Dec 01 02:38:07 +0000 2021\n",
            "Index 119000, Wed Dec 01 04:47:57 +0000 2021\n",
            "Index 119200, Wed Dec 01 09:50:45 +0000 2021\n",
            "Index 119400, Wed Dec 01 14:22:46 +0000 2021\n",
            "Index 119600, Wed Dec 01 16:48:29 +0000 2021\n",
            "Index 119800, Wed Dec 01 18:16:31 +0000 2021\n",
            "Index 120000, Wed Dec 01 20:01:03 +0000 2021\n",
            "Index 120200, Wed Dec 01 22:31:15 +0000 2021\n",
            "Index 120400, Thu Dec 02 00:05:01 +0000 2021\n",
            "Index 120600, Thu Dec 02 02:18:06 +0000 2021\n",
            "Index 120800, Thu Dec 02 06:49:12 +0000 2021\n",
            "Index 121000, Thu Dec 02 13:44:10 +0000 2021\n",
            "Index 121200, Thu Dec 02 16:02:38 +0000 2021\n",
            "Index 121400, Thu Dec 02 17:51:02 +0000 2021\n",
            "Index 121600, Thu Dec 02 19:37:10 +0000 2021\n",
            "Index 121800, Thu Dec 02 22:33:13 +0000 2021\n",
            "Index 122000, Fri Dec 03 00:27:58 +0000 2021\n",
            "Index 122200, Fri Dec 03 02:37:09 +0000 2021\n",
            "Index 122400, Fri Dec 03 03:57:33 +0000 2021\n",
            "Index 122600, Fri Dec 03 07:03:39 +0000 2021\n",
            "Index 122800, Fri Dec 03 13:29:33 +0000 2021\n",
            "Index 123000, Fri Dec 03 15:06:20 +0000 2021\n",
            "Index 123200, Fri Dec 03 16:40:28 +0000 2021\n",
            "Index 123400, Fri Dec 03 18:22:53 +0000 2021\n",
            "Index 123600, Fri Dec 03 21:17:25 +0000 2021\n",
            "Index 123800, Sat Dec 04 00:04:08 +0000 2021\n",
            "Index 124000, Sat Dec 04 02:53:41 +0000 2021\n",
            "Index 124200, Sat Dec 04 05:46:39 +0000 2021\n",
            "Index 124400, Sat Dec 04 15:30:31 +0000 2021\n",
            "Index 124600, Sat Dec 04 17:24:36 +0000 2021\n",
            "Index 124800, Sat Dec 04 21:12:15 +0000 2021\n",
            "Index 125000, Sat Dec 04 23:36:48 +0000 2021\n",
            "Index 125200, Sun Dec 05 03:51:01 +0000 2021\n",
            "Index 125400, Sun Dec 05 13:20:22 +0000 2021\n",
            "Index 125600, Sun Dec 05 17:43:49 +0000 2021\n",
            "Index 125800, Sun Dec 05 20:10:05 +0000 2021\n",
            "Index 126000, Sun Dec 05 23:39:13 +0000 2021\n",
            "Index 126200, Mon Dec 06 02:52:24 +0000 2021\n",
            "Index 126400, Mon Dec 06 05:59:50 +0000 2021\n",
            "Index 126600, Mon Dec 06 15:20:18 +0000 2021\n",
            "Index 126800, Mon Dec 06 17:25:29 +0000 2021\n",
            "Index 127000, Mon Dec 06 19:29:08 +0000 2021\n",
            "Index 127200, Mon Dec 06 22:20:21 +0000 2021\n",
            "Index 127400, Tue Dec 07 00:44:38 +0000 2021\n",
            "Index 127600, Tue Dec 07 02:33:36 +0000 2021\n",
            "Index 127800, Tue Dec 07 10:48:00 +0000 2021\n",
            "Index 128000, Tue Dec 07 15:30:10 +0000 2021\n",
            "Index 128200, Tue Dec 07 19:23:50 +0000 2021\n",
            "Index 128400, Tue Dec 07 21:56:47 +0000 2021\n",
            "Index 128600, Wed Dec 08 01:06:18 +0000 2021\n",
            "Index 128800, Wed Dec 08 02:28:12 +0000 2021\n",
            "Index 129000, Wed Dec 08 06:36:52 +0000 2021\n",
            "Index 129200, Wed Dec 08 15:50:03 +0000 2021\n",
            "Index 129400, Wed Dec 08 17:36:37 +0000 2021\n",
            "Index 129600, Wed Dec 08 20:19:19 +0000 2021\n",
            "Index 129800, Wed Dec 08 21:58:44 +0000 2021\n",
            "Index 130000, Thu Dec 09 01:55:03 +0000 2021\n",
            "Index 130200, Thu Dec 09 03:27:22 +0000 2021\n",
            "Index 130400, Thu Dec 09 04:41:46 +0000 2021\n",
            "Index 130600, Thu Dec 09 13:42:20 +0000 2021\n",
            "Index 130800, Thu Dec 09 15:19:06 +0000 2021\n",
            "Index 131000, Thu Dec 09 16:23:28 +0000 2021\n",
            "Index 131200, Thu Dec 09 16:29:35 +0000 2021\n",
            "Index 131400, Thu Dec 09 16:37:19 +0000 2021\n",
            "Index 131600, Thu Dec 09 16:48:15 +0000 2021\n",
            "Index 131800, Thu Dec 09 16:55:20 +0000 2021\n",
            "Index 132000, Thu Dec 09 17:07:33 +0000 2021\n",
            "Index 132200, Thu Dec 09 17:26:40 +0000 2021\n",
            "Index 132400, Thu Dec 09 17:40:12 +0000 2021\n",
            "Index 132600, Thu Dec 09 18:00:51 +0000 2021\n",
            "Index 132800, Thu Dec 09 18:25:11 +0000 2021\n",
            "Index 133000, Thu Dec 09 18:37:42 +0000 2021\n",
            "Index 133200, Thu Dec 09 19:00:54 +0000 2021\n",
            "Index 133400, Thu Dec 09 19:36:29 +0000 2021\n",
            "Index 133600, Thu Dec 09 19:48:26 +0000 2021\n",
            "Index 133800, Thu Dec 09 20:15:48 +0000 2021\n",
            "Index 134000, Thu Dec 09 20:53:51 +0000 2021\n",
            "Index 134200, Thu Dec 09 21:19:34 +0000 2021\n",
            "Index 134400, Thu Dec 09 22:12:22 +0000 2021\n",
            "Index 134600, Thu Dec 09 22:58:21 +0000 2021\n",
            "Index 134800, Thu Dec 09 23:50:35 +0000 2021\n",
            "Index 135000, Fri Dec 10 00:36:01 +0000 2021\n",
            "Index 135200, Fri Dec 10 01:19:51 +0000 2021\n",
            "Index 135400, Fri Dec 10 02:23:27 +0000 2021\n",
            "Index 135600, Fri Dec 10 03:04:18 +0000 2021\n",
            "Index 135800, Fri Dec 10 04:16:07 +0000 2021\n",
            "Index 136000, Fri Dec 10 06:09:41 +0000 2021\n",
            "Index 136200, Fri Dec 10 08:24:36 +0000 2021\n",
            "Index 136400, Fri Dec 10 12:05:08 +0000 2021\n",
            "Index 136600, Fri Dec 10 14:25:14 +0000 2021\n",
            "Index 136800, Fri Dec 10 15:59:19 +0000 2021\n",
            "Index 137000, Fri Dec 10 17:21:16 +0000 2021\n",
            "Index 137200, Fri Dec 10 19:22:22 +0000 2021\n",
            "Index 137400, Fri Dec 10 21:35:48 +0000 2021\n",
            "Index 137600, Fri Dec 10 23:17:23 +0000 2021\n",
            "Index 137800, Sat Dec 11 00:29:35 +0000 2021\n",
            "Index 138000, Sat Dec 11 02:59:07 +0000 2021\n",
            "Index 138200, Sat Dec 11 05:14:06 +0000 2021\n",
            "Index 138400, Sat Dec 11 11:52:49 +0000 2021\n",
            "Index 138600, Sat Dec 11 15:10:20 +0000 2021\n",
            "Index 138800, Sat Dec 11 15:29:25 +0000 2021\n",
            "Index 139000, Sat Dec 11 16:00:04 +0000 2021\n",
            "Index 139200, Sat Dec 11 17:57:08 +0000 2021\n",
            "Index 139400, Sat Dec 11 20:52:33 +0000 2021\n",
            "Index 139600, Sat Dec 11 22:52:29 +0000 2021\n",
            "Index 139800, Sun Dec 12 02:02:44 +0000 2021\n",
            "Index 140000, Sun Dec 12 06:34:27 +0000 2021\n",
            "Index 140200, Sun Dec 12 14:21:13 +0000 2021\n",
            "Index 140400, Sun Dec 12 16:27:48 +0000 2021\n",
            "Index 140600, Sun Dec 12 18:50:12 +0000 2021\n",
            "Index 140800, Sun Dec 12 22:04:39 +0000 2021\n",
            "Index 141000, Mon Dec 13 01:25:47 +0000 2021\n",
            "Index 141200, Mon Dec 13 04:24:49 +0000 2021\n",
            "Index 141400, Mon Dec 13 11:51:23 +0000 2021\n",
            "Index 141600, Mon Dec 13 15:07:51 +0000 2021\n",
            "Index 141800, Mon Dec 13 18:45:08 +0000 2021\n",
            "Index 142000, Mon Dec 13 20:54:16 +0000 2021\n",
            "Index 142200, Mon Dec 13 21:29:32 +0000 2021\n",
            "Index 142400, Mon Dec 13 21:40:45 +0000 2021\n",
            "Index 142600, Mon Dec 13 21:48:08 +0000 2021\n",
            "Index 142800, Mon Dec 13 21:56:46 +0000 2021\n",
            "Index 143000, Mon Dec 13 22:12:50 +0000 2021\n",
            "Index 143200, Mon Dec 13 22:27:31 +0000 2021\n",
            "Index 143400, Mon Dec 13 22:41:55 +0000 2021\n",
            "Index 143600, Mon Dec 13 23:04:28 +0000 2021\n",
            "Index 143800, Mon Dec 13 23:19:40 +0000 2021\n",
            "Index 144000, Mon Dec 13 23:42:56 +0000 2021\n",
            "Index 144200, Tue Dec 14 00:43:46 +0000 2021\n",
            "Index 144400, Tue Dec 14 01:19:49 +0000 2021\n",
            "Index 144600, Tue Dec 14 02:00:00 +0000 2021\n",
            "Index 144800, Tue Dec 14 02:55:02 +0000 2021\n",
            "Index 145000, Tue Dec 14 03:50:27 +0000 2021\n",
            "Index 145200, Tue Dec 14 04:49:28 +0000 2021\n",
            "Index 145400, Tue Dec 14 06:48:05 +0000 2021\n",
            "Index 145600, Tue Dec 14 09:05:47 +0000 2021\n",
            "Index 145800, Tue Dec 14 12:12:19 +0000 2021\n",
            "Index 146000, Tue Dec 14 13:58:11 +0000 2021\n",
            "Index 146200, Tue Dec 14 15:17:37 +0000 2021\n",
            "Index 146400, Tue Dec 14 15:51:59 +0000 2021\n",
            "Index 146600, Tue Dec 14 17:13:27 +0000 2021\n",
            "Index 146800, Tue Dec 14 17:55:48 +0000 2021\n",
            "Index 147000, Tue Dec 14 19:03:15 +0000 2021\n",
            "Index 147200, Tue Dec 14 19:58:51 +0000 2021\n",
            "Index 147400, Tue Dec 14 20:48:23 +0000 2021\n",
            "Index 147600, Tue Dec 14 21:04:42 +0000 2021\n",
            "Index 147800, Tue Dec 14 21:32:14 +0000 2021\n",
            "Index 148000, Tue Dec 14 22:23:10 +0000 2021\n",
            "Index 148200, Wed Dec 15 00:20:11 +0000 2021\n",
            "Index 148400, Wed Dec 15 00:55:34 +0000 2021\n",
            "Index 148600, Wed Dec 15 02:20:31 +0000 2021\n",
            "Index 148800, Wed Dec 15 04:08:51 +0000 2021\n",
            "Index 149000, Wed Dec 15 07:07:40 +0000 2021\n",
            "Index 149200, Wed Dec 15 10:52:03 +0000 2021\n",
            "Index 149400, Wed Dec 15 14:33:29 +0000 2021\n",
            "Index 149600, Wed Dec 15 17:15:07 +0000 2021\n",
            "Index 149800, Wed Dec 15 18:11:06 +0000 2021\n",
            "Index 150000, Wed Dec 15 20:46:37 +0000 2021\n",
            "Index 150200, Wed Dec 15 22:42:13 +0000 2021\n",
            "Index 150400, Thu Dec 16 00:30:22 +0000 2021\n",
            "Index 150600, Thu Dec 16 02:39:13 +0000 2021\n",
            "Index 150800, Thu Dec 16 04:50:22 +0000 2021\n",
            "Index 151000, Thu Dec 16 11:46:37 +0000 2021\n",
            "Index 151200, Thu Dec 16 13:29:02 +0000 2021\n",
            "Index 151400, Thu Dec 16 15:05:11 +0000 2021\n",
            "Index 151600, Thu Dec 16 15:55:00 +0000 2021\n",
            "Index 151800, Thu Dec 16 16:52:04 +0000 2021\n",
            "Index 152000, Thu Dec 16 17:40:56 +0000 2021\n",
            "Index 152200, Thu Dec 16 18:19:22 +0000 2021\n",
            "Index 152400, Thu Dec 16 19:04:55 +0000 2021\n",
            "Index 152600, Thu Dec 16 19:30:55 +0000 2021\n",
            "Index 152800, Thu Dec 16 20:18:10 +0000 2021\n",
            "Index 153000, Thu Dec 16 21:03:13 +0000 2021\n",
            "Index 153200, Thu Dec 16 22:31:04 +0000 2021\n",
            "Index 153400, Fri Dec 17 00:02:38 +0000 2021\n",
            "Index 153600, Fri Dec 17 02:14:42 +0000 2021\n",
            "Index 153800, Fri Dec 17 03:48:56 +0000 2021\n",
            "Index 154000, Fri Dec 17 10:47:24 +0000 2021\n",
            "Index 154200, Fri Dec 17 14:39:46 +0000 2021\n",
            "Index 154400, Fri Dec 17 17:15:30 +0000 2021\n",
            "Index 154600, Fri Dec 17 18:41:54 +0000 2021\n",
            "Index 154800, Fri Dec 17 20:11:46 +0000 2021\n",
            "Index 155000, Fri Dec 17 22:34:50 +0000 2021\n",
            "Index 155200, Fri Dec 17 23:44:47 +0000 2021\n",
            "Index 155400, Sat Dec 18 01:35:58 +0000 2021\n",
            "Index 155600, Sat Dec 18 03:50:47 +0000 2021\n",
            "Index 155800, Sat Dec 18 07:50:16 +0000 2021\n",
            "Index 156000, Sat Dec 18 11:52:43 +0000 2021\n",
            "Index 156200, Sat Dec 18 15:12:05 +0000 2021\n",
            "Index 156400, Sat Dec 18 17:23:07 +0000 2021\n",
            "Index 156600, Sat Dec 18 19:54:53 +0000 2021\n",
            "Index 156800, Sat Dec 18 22:57:29 +0000 2021\n",
            "Index 157000, Sun Dec 19 01:31:35 +0000 2021\n",
            "Index 157200, Sun Dec 19 04:34:57 +0000 2021\n",
            "Index 157400, Sun Dec 19 06:02:33 +0000 2021\n",
            "Index 157600, Sun Dec 19 14:54:28 +0000 2021\n",
            "Index 157800, Sun Dec 19 16:46:55 +0000 2021\n",
            "Index 158000, Sun Dec 19 20:08:04 +0000 2021\n",
            "Index 158200, Sun Dec 19 23:24:33 +0000 2021\n",
            "Index 158400, Mon Dec 20 03:46:11 +0000 2021\n",
            "Index 158600, Mon Dec 20 13:25:22 +0000 2021\n",
            "Index 158800, Mon Dec 20 16:12:06 +0000 2021\n",
            "Index 159000, Mon Dec 20 19:01:11 +0000 2021\n",
            "Index 159200, Mon Dec 20 21:08:12 +0000 2021\n",
            "Index 159400, Tue Dec 21 00:29:55 +0000 2021\n",
            "Index 159600, Tue Dec 21 02:51:55 +0000 2021\n",
            "Index 159800, Tue Dec 21 09:34:14 +0000 2021\n",
            "Index 160000, Tue Dec 21 14:44:22 +0000 2021\n",
            "Index 160200, Tue Dec 21 17:20:57 +0000 2021\n",
            "Index 160400, Tue Dec 21 18:27:08 +0000 2021\n",
            "Index 160600, Tue Dec 21 20:16:38 +0000 2021\n",
            "Index 160800, Wed Dec 22 01:00:30 +0000 2021\n",
            "Index 161000, Wed Dec 22 03:39:37 +0000 2021\n",
            "Index 161200, Wed Dec 22 13:06:45 +0000 2021\n",
            "Index 161400, Wed Dec 22 16:46:28 +0000 2021\n",
            "Index 161600, Wed Dec 22 18:17:02 +0000 2021\n",
            "Index 161800, Wed Dec 22 20:45:44 +0000 2021\n",
            "Index 162000, Wed Dec 22 23:48:14 +0000 2021\n",
            "Index 162200, Thu Dec 23 03:53:15 +0000 2021\n",
            "Index 162400, Thu Dec 23 10:17:42 +0000 2021\n",
            "Index 162600, Thu Dec 23 16:40:28 +0000 2021\n",
            "Index 162800, Thu Dec 23 17:54:52 +0000 2021\n",
            "Index 163000, Thu Dec 23 20:17:07 +0000 2021\n",
            "Index 163200, Thu Dec 23 22:03:00 +0000 2021\n",
            "Index 163400, Thu Dec 23 23:54:01 +0000 2021\n",
            "Index 163600, Fri Dec 24 00:50:39 +0000 2021\n",
            "Index 163800, Fri Dec 24 02:41:29 +0000 2021\n",
            "Index 164000, Fri Dec 24 06:06:42 +0000 2021\n",
            "Index 164200, Fri Dec 24 11:02:56 +0000 2021\n",
            "Index 164400, Fri Dec 24 15:19:26 +0000 2021\n",
            "Index 164600, Fri Dec 24 17:38:47 +0000 2021\n",
            "Index 164800, Fri Dec 24 20:18:44 +0000 2021\n",
            "Index 165000, Fri Dec 24 22:58:46 +0000 2021\n",
            "Index 165200, Sat Dec 25 02:05:24 +0000 2021\n",
            "Index 165400, Sat Dec 25 08:43:07 +0000 2021\n",
            "Index 165600, Sat Dec 25 15:46:39 +0000 2021\n",
            "Index 165800, Sat Dec 25 19:41:20 +0000 2021\n",
            "Index 166000, Sat Dec 25 22:44:59 +0000 2021\n",
            "Index 166200, Sun Dec 26 03:13:07 +0000 2021\n",
            "Index 166400, Sun Dec 26 14:22:54 +0000 2021\n",
            "Index 166600, Sun Dec 26 17:33:49 +0000 2021\n",
            "Index 166800, Sun Dec 26 22:12:07 +0000 2021\n",
            "Index 167000, Mon Dec 27 00:29:46 +0000 2021\n",
            "Index 167200, Mon Dec 27 13:16:04 +0000 2021\n",
            "Index 167400, Mon Dec 27 16:54:48 +0000 2021\n",
            "Index 167600, Mon Dec 27 19:37:07 +0000 2021\n",
            "Index 167800, Mon Dec 27 23:18:27 +0000 2021\n",
            "Index 168000, Tue Dec 28 03:20:02 +0000 2021\n",
            "Index 168200, Tue Dec 28 11:25:46 +0000 2021\n",
            "Index 168400, Tue Dec 28 16:35:52 +0000 2021\n",
            "Index 168600, Tue Dec 28 19:47:35 +0000 2021\n",
            "Index 168800, Tue Dec 28 22:02:07 +0000 2021\n",
            "Index 169000, Wed Dec 29 00:44:44 +0000 2021\n",
            "Index 169200, Wed Dec 29 03:34:39 +0000 2021\n",
            "Index 169400, Wed Dec 29 08:34:08 +0000 2021\n",
            "Index 169600, Wed Dec 29 12:03:59 +0000 2021\n",
            "Index 169800, Wed Dec 29 14:27:37 +0000 2021\n",
            "Index 170000, Wed Dec 29 15:55:18 +0000 2021\n",
            "Index 170200, Wed Dec 29 17:34:28 +0000 2021\n",
            "Index 170400, Wed Dec 29 18:27:17 +0000 2021\n",
            "Index 170600, Wed Dec 29 20:20:08 +0000 2021\n",
            "Index 170800, Wed Dec 29 22:11:12 +0000 2021\n",
            "Index 171000, Wed Dec 29 23:17:24 +0000 2021\n",
            "Index 171200, Thu Dec 30 01:49:44 +0000 2021\n",
            "Index 171400, Thu Dec 30 03:15:35 +0000 2021\n",
            "Index 171600, Thu Dec 30 06:27:17 +0000 2021\n",
            "Index 171800, Thu Dec 30 14:19:26 +0000 2021\n",
            "Index 172000, Thu Dec 30 15:18:42 +0000 2021\n",
            "Index 172200, Thu Dec 30 15:28:37 +0000 2021\n",
            "Index 172400, Thu Dec 30 15:44:56 +0000 2021\n",
            "Index 172600, Thu Dec 30 16:10:15 +0000 2021\n",
            "Index 172800, Thu Dec 30 17:32:18 +0000 2021\n",
            "Index 173000, Thu Dec 30 18:51:37 +0000 2021\n",
            "Index 173200, Thu Dec 30 20:48:26 +0000 2021\n",
            "Index 173400, Thu Dec 30 22:36:38 +0000 2021\n",
            "Index 173600, Fri Dec 31 01:50:02 +0000 2021\n",
            "Index 173800, Fri Dec 31 05:20:04 +0000 2021\n",
            "Index 174000, Fri Dec 31 12:57:42 +0000 2021\n",
            "Index 174200, Fri Dec 31 16:14:21 +0000 2021\n",
            "Index 174400, Fri Dec 31 18:54:02 +0000 2021\n",
            "Index 174600, Fri Dec 31 21:46:15 +0000 2021\n",
            "Index 174800, Sat Jan 01 00:44:21 +0000 2022\n",
            "Index 175000, Sat Jan 01 05:54:10 +0000 2022\n",
            "175078\n"
          ]
        }
      ]
    },
    {
      "cell_type": "markdown",
      "source": [
        "## Check the count\n",
        "\n",
        "If you have implemented your matching function correctly, the count of US tweets should be **5713**:"
      ],
      "metadata": {
        "id": "M3JhOX85pfGP"
      }
    },
    {
      "cell_type": "code",
      "source": [
        "print(len(US_tweets))"
      ],
      "metadata": {
        "id": "xf_Mzs5TbCXT",
        "colab": {
          "base_uri": "https://localhost:8080/"
        },
        "outputId": "acee25b6-8a3f-4a86-f49a-eb76096c7381"
      },
      "execution_count": 241,
      "outputs": [
        {
          "output_type": "stream",
          "name": "stdout",
          "text": [
            "175078\n"
          ]
        }
      ]
    },
    {
      "cell_type": "markdown",
      "source": [
        "## Refiltering\n",
        "\n",
        "Now, make another pass on the tweets, this time narrowing the selection down by date. You could have passed in all of the filter parameters above, but sometimes iterative filtering like this is useful during a data exploration or analysis."
      ],
      "metadata": {
        "id": "zZ68myPkpt32"
      }
    },
    {
      "cell_type": "code",
      "source": [
        "nov_usa_tweets = list(filter_tweets(US_tweets, start_date=start, end_date=end))"
      ],
      "metadata": {
        "id": "puNKR6nXlpUe",
        "colab": {
          "base_uri": "https://localhost:8080/",
          "height": 311
        },
        "outputId": "464b921e-2390-454f-9927-d564096948a7"
      },
      "execution_count": 242,
      "outputs": [
        {
          "output_type": "error",
          "ename": "TypeError",
          "evalue": "ignored",
          "traceback": [
            "\u001b[0;31m---------------------------------------------------------------------------\u001b[0m",
            "\u001b[0;31mTypeError\u001b[0m                                 Traceback (most recent call last)",
            "\u001b[0;32m<ipython-input-242-0aa8c3717f8f>\u001b[0m in \u001b[0;36m<module>\u001b[0;34m\u001b[0m\n\u001b[0;32m----> 1\u001b[0;31m \u001b[0mnov_usa_tweets\u001b[0m \u001b[0;34m=\u001b[0m \u001b[0mlist\u001b[0m\u001b[0;34m(\u001b[0m\u001b[0mfilter_tweets\u001b[0m\u001b[0;34m(\u001b[0m\u001b[0mUS_tweets\u001b[0m\u001b[0;34m,\u001b[0m \u001b[0mstart_date\u001b[0m\u001b[0;34m=\u001b[0m\u001b[0mstart\u001b[0m\u001b[0;34m,\u001b[0m \u001b[0mend_date\u001b[0m\u001b[0;34m=\u001b[0m\u001b[0mend\u001b[0m\u001b[0;34m)\u001b[0m\u001b[0;34m)\u001b[0m\u001b[0;34m\u001b[0m\u001b[0;34m\u001b[0m\u001b[0m\n\u001b[0m",
            "\u001b[0;32m<ipython-input-238-8993f5aa85ac>\u001b[0m in \u001b[0;36mfilter_tweets\u001b[0;34m(tweets, country_codes, start_date, end_date)\u001b[0m\n\u001b[1;32m     18\u001b[0m                        \u001b[0mcountry_codes\u001b[0m\u001b[0;34m=\u001b[0m\u001b[0mcountry_codes\u001b[0m\u001b[0;34m,\u001b[0m\u001b[0;34m\u001b[0m\u001b[0;34m\u001b[0m\u001b[0m\n\u001b[1;32m     19\u001b[0m                        \u001b[0mstart_date\u001b[0m\u001b[0;34m=\u001b[0m\u001b[0mstart_date\u001b[0m\u001b[0;34m,\u001b[0m\u001b[0;34m\u001b[0m\u001b[0;34m\u001b[0m\u001b[0m\n\u001b[0;32m---> 20\u001b[0;31m                        end_date=end_date):\n\u001b[0m\u001b[1;32m     21\u001b[0m         \u001b[0;32mif\u001b[0m \u001b[0mi\u001b[0m \u001b[0;34m%\u001b[0m \u001b[0;36m200\u001b[0m \u001b[0;34m==\u001b[0m \u001b[0;36m0\u001b[0m\u001b[0;34m:\u001b[0m\u001b[0;34m\u001b[0m\u001b[0;34m\u001b[0m\u001b[0m\n\u001b[1;32m     22\u001b[0m           \u001b[0mprint\u001b[0m\u001b[0;34m(\u001b[0m\u001b[0;34mf\"Index {i}, {tweet['created_at']}\"\u001b[0m\u001b[0;34m)\u001b[0m\u001b[0;34m\u001b[0m\u001b[0;34m\u001b[0m\u001b[0m\n",
            "\u001b[0;32m<ipython-input-233-b45ea48cb7e1>\u001b[0m in \u001b[0;36mmatch_tweet\u001b[0;34m(tweet, country_codes, start_date, end_date)\u001b[0m\n\u001b[1;32m     15\u001b[0m     \u001b[0;32mif\u001b[0m \u001b[0;34m'place'\u001b[0m \u001b[0;32mnot\u001b[0m \u001b[0;32min\u001b[0m \u001b[0mtweet\u001b[0m \u001b[0;32mand\u001b[0m \u001b[0mlen\u001b[0m\u001b[0;34m(\u001b[0m\u001b[0mcountry_codes\u001b[0m\u001b[0;34m)\u001b[0m \u001b[0;34m>\u001b[0m \u001b[0;36m0\u001b[0m\u001b[0;34m:\u001b[0m\u001b[0;34m\u001b[0m\u001b[0;34m\u001b[0m\u001b[0m\n\u001b[1;32m     16\u001b[0m       \u001b[0;32mreturn\u001b[0m \u001b[0;32mFalse\u001b[0m\u001b[0;34m\u001b[0m\u001b[0;34m\u001b[0m\u001b[0m\n\u001b[0;32m---> 17\u001b[0;31m     \u001b[0;32mif\u001b[0m \u001b[0;34m'place'\u001b[0m \u001b[0;32min\u001b[0m \u001b[0mtweet\u001b[0m \u001b[0;32mand\u001b[0m \u001b[0mtweet\u001b[0m\u001b[0;34m[\u001b[0m\u001b[0;34m\"place\"\u001b[0m\u001b[0;34m]\u001b[0m \u001b[0;34m==\u001b[0m \u001b[0;32mNone\u001b[0m \u001b[0;32mand\u001b[0m \u001b[0mlen\u001b[0m\u001b[0;34m(\u001b[0m\u001b[0mcountry_codes\u001b[0m\u001b[0;34m)\u001b[0m \u001b[0;34m>\u001b[0m \u001b[0;36m0\u001b[0m\u001b[0;34m:\u001b[0m\u001b[0;34m\u001b[0m\u001b[0;34m\u001b[0m\u001b[0m\n\u001b[0m\u001b[1;32m     18\u001b[0m       \u001b[0;32mreturn\u001b[0m \u001b[0;32mFalse\u001b[0m\u001b[0;34m\u001b[0m\u001b[0;34m\u001b[0m\u001b[0m\n\u001b[1;32m     19\u001b[0m     \u001b[0;32mif\u001b[0m \u001b[0;34m'created_at'\u001b[0m \u001b[0;32mnot\u001b[0m \u001b[0;32min\u001b[0m \u001b[0mtweet\u001b[0m \u001b[0;32mor\u001b[0m  \u001b[0mtweet\u001b[0m\u001b[0;34m[\u001b[0m\u001b[0;34m\"created_at\"\u001b[0m\u001b[0;34m]\u001b[0m \u001b[0;34m==\u001b[0m \u001b[0;32mNone\u001b[0m\u001b[0;34m:\u001b[0m\u001b[0;34m\u001b[0m\u001b[0;34m\u001b[0m\u001b[0m\n",
            "\u001b[0;31mTypeError\u001b[0m: object of type 'NoneType' has no len()"
          ]
        }
      ]
    },
    {
      "cell_type": "markdown",
      "source": [
        "### Check the count\n",
        "\n",
        "There should be a total of **1713** tweets in the data set that are US Tweets posted in Nov 2021."
      ],
      "metadata": {
        "id": "tW2kBMMzqCNa"
      }
    },
    {
      "cell_type": "code",
      "source": [
        "len(nov_usa_tweets)"
      ],
      "metadata": {
        "id": "Qdmv3JCulywv"
      },
      "execution_count": null,
      "outputs": []
    }
  ]
}