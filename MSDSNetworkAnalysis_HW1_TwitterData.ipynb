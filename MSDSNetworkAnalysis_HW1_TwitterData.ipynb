{
  "nbformat": 4,
  "nbformat_minor": 0,
  "metadata": {
    "colab": {
      "provenance": [],
      "collapsed_sections": [],
      "include_colab_link": true
    },
    "kernelspec": {
      "name": "python3",
      "display_name": "Python 3"
    }
  },
  "cells": [
    {
      "cell_type": "markdown",
      "metadata": {
        "id": "view-in-github",
        "colab_type": "text"
      },
      "source": [
        "<a href=\"https://colab.research.google.com/github/punkmic/Network_Analysis_Twitter/blob/master/MSDSNetworkAnalysis_HW1_TwitterData.ipynb\" target=\"_parent\"><img src=\"https://colab.research.google.com/assets/colab-badge.svg\" alt=\"Open In Colab\"/></a>"
      ]
    },
    {
      "cell_type": "markdown",
      "source": [
        "# MSDS Network Analysis, Homework 1: Twitter data wrangling"
      ],
      "metadata": {
        "id": "Blhvc2teosDj"
      }
    },
    {
      "cell_type": "markdown",
      "source": [
        "## ⚡️ Make a Copy\n",
        "\n",
        "Save a copy of this notebook in your Google Drive before continuing. Be sure to edit your own copy, not the original notebook."
      ],
      "metadata": {
        "id": "YIjMSV2y4rna"
      }
    },
    {
      "cell_type": "markdown",
      "source": [
        "## 🏁 We are working toward a goal: the final project"
      ],
      "metadata": {
        "id": "R0dxMCbrGkVI"
      }
    },
    {
      "cell_type": "markdown",
      "source": [
        "Please take a moment to review the requirements for the upcoming final project for this course. The homework assignments and coding labs are designed to step you toward the goal of preparing to complete your final project."
      ],
      "metadata": {
        "id": "GBTs-_v7Go2x"
      }
    },
    {
      "cell_type": "markdown",
      "source": [
        "## Working with Twitter data"
      ],
      "metadata": {
        "id": "_W2TItPIpZIw"
      }
    },
    {
      "cell_type": "markdown",
      "source": [
        "Social media data tends to have a lot of metadata. When doing an analysis, you can take advantage of the richness of this data toward the end of slicing it up to meet the needs for your project."
      ],
      "metadata": {
        "id": "I_BTKgMPo_pa"
      }
    },
    {
      "cell_type": "markdown",
      "source": [
        "In this assignment, you will practice working with Twitter API data by implementing a function for matching Tweets to a given set of metadata parameters. We'll then take a look at how you can use that function for filtering Tweets to a specific subset.\n",
        "\n",
        "> 💡 Before continuing, take a moment to get familiar with the structure of the [Tweet object model](https://developer.twitter.com/en/docs/twitter-api/v1/data-dictionary/object-model/tweet)"
      ],
      "metadata": {
        "id": "tPDRAo7mpfyE"
      }
    },
    {
      "cell_type": "markdown",
      "source": [
        "### 📝 Completing the assignment"
      ],
      "metadata": {
        "id": "6KcmA3Hpz5Vf"
      }
    },
    {
      "cell_type": "markdown",
      "source": [
        "> **⚠️  Don't code outside the lines.** Keep your function implementation code inside the function blocks. Be sure not to write any code above the `/autorade` delimiter other than the specified function code. Any experimentation or testing code should go below the `/autograde` indicator, and will be ignored by the grader."
      ],
      "metadata": {
        "id": "DTr17HArz0r3"
      }
    },
    {
      "cell_type": "markdown",
      "source": [
        "## Defining the match critera"
      ],
      "metadata": {
        "id": "0WJTCtDKp6lx"
      }
    },
    {
      "cell_type": "markdown",
      "source": [
        "Take a look at the Twitter documentation referenced above, and determine what fields you will need to complete this assignment. In this assignment, you will be implementing a function called `match_tweet` which determines if a Tweet matches the set of matching parameters:\n",
        "\n",
        " * **country_codes:** If provided and non-empty, is the Tweet's country code in this list of provided country codes?\n",
        " * **start_date:** If provided, is the date of Tweet's `created_at` date greater than or equal to this date?\n",
        " * **end_date:** If provided, is the date of the Tweet's `created_at` date less than or equal to this date?\n",
        "\n",
        "\n",
        "Let's consider further details about matching before jumping into the implementation."
      ],
      "metadata": {
        "id": "_8TKxPBSqB1s"
      }
    },
    {
      "cell_type": "markdown",
      "source": [
        "## 🌎 Matching by country code"
      ],
      "metadata": {
        "id": "XRH47lCNsuyz"
      }
    },
    {
      "cell_type": "markdown",
      "source": [
        "The following criteria should be implemented in your function for matching to the country code:\n",
        "\n",
        " * If the country_code parameter is `None` or an empty list the function should match any Tweet regardless of country code.\n",
        " * Country codes should be matched in a case-insensitive way. E.g. \"US\" is equivalent to \"us\". However, \"US\" and \"USA\" are not considered to be matches -- the case-insensitive match should be exact.\n",
        " * If this parameter is provided and the Tweet's country code is not in the list of provided country codes, the function should return False regardless of the other match parameters."
      ],
      "metadata": {
        "id": "Wt5uSN8Gs0cW"
      }
    },
    {
      "cell_type": "markdown",
      "source": [
        "## 📅 Matching by date"
      ],
      "metadata": {
        "id": "GIx8f53wuEE8"
      }
    },
    {
      "cell_type": "markdown",
      "source": [
        "The `start_date` and `end_date` parameters are used to determine if the Tweet was created within a specific date range. One of these parameters may be provide to match an open-ended range, or neither of them to match all Tweets.\n",
        "\n",
        "Use the following criteria when matching by date:\n",
        "\n",
        " * The \"date\" of a Tweet is the date component of the `created_at` timestamp of the Tweet (see below for info about working with dates)\n",
        " * start_date and end_date are both inclusive matches. E.g. a Tweet created on 2021-11-01 will match either a start_date or an end_date of 2021-11-01\n",
        " * `None` for either date parameter means \"no limit\" in that direction. By this criterion, `None` for both parameters means: \"match all Tweets\"\n",
        " * If date parameters are provided and the Tweet does not match, the function should return False regardless of other matching parameters."
      ],
      "metadata": {
        "id": "vgh6PEi4uIqp"
      }
    },
    {
      "cell_type": "markdown",
      "source": [
        "### 🐍 Working with Tweet timestamps as dates"
      ],
      "metadata": {
        "id": "t3G0RgETx21v"
      }
    },
    {
      "cell_type": "markdown",
      "source": [
        "The following code snippet can be used to parse a Tweet's created_at time into a datetime object:\n",
        "\n",
        "```\n",
        "    dt = datetime.strptime(tweet[\"created_at\"], \"%a %b %d %H:%M:%S +0000 %Y\")\n",
        "```\n",
        "\n",
        "You can then get just a date object from that by calling the `.date()` method on the datetime object:\n",
        "\n",
        "```\n",
        "    dt = dt.date()\n",
        "```"
      ],
      "metadata": {
        "id": "KlP9apDMh78l"
      }
    },
    {
      "cell_type": "markdown",
      "source": [
        "## ⚡️ Getting started"
      ],
      "metadata": {
        "id": "IXJLl_JByPjN"
      }
    },
    {
      "cell_type": "markdown",
      "source": [
        "You should now be ready to go. To complete the assignment:\n",
        "\n",
        " 1. Complete the implementation of the `match_tweet` function.\n",
        "\n",
        "    The function definition line is created for you below. Your job is to complete the function so that it works to specification.\n",
        "\n",
        "2. Write any exploratory and testing code only below the `/autograde` note.\n",
        "\n",
        "3. Download the completed notebook as a .py file:\n",
        "\n",
        "    File > Download > Download .py\n",
        "\n",
        "    ⚠️ The .ipynb file will not work with the grader. Be sure to download the .py file\n",
        "\n",
        "4. Submit the file to the Coursera grader for assessment."
      ],
      "metadata": {
        "id": "MbfmxYIM1n3t"
      }
    },
    {
      "cell_type": "markdown",
      "source": [
        "## Imports"
      ],
      "metadata": {
        "id": "JEys5ZXDPk4L"
      }
    },
    {
      "cell_type": "code",
      "source": [
        "import datetime\n",
        "import gzip\n",
        "import json"
      ],
      "metadata": {
        "id": "cRE1kTM6PmCQ"
      },
      "execution_count": 1,
      "outputs": []
    },
    {
      "cell_type": "markdown",
      "source": [
        "## Implement match_tweet"
      ],
      "metadata": {
        "id": "K0odiwn4s2c6"
      }
    },
    {
      "cell_type": "code",
      "source": [
        "from prompt_toolkit.application.run_in_terminal import Return\n",
        "def match_tweet(tweet, country_codes=None, start_date=None, end_date=None):\n",
        "    \"\"\"Return the boolean value of whether this tweet object matches\n",
        "    the specified parameters.\n",
        "\n",
        "    Supports the following match criteria:\n",
        "\n",
        "      * country_codes (a list of case-insensitive country codes)\n",
        "      * start_date (earliest date of matching tweets)\n",
        "      * end_date (latest date of matching tweets)\n",
        "\n",
        "    `None` values for any parameters, as well as an empty country_code list are\n",
        "    interpreted as \"match all\" for the respective parameter.\n",
        "    \"\"\"\n",
        "\n",
        "    # parse str to date\n",
        "    if tweet[\"created_at\"] != None:\n",
        "      created_at = datetime.datetime.strptime(tweet[\"created_at\"], \"%a %b %d %H:%M:%S +0000 %Y\").date()\n",
        "\n",
        "    # lower country codes\n",
        "    if country_codes != None:\n",
        "      country_codes = [x.lower() for x in country_codes]\n",
        "    if created_at != None and start_date != None:\n",
        "      if created_at <= start_date:\n",
        "        return False\n",
        "    if created_at != None and end_date != None:\n",
        "      if created_at >= end_date:\n",
        "        return False\n",
        "    if tweet['place'] == None:\n",
        "      return False\n",
        "    if country_codes != None and len(country_codes) > 0:\n",
        "       if tweet['place']['country_code'].lower() not in country_codes:\n",
        "         return False\n",
        "    return True"
      ],
      "metadata": {
        "id": "h6onyg1Zqjop"
      },
      "execution_count": 2,
      "outputs": []
    },
    {
      "cell_type": "code",
      "source": [
        "#~~ /autograde # do not delete this code cell"
      ],
      "metadata": {
        "id": "Uoxq6phr2Jfm"
      },
      "execution_count": 3,
      "outputs": []
    },
    {
      "cell_type": "markdown",
      "source": [
        "---\n",
        "### ⚠️  **Caution:** No arbitrary code above this line\n",
        "\n",
        "The only code written above should be the implementation of your graded \n",
        "function. For experimentation and testing, only add code below.\n",
        "\n",
        "---"
      ],
      "metadata": {
        "id": "mOGA9PUO2E0f"
      }
    },
    {
      "cell_type": "markdown",
      "source": [
        "## Testing things out"
      ],
      "metadata": {
        "id": "sV0RJg2Iv813"
      }
    },
    {
      "cell_type": "markdown",
      "source": [
        "A test Tweet with minimal data, and a start and end date are created below for you to test with. You will almost certainly want to create some of your own values for further testing."
      ],
      "metadata": {
        "id": "MAkF4CQs2Pw0"
      }
    },
    {
      "cell_type": "code",
      "source": [
        "test_tweet =  {\n",
        "    \"created_at\": \"Fri Nov 11 08:25:03 +0000 2021\",\n",
        "    \"place\": { \"country_code\": \"US\"}\n",
        "}"
      ],
      "metadata": {
        "id": "Bqg7tEBJnUTp"
      },
      "execution_count": 4,
      "outputs": []
    },
    {
      "cell_type": "code",
      "source": [
        "start = datetime.date.fromisoformat(\"2021-11-01\")\n",
        "end = datetime.date.fromisoformat(\"2021-11-30\")"
      ],
      "metadata": {
        "id": "i4RmpkpTigth"
      },
      "execution_count": 5,
      "outputs": []
    },
    {
      "cell_type": "code",
      "source": [
        "match_tweet(test_tweet, country_codes=[\"US\"], start_date=start, end_date=end)"
      ],
      "metadata": {
        "id": "X3mWRE3iooiq",
        "colab": {
          "base_uri": "https://localhost:8080/"
        },
        "outputId": "9ccb6fdc-812c-469f-fc30-e73f7dd80772"
      },
      "execution_count": 6,
      "outputs": [
        {
          "output_type": "execute_result",
          "data": {
            "text/plain": [
              "True"
            ]
          },
          "metadata": {},
          "execution_count": 6
        }
      ]
    },
    {
      "cell_type": "markdown",
      "source": [
        "## Making use of the Tweet matcher: Filtering a set of Tweets"
      ],
      "metadata": {
        "id": "89D7YrnDNbSH"
      }
    },
    {
      "cell_type": "markdown",
      "source": [
        "The code below shows how you might make use of the matching function for filtering a list or a data file of Tweets."
      ],
      "metadata": {
        "id": "8FdMz89g2mWX"
      }
    },
    {
      "cell_type": "markdown",
      "source": [
        "The filter_tweets function uses your match_tweet implementation to filter an iterable of tweets using the provided matching parameters.\n",
        "\n",
        "`filter_tweets` works with an iterable of either JSON strings, or dict objects, so you can use it to parse tweets out of a JSON-L file, but also use it to re-filter the Tweets it returns. We'll see how that works below."
      ],
      "metadata": {
        "id": "ly9VDcGWNibY"
      }
    },
    {
      "cell_type": "code",
      "source": [
        "def filter_tweets(tweets, country_codes=None, start_date=None, end_date=None):\n",
        "    \"\"\"Returns a list of tweets filtered by provided filter criteria.\n",
        "\n",
        "    Currently only supports country_codes filtering. See match_tweet\n",
        "    for details about how match based filtering works.\n",
        "\n",
        "    This function accepts an iterable of tweet objects which may either \n",
        "    be JSON strings, or previously parsed tweet dictionaries.\n",
        "\n",
        "    Yields an iterable of dictionaries.\n",
        "    \"\"\"\n",
        "    for i, tweet in enumerate(tweets):\n",
        "      if isinstance(tweet, (bytes, str)):\n",
        "        tweet = json.loads(tweet)\n",
        "      if i % 10000 == 0:\n",
        "        print('Match:', match_tweet(tweet,\n",
        "                       country_codes=country_codes,\n",
        "                       start_date=start_date,\n",
        "                       end_date=end_date))\n",
        "      if match_tweet(tweet,\n",
        "                       country_codes=country_codes,\n",
        "                       start_date=start_date,\n",
        "                       end_date=end_date):\n",
        "        yield tweet\n",
        "    "
      ],
      "metadata": {
        "id": "fsl3eds6N7-N"
      },
      "execution_count": 7,
      "outputs": []
    },
    {
      "cell_type": "markdown",
      "source": [
        "> 🐍 **About yield:** \"Yielding\" instead of \"returning\" from a function allows a Python function to iteratively turn out results as it processes them, rather than collecting all the results and returning them at once. This is called a **generator** and is handy particularly when processing large amounts of data. While we convert all the results to lists below for simple testing purposes, in a real application you would probably take advantage of the generator, and process the filtered Tweets as they are yielded by the function."
      ],
      "metadata": {
        "id": "W_AEx4cg22nk"
      }
    },
    {
      "cell_type": "markdown",
      "source": [
        "## 📁 Getting the data file"
      ],
      "metadata": {
        "id": "mEHNA_Tr0IrC"
      }
    },
    {
      "cell_type": "markdown",
      "source": [
        "The code below makes use of a Twitter dataset harvested from the Twitter API and saved in a Gzipped JSON-L file. This is the same file used in the labs and final project for the course.\n",
        "\n",
        "> **💡  JSON-L.** JSON-L is an unofficial yet common format of one JSON document per line in the file. It is typically read by parsing each line of the file as a JSON string.\n",
        "\n",
        "---\n",
        "\n",
        "Before continuing, you will need to:\n",
        "\n",
        " * Download the file from the course resources\n",
        " * Upload it to the root of your Google Drive account"
      ],
      "metadata": {
        "id": "czsn9x900PAn"
      }
    },
    {
      "cell_type": "markdown",
      "source": [
        "## Mount Google Drive"
      ],
      "metadata": {
        "id": "2MxR-LLqjd8_"
      }
    },
    {
      "cell_type": "code",
      "source": [
        "from google.colab import drive\n",
        "drive.mount('/content/drive')"
      ],
      "metadata": {
        "id": "qbAV_s8wjffW",
        "colab": {
          "base_uri": "https://localhost:8080/"
        },
        "outputId": "80e8259b-141d-4d57-e965-a3ac34fe6bca"
      },
      "execution_count": 8,
      "outputs": [
        {
          "output_type": "stream",
          "name": "stdout",
          "text": [
            "Drive already mounted at /content/drive; to attempt to forcibly remount, call drive.mount(\"/content/drive\", force_remount=True).\n"
          ]
        }
      ]
    },
    {
      "cell_type": "markdown",
      "source": [
        "## Testing out the filter"
      ],
      "metadata": {
        "id": "2dtb98GEPLxX"
      }
    },
    {
      "cell_type": "code",
      "source": [
        "with gzip.open('drive/MyDrive/nikelululemonadidas_tweets.jsonl.gz') as f:\n",
        "    US_tweets = list(filter_tweets(f, country_codes=[\"us\"]))"
      ],
      "metadata": {
        "id": "vQBfHnic15F-",
        "colab": {
          "base_uri": "https://localhost:8080/"
        },
        "outputId": "43687789-6465-4356-c1f6-5c39da700e87"
      },
      "execution_count": 9,
      "outputs": [
        {
          "output_type": "stream",
          "name": "stdout",
          "text": [
            "{'created_at': 'Fri Oct 01 08:25:03 +0000 2021', 'id': 1443854459625431000, 'id_str': '1443854459625431041', 'full_text': \"#ad The Nike Women's Air More Uptempo 96 'White/Opti Yellow' is now available via @footlocker! |$160| #SneakerScouts @Nike https://t.co/5lAq7b2ffU https://t.co/wmjxIcsheP\", 'truncated': False, 'display_text_range': [0, 146], 'entities': {'hashtags': [{'text': 'ad', 'indices': [0, 3]}, {'text': 'SneakerScouts', 'indices': [102, 116]}], 'symbols': [], 'user_mentions': [{'screen_name': 'footlocker', 'name': 'Foot Locker', 'id': 22030851, 'id_str': '22030851', 'indices': [82, 93]}, {'screen_name': 'Nike', 'name': 'Nike', 'id': 415859364, 'id_str': '415859364', 'indices': [117, 122]}], 'urls': [{'url': 'https://t.co/5lAq7b2ffU', 'expanded_url': 'https://www.footlocker.com/product/~/D3035100.html?irclickid=R9hRvy2vcxyLWQd07OwzdzZ-UkBTPTz1QxOkxU0&sid=8259&cm_mmc=Affiliate-_-SneakerScouts-_--_-Content-_--_--_-p-_--_--_--_--_--_-ONLINE_TRACKING_LINK-_--_-Online%20Tracking%20Link-_--_-&irgwc=1', 'display_url': 'footlocker.com/product/~/D303…', 'indices': [123, 146]}], 'media': [{'id': 1443854458404941800, 'id_str': '1443854458404941827', 'indices': [147, 170], 'media_url': 'http://pbs.twimg.com/media/FAmZ-uSXMAMy-iz.png', 'media_url_https': 'https://pbs.twimg.com/media/FAmZ-uSXMAMy-iz.png', 'url': 'https://t.co/wmjxIcsheP', 'display_url': 'pic.twitter.com/wmjxIcsheP', 'expanded_url': 'https://twitter.com/SneakerScouts/status/1443854459625431041/photo/1', 'type': 'photo', 'sizes': {'medium': {'w': 847, 'h': 619, 'resize': 'fit'}, 'large': {'w': 847, 'h': 619, 'resize': 'fit'}, 'small': {'w': 680, 'h': 497, 'resize': 'fit'}, 'thumb': {'w': 150, 'h': 150, 'resize': 'crop'}}}]}, 'extended_entities': {'media': [{'id': 1443854458404941800, 'id_str': '1443854458404941827', 'indices': [147, 170], 'media_url': 'http://pbs.twimg.com/media/FAmZ-uSXMAMy-iz.png', 'media_url_https': 'https://pbs.twimg.com/media/FAmZ-uSXMAMy-iz.png', 'url': 'https://t.co/wmjxIcsheP', 'display_url': 'pic.twitter.com/wmjxIcsheP', 'expanded_url': 'https://twitter.com/SneakerScouts/status/1443854459625431041/photo/1', 'type': 'photo', 'sizes': {'medium': {'w': 847, 'h': 619, 'resize': 'fit'}, 'large': {'w': 847, 'h': 619, 'resize': 'fit'}, 'small': {'w': 680, 'h': 497, 'resize': 'fit'}, 'thumb': {'w': 150, 'h': 150, 'resize': 'crop'}}}]}, 'source': '<a href=\"https://www.hootsuite.com\" rel=\"nofollow\">Hootsuite Inc.</a>', 'in_reply_to_status_id': None, 'in_reply_to_status_id_str': None, 'in_reply_to_user_id': None, 'in_reply_to_user_id_str': None, 'in_reply_to_screen_name': None, 'user': {'id': 792182745942233100, 'id_str': '792182745942233089', 'name': '#SneakerScouts', 'screen_name': 'SneakerScouts', 'location': '', 'description': 'The #1 source for sneaker news, release dates, sales, and general information! info@SneakerScouts.com  #SneakerScouts', 'url': 'https://t.co/YBERhCCwh7', 'entities': {'url': {'urls': [{'url': 'https://t.co/YBERhCCwh7', 'expanded_url': 'http://www.SneakerScouts.com', 'display_url': 'SneakerScouts.com', 'indices': [0, 23]}]}, 'description': {'urls': []}}, 'protected': False, 'followers_count': 18262, 'friends_count': 6397, 'listed_count': 82, 'created_at': 'Sat Oct 29 01:54:19 +0000 2016', 'favourites_count': 169294, 'utc_offset': None, 'time_zone': None, 'geo_enabled': False, 'verified': False, 'statuses_count': 301804, 'lang': None, 'contributors_enabled': False, 'is_translator': False, 'is_translation_enabled': False, 'profile_background_color': '000000', 'profile_background_image_url': 'http://abs.twimg.com/images/themes/theme1/bg.png', 'profile_background_image_url_https': 'https://abs.twimg.com/images/themes/theme1/bg.png', 'profile_background_tile': False, 'profile_image_url': 'http://pbs.twimg.com/profile_images/971422898886868992/K3R78VcP_normal.jpg', 'profile_image_url_https': 'https://pbs.twimg.com/profile_images/971422898886868992/K3R78VcP_normal.jpg', 'profile_banner_url': 'https://pbs.twimg.com/profile_banners/792182745942233089/1540175194', 'profile_link_color': '000000', 'profile_sidebar_border_color': '000000', 'profile_sidebar_fill_color': '000000', 'profile_text_color': '000000', 'profile_use_background_image': False, 'has_extended_profile': False, 'default_profile': False, 'default_profile_image': False, 'following': False, 'follow_request_sent': False, 'notifications': False, 'translator_type': 'none', 'withheld_in_countries': []}, 'geo': None, 'coordinates': None, 'place': None, 'contributors': None, 'is_quote_status': False, 'retweet_count': 2, 'favorite_count': 3, 'favorited': False, 'retweeted': False, 'possibly_sensitive': False, 'lang': 'en'}\n",
            "False\n",
            "{'created_at': 'Fri Oct 08 16:14:01 +0000 2021', 'id': 1446509196325838800, 'id_str': '1446509196325838853', 'full_text': 'When your @nike order arrives and it looks like someone messed with it. SMH. I’m missing some stuff, too. https://t.co/OdjmzEN0Uu', 'truncated': False, 'display_text_range': [0, 105], 'entities': {'hashtags': [], 'symbols': [], 'user_mentions': [{'screen_name': 'Nike', 'name': 'Nike', 'id': 415859364, 'id_str': '415859364', 'indices': [10, 15]}], 'urls': [], 'media': [{'id': 1446509191812849700, 'id_str': '1446509191812849671', 'indices': [106, 129], 'media_url': 'http://pbs.twimg.com/media/FBMIci5XoAcGDaj.jpg', 'media_url_https': 'https://pbs.twimg.com/media/FBMIci5XoAcGDaj.jpg', 'url': 'https://t.co/OdjmzEN0Uu', 'display_url': 'pic.twitter.com/OdjmzEN0Uu', 'expanded_url': 'https://twitter.com/elbowjimmy/status/1446509196325838853/photo/1', 'type': 'photo', 'sizes': {'large': {'w': 1536, 'h': 2048, 'resize': 'fit'}, 'thumb': {'w': 150, 'h': 150, 'resize': 'crop'}, 'medium': {'w': 900, 'h': 1200, 'resize': 'fit'}, 'small': {'w': 510, 'h': 680, 'resize': 'fit'}}}]}, 'extended_entities': {'media': [{'id': 1446509191812849700, 'id_str': '1446509191812849671', 'indices': [106, 129], 'media_url': 'http://pbs.twimg.com/media/FBMIci5XoAcGDaj.jpg', 'media_url_https': 'https://pbs.twimg.com/media/FBMIci5XoAcGDaj.jpg', 'url': 'https://t.co/OdjmzEN0Uu', 'display_url': 'pic.twitter.com/OdjmzEN0Uu', 'expanded_url': 'https://twitter.com/elbowjimmy/status/1446509196325838853/photo/1', 'type': 'photo', 'sizes': {'large': {'w': 1536, 'h': 2048, 'resize': 'fit'}, 'thumb': {'w': 150, 'h': 150, 'resize': 'crop'}, 'medium': {'w': 900, 'h': 1200, 'resize': 'fit'}, 'small': {'w': 510, 'h': 680, 'resize': 'fit'}}}]}, 'source': '<a href=\"http://twitter.com/download/iphone\" rel=\"nofollow\">Twitter for iPhone</a>', 'in_reply_to_status_id': None, 'in_reply_to_status_id_str': None, 'in_reply_to_user_id': None, 'in_reply_to_user_id_str': None, 'in_reply_to_screen_name': None, 'user': {'id': 43639223, 'id_str': '43639223', 'name': '🐼', 'screen_name': 'elbowjimmy', 'location': '562 | 914', 'description': '', 'url': None, 'entities': {'description': {'urls': []}}, 'protected': False, 'followers_count': 362, 'friends_count': 455, 'listed_count': 2, 'created_at': 'Sun May 31 04:12:56 +0000 2009', 'favourites_count': 9526, 'utc_offset': None, 'time_zone': None, 'geo_enabled': True, 'verified': False, 'statuses_count': 6764, 'lang': None, 'contributors_enabled': False, 'is_translator': False, 'is_translation_enabled': False, 'profile_background_color': 'F7FAFA', 'profile_background_image_url': 'http://abs.twimg.com/images/themes/theme1/bg.png', 'profile_background_image_url_https': 'https://abs.twimg.com/images/themes/theme1/bg.png', 'profile_background_tile': False, 'profile_image_url': 'http://pbs.twimg.com/profile_images/1308227731256233986/_Mrl11kH_normal.jpg', 'profile_image_url_https': 'https://pbs.twimg.com/profile_images/1308227731256233986/_Mrl11kH_normal.jpg', 'profile_banner_url': 'https://pbs.twimg.com/profile_banners/43639223/1398316495', 'profile_link_color': '0084B4', 'profile_sidebar_border_color': 'FFFFFF', 'profile_sidebar_fill_color': 'DDFFCC', 'profile_text_color': '333333', 'profile_use_background_image': True, 'has_extended_profile': True, 'default_profile': False, 'default_profile_image': False, 'following': False, 'follow_request_sent': False, 'notifications': False, 'translator_type': 'none', 'withheld_in_countries': []}, 'geo': None, 'coordinates': None, 'place': None, 'contributors': None, 'is_quote_status': False, 'retweet_count': 0, 'favorite_count': 0, 'favorited': False, 'retweeted': False, 'possibly_sensitive': False, 'lang': 'en'}\n",
            "False\n",
            "{'created_at': 'Thu Oct 14 00:55:46 +0000 2021', 'id': 1448452435698229200, 'id_str': '1448452435698229252', 'full_text': '@AustinEkeler @adidas @adidasFballUS 10,130 10 for Herbert, 13 for Keenan and 30  for you', 'truncated': False, 'display_text_range': [37, 89], 'entities': {'hashtags': [], 'symbols': [], 'user_mentions': [{'screen_name': 'AustinEkeler', 'name': 'Austin Ekeler', 'id': 2614016599, 'id_str': '2614016599', 'indices': [0, 13]}, {'screen_name': 'adidas', 'name': 'adidas', 'id': 300114634, 'id_str': '300114634', 'indices': [14, 21]}, {'screen_name': 'adidasFballUS', 'name': 'adidas Football US', 'id': 2249043324, 'id_str': '2249043324', 'indices': [22, 36]}], 'urls': []}, 'source': '<a href=\"http://twitter.com/download/iphone\" rel=\"nofollow\">Twitter for iPhone</a>', 'in_reply_to_status_id': 1448402125906595800, 'in_reply_to_status_id_str': '1448402125906595843', 'in_reply_to_user_id': 2614016599, 'in_reply_to_user_id_str': '2614016599', 'in_reply_to_screen_name': 'AustinEkeler', 'user': {'id': 264955791, 'id_str': '264955791', 'name': 'C', 'screen_name': 'Rebel_Devl', 'location': 'Dallas, TX', 'description': '#HottyToddy', 'url': None, 'entities': {'description': {'urls': []}}, 'protected': False, 'followers_count': 170, 'friends_count': 410, 'listed_count': 1, 'created_at': 'Sat Mar 12 19:02:50 +0000 2011', 'favourites_count': 4127, 'utc_offset': None, 'time_zone': None, 'geo_enabled': False, 'verified': False, 'statuses_count': 4186, 'lang': None, 'contributors_enabled': False, 'is_translator': False, 'is_translation_enabled': False, 'profile_background_color': '131516', 'profile_background_image_url': 'http://abs.twimg.com/images/themes/theme14/bg.gif', 'profile_background_image_url_https': 'https://abs.twimg.com/images/themes/theme14/bg.gif', 'profile_background_tile': True, 'profile_image_url': 'http://pbs.twimg.com/profile_images/1272892966064009218/V8lxAksr_normal.jpg', 'profile_image_url_https': 'https://pbs.twimg.com/profile_images/1272892966064009218/V8lxAksr_normal.jpg', 'profile_banner_url': 'https://pbs.twimg.com/profile_banners/264955791/1601404137', 'profile_link_color': '009999', 'profile_sidebar_border_color': 'FFFFFF', 'profile_sidebar_fill_color': 'EFEFEF', 'profile_text_color': '333333', 'profile_use_background_image': True, 'has_extended_profile': False, 'default_profile': False, 'default_profile_image': False, 'following': False, 'follow_request_sent': False, 'notifications': False, 'translator_type': 'none', 'withheld_in_countries': []}, 'geo': None, 'coordinates': None, 'place': None, 'contributors': None, 'is_quote_status': False, 'retweet_count': 0, 'favorite_count': 0, 'favorited': False, 'retweeted': False, 'lang': 'en'}\n",
            "False\n",
            "{'created_at': 'Mon Oct 18 15:28:59 +0000 2021', 'id': 1450121738944139300, 'id_str': '1450121738944139270', 'full_text': '@Xbox @adidas @Hyperkin #XboxSweepstakes', 'truncated': False, 'display_text_range': [24, 40], 'entities': {'hashtags': [{'text': 'XboxSweepstakes', 'indices': [24, 40]}], 'symbols': [], 'user_mentions': [{'screen_name': 'Xbox', 'name': 'Xbox', 'id': 24742040, 'id_str': '24742040', 'indices': [0, 5]}, {'screen_name': 'adidas', 'name': 'adidas', 'id': 300114634, 'id_str': '300114634', 'indices': [6, 13]}, {'screen_name': 'Hyperkin', 'name': 'Hyperkin', 'id': 205438045, 'id_str': '205438045', 'indices': [14, 23]}], 'urls': []}, 'source': '<a href=\"http://twitter.com/download/iphone\" rel=\"nofollow\">Twitter for iPhone</a>', 'in_reply_to_status_id': 1450114602801541000, 'in_reply_to_status_id_str': '1450114602801541126', 'in_reply_to_user_id': 24742040, 'in_reply_to_user_id_str': '24742040', 'in_reply_to_screen_name': 'Xbox', 'user': {'id': 1955116766, 'id_str': '1955116766', 'name': 'Gabe \\uf8ff', 'screen_name': 'therealgabec_', 'location': '', 'description': '21 | Love Yourself 💜 I make YouTube videos for fun! check them out below :) 👇🏼', 'url': 'https://t.co/hEQg0Gk842', 'entities': {'url': {'urls': [{'url': 'https://t.co/hEQg0Gk842', 'expanded_url': 'https://www.youtube.com/channel/UCEupisgnMXMOouY_tUi9JmA', 'display_url': 'youtube.com/channel/UCEupi…', 'indices': [0, 23]}]}, 'description': {'urls': []}}, 'protected': False, 'followers_count': 594, 'friends_count': 478, 'listed_count': 9, 'created_at': 'Fri Oct 11 21:21:23 +0000 2013', 'favourites_count': 15068, 'utc_offset': None, 'time_zone': None, 'geo_enabled': True, 'verified': False, 'statuses_count': 9587, 'lang': None, 'contributors_enabled': False, 'is_translator': False, 'is_translation_enabled': False, 'profile_background_color': 'C0DEED', 'profile_background_image_url': 'http://abs.twimg.com/images/themes/theme1/bg.png', 'profile_background_image_url_https': 'https://abs.twimg.com/images/themes/theme1/bg.png', 'profile_background_tile': False, 'profile_image_url': 'http://pbs.twimg.com/profile_images/1435430446612033539/9K4dcTRo_normal.jpg', 'profile_image_url_https': 'https://pbs.twimg.com/profile_images/1435430446612033539/9K4dcTRo_normal.jpg', 'profile_banner_url': 'https://pbs.twimg.com/profile_banners/1955116766/1588809238', 'profile_link_color': '1DA1F2', 'profile_sidebar_border_color': 'C0DEED', 'profile_sidebar_fill_color': 'DDEEF6', 'profile_text_color': '333333', 'profile_use_background_image': True, 'has_extended_profile': True, 'default_profile': True, 'default_profile_image': False, 'following': False, 'follow_request_sent': False, 'notifications': False, 'translator_type': 'none', 'withheld_in_countries': []}, 'geo': None, 'coordinates': None, 'place': None, 'contributors': None, 'is_quote_status': False, 'retweet_count': 0, 'favorite_count': 0, 'favorited': False, 'retweeted': False, 'lang': 'und'}\n",
            "False\n",
            "{'created_at': 'Thu Oct 21 03:20:20 +0000 2021', 'id': 1451025532586500000, 'id_str': '1451025532586500098', 'full_text': 'RT @Xbox: Three icons: @adidas, Xbox, and you.\\n\\nFollow &amp; RT with #XboxSweepstakes for a chance to win this exclusive kit including the Xbox…', 'truncated': False, 'display_text_range': [0, 144], 'entities': {'hashtags': [{'text': 'XboxSweepstakes', 'indices': [69, 85]}], 'symbols': [], 'user_mentions': [{'screen_name': 'Xbox', 'name': 'Xbox', 'id': 24742040, 'id_str': '24742040', 'indices': [3, 8]}, {'screen_name': 'adidas', 'name': 'adidas', 'id': 300114634, 'id_str': '300114634', 'indices': [23, 30]}], 'urls': []}, 'source': '<a href=\"https://mobile.twitter.com\" rel=\"nofollow\">Twitter Web App</a>', 'in_reply_to_status_id': None, 'in_reply_to_status_id_str': None, 'in_reply_to_user_id': None, 'in_reply_to_user_id_str': None, 'in_reply_to_screen_name': None, 'user': {'id': 69263599, 'id_str': '69263599', 'name': 'addo', 'screen_name': 'addo619', 'location': '', 'description': '', 'url': None, 'entities': {'description': {'urls': []}}, 'protected': False, 'followers_count': 5, 'friends_count': 88, 'listed_count': 1, 'created_at': 'Thu Aug 27 11:15:40 +0000 2009', 'favourites_count': 408, 'utc_offset': None, 'time_zone': None, 'geo_enabled': False, 'verified': False, 'statuses_count': 403, 'lang': None, 'contributors_enabled': False, 'is_translator': False, 'is_translation_enabled': False, 'profile_background_color': 'C0DEED', 'profile_background_image_url': 'http://abs.twimg.com/images/themes/theme1/bg.png', 'profile_background_image_url_https': 'https://abs.twimg.com/images/themes/theme1/bg.png', 'profile_background_tile': False, 'profile_image_url': 'http://pbs.twimg.com/profile_images/1233865061418098688/mJyQR9Fc_normal.jpg', 'profile_image_url_https': 'https://pbs.twimg.com/profile_images/1233865061418098688/mJyQR9Fc_normal.jpg', 'profile_banner_url': 'https://pbs.twimg.com/profile_banners/69263599/1583011332', 'profile_link_color': '1DA1F2', 'profile_sidebar_border_color': 'C0DEED', 'profile_sidebar_fill_color': 'DDEEF6', 'profile_text_color': '333333', 'profile_use_background_image': True, 'has_extended_profile': False, 'default_profile': True, 'default_profile_image': False, 'following': False, 'follow_request_sent': False, 'notifications': False, 'translator_type': 'none', 'withheld_in_countries': []}, 'geo': None, 'coordinates': None, 'place': None, 'contributors': None, 'retweeted_status': {'created_at': 'Mon Oct 18 15:00:37 +0000 2021', 'id': 1450114602801541000, 'id_str': '1450114602801541126', 'full_text': 'Three icons: @adidas, Xbox, and you.\\n\\nFollow &amp; RT with #XboxSweepstakes for a chance to win this exclusive kit including the Xbox 20th Forum Tech shoe, a custom Xbox Series X, and the next-generation @Hyperkin Duke\\n\\nEnds 10/23/21. Rules: https://t.co/0iKPYTlhJe | #Xbox20 https://t.co/7ytiTAtqXM', 'truncated': False, 'display_text_range': [0, 275], 'entities': {'hashtags': [{'text': 'XboxSweepstakes', 'indices': [59, 75]}, {'text': 'Xbox20', 'indices': [268, 275]}], 'symbols': [], 'user_mentions': [{'screen_name': 'adidas', 'name': 'adidas', 'id': 300114634, 'id_str': '300114634', 'indices': [13, 20]}, {'screen_name': 'Hyperkin', 'name': 'Hyperkin', 'id': 205438045, 'id_str': '205438045', 'indices': [204, 213]}], 'urls': [{'url': 'https://t.co/0iKPYTlhJe', 'expanded_url': 'https://xbx.lv/2Z5Cp9J', 'display_url': 'xbx.lv/2Z5Cp9J', 'indices': [242, 265]}], 'media': [{'id': 1450114597151719400, 'id_str': '1450114597151719433', 'indices': [276, 299], 'media_url': 'http://pbs.twimg.com/media/FB_XiwbWQAk1Vl4.jpg', 'media_url_https': 'https://pbs.twimg.com/media/FB_XiwbWQAk1Vl4.jpg', 'url': 'https://t.co/7ytiTAtqXM', 'display_url': 'pic.twitter.com/7ytiTAtqXM', 'expanded_url': 'https://twitter.com/Xbox/status/1450114602801541126/photo/1', 'type': 'photo', 'sizes': {'small': {'w': 680, 'h': 383, 'resize': 'fit'}, 'thumb': {'w': 150, 'h': 150, 'resize': 'crop'}, 'large': {'w': 2048, 'h': 1152, 'resize': 'fit'}, 'medium': {'w': 1200, 'h': 675, 'resize': 'fit'}}}]}, 'extended_entities': {'media': [{'id': 1450114597151719400, 'id_str': '1450114597151719433', 'indices': [276, 299], 'media_url': 'http://pbs.twimg.com/media/FB_XiwbWQAk1Vl4.jpg', 'media_url_https': 'https://pbs.twimg.com/media/FB_XiwbWQAk1Vl4.jpg', 'url': 'https://t.co/7ytiTAtqXM', 'display_url': 'pic.twitter.com/7ytiTAtqXM', 'expanded_url': 'https://twitter.com/Xbox/status/1450114602801541126/photo/1', 'type': 'photo', 'sizes': {'small': {'w': 680, 'h': 383, 'resize': 'fit'}, 'thumb': {'w': 150, 'h': 150, 'resize': 'crop'}, 'large': {'w': 2048, 'h': 1152, 'resize': 'fit'}, 'medium': {'w': 1200, 'h': 675, 'resize': 'fit'}}}]}, 'source': '<a href=\"https://sproutsocial.com\" rel=\"nofollow\">Sprout Social</a>', 'in_reply_to_status_id': None, 'in_reply_to_status_id_str': None, 'in_reply_to_user_id': None, 'in_reply_to_user_id_str': None, 'in_reply_to_screen_name': None, 'user': {'id': 24742040, 'id_str': '24742040', 'name': 'Xbox', 'screen_name': 'Xbox', 'location': 'The Nearest Outpost ', 'description': 'Fighting the Banished \\u200b', 'url': 'https://t.co/C1bIH66H1K', 'entities': {'url': {'urls': [{'url': 'https://t.co/C1bIH66H1K', 'expanded_url': 'http://Xbox.com', 'display_url': 'Xbox.com', 'indices': [0, 23]}]}, 'description': {'urls': []}}, 'protected': False, 'followers_count': 17391439, 'friends_count': 16247, 'listed_count': 20294, 'created_at': 'Mon Mar 16 18:30:52 +0000 2009', 'favourites_count': 4252, 'utc_offset': None, 'time_zone': None, 'geo_enabled': False, 'verified': True, 'statuses_count': 285803, 'lang': None, 'contributors_enabled': False, 'is_translator': False, 'is_translation_enabled': False, 'profile_background_color': '107C10', 'profile_background_image_url': 'http://abs.twimg.com/images/themes/theme14/bg.gif', 'profile_background_image_url_https': 'https://abs.twimg.com/images/themes/theme14/bg.gif', 'profile_background_tile': True, 'profile_image_url': 'http://pbs.twimg.com/profile_images/1467539427236859906/GOfdPCCc_normal.jpg', 'profile_image_url_https': 'https://pbs.twimg.com/profile_images/1467539427236859906/GOfdPCCc_normal.jpg', 'profile_banner_url': 'https://pbs.twimg.com/profile_banners/24742040/1638987278', 'profile_link_color': '107C10', 'profile_sidebar_border_color': '000000', 'profile_sidebar_fill_color': 'EFEFEF', 'profile_text_color': '333333', 'profile_use_background_image': False, 'has_extended_profile': True, 'default_profile': False, 'default_profile_image': False, 'following': False, 'follow_request_sent': False, 'notifications': False, 'translator_type': 'none', 'withheld_in_countries': []}, 'geo': None, 'coordinates': None, 'place': None, 'contributors': None, 'is_quote_status': False, 'retweet_count': 19396, 'favorite_count': 21965, 'favorited': False, 'retweeted': False, 'possibly_sensitive': False, 'lang': 'en'}, 'is_quote_status': False, 'retweet_count': 19396, 'favorite_count': 0, 'favorited': False, 'retweeted': False, 'lang': 'en'}\n",
            "False\n",
            "{'created_at': 'Tue Oct 26 13:47:57 +0000 2021', 'id': 1452995417562620000, 'id_str': '1452995417562619911', 'full_text': 'RT @EnesKanter: Dear @Nike\\n\\nStop the modern day SLAVERY, now!!!\\n\\n#HypocriteNike\\n\\n#EndUyghurForcedLabor https://t.co/tvX2k3wE4X', 'truncated': False, 'display_text_range': [0, 126], 'entities': {'hashtags': [{'text': 'HypocriteNike', 'indices': [65, 79]}, {'text': 'EndUyghurForcedLabor', 'indices': [81, 102]}], 'symbols': [], 'user_mentions': [{'screen_name': 'Nike', 'name': 'Nike', 'id': 415859364, 'id_str': '415859364', 'indices': [21, 26]}], 'urls': [], 'media': [{'id': 1452704335608090600, 'id_str': '1452704335608090626', 'indices': [103, 126], 'media_url': 'http://pbs.twimg.com/amplify_video_thumb/1452704335608090626/img/iGN1ulIggWjDd6mN.jpg', 'media_url_https': 'https://pbs.twimg.com/amplify_video_thumb/1452704335608090626/img/iGN1ulIggWjDd6mN.jpg', 'url': 'https://t.co/tvX2k3wE4X', 'display_url': 'pic.twitter.com/tvX2k3wE4X', 'expanded_url': 'https://twitter.com/EnesKanter/status/1452712106843910148/video/1', 'type': 'photo', 'sizes': {'thumb': {'w': 150, 'h': 150, 'resize': 'crop'}, 'large': {'w': 848, 'h': 480, 'resize': 'fit'}, 'medium': {'w': 848, 'h': 480, 'resize': 'fit'}, 'small': {'w': 680, 'h': 385, 'resize': 'fit'}}, 'source_status_id': 1452712106843910100, 'source_status_id_str': '1452712106843910148', 'source_user_id': 302111485, 'source_user_id_str': '302111485'}]}, 'extended_entities': {'media': [{'id': 1452704335608090600, 'id_str': '1452704335608090626', 'indices': [103, 126], 'media_url': 'http://pbs.twimg.com/amplify_video_thumb/1452704335608090626/img/iGN1ulIggWjDd6mN.jpg', 'media_url_https': 'https://pbs.twimg.com/amplify_video_thumb/1452704335608090626/img/iGN1ulIggWjDd6mN.jpg', 'url': 'https://t.co/tvX2k3wE4X', 'display_url': 'pic.twitter.com/tvX2k3wE4X', 'expanded_url': 'https://twitter.com/EnesKanter/status/1452712106843910148/video/1', 'type': 'video', 'sizes': {'thumb': {'w': 150, 'h': 150, 'resize': 'crop'}, 'large': {'w': 848, 'h': 480, 'resize': 'fit'}, 'medium': {'w': 848, 'h': 480, 'resize': 'fit'}, 'small': {'w': 680, 'h': 385, 'resize': 'fit'}}, 'source_status_id': 1452712106843910100, 'source_status_id_str': '1452712106843910148', 'source_user_id': 302111485, 'source_user_id_str': '302111485', 'video_info': {'aspect_ratio': [53, 30], 'duration_millis': 189300, 'variants': [{'bitrate': 832000, 'content_type': 'video/mp4', 'url': 'https://video.twimg.com/amplify_video/1452704335608090626/vid/636x360/2nreUASv8IdOAioS.mp4?tag=14'}, {'bitrate': 2176000, 'content_type': 'video/mp4', 'url': 'https://video.twimg.com/amplify_video/1452704335608090626/vid/848x480/9AVrnslO5pi8lEJ0.mp4?tag=14'}, {'content_type': 'application/x-mpegURL', 'url': 'https://video.twimg.com/amplify_video/1452704335608090626/pl/1GZ3AQQvZMfzNAhO.m3u8?tag=14&container=fmp4'}, {'bitrate': 288000, 'content_type': 'video/mp4', 'url': 'https://video.twimg.com/amplify_video/1452704335608090626/vid/476x270/X5jBnzY8SjJo-I2O.mp4?tag=14'}]}, 'additional_media_info': {'title': '', 'description': '', 'embeddable': True, 'monetizable': False, 'source_user': {'id': 302111485, 'id_str': '302111485', 'name': 'Enes Kanter FREEDOM', 'screen_name': 'EnesFreedom', 'location': '', 'description': '~ FREEDOM IS NOT FREE ~ https://t.co/CkmvW2ZVgo & https://t.co/Y4XBHi291W', 'url': None, 'entities': {'description': {'urls': [{'url': 'https://t.co/CkmvW2ZVgo', 'expanded_url': 'http://Instagram.com/enesfreedom/', 'display_url': 'Instagram.com/enesfreedom/', 'indices': [24, 47]}, {'url': 'https://t.co/Y4XBHi291W', 'expanded_url': 'http://facebook.com/EnesKanterFreedom', 'display_url': 'facebook.com/EnesKanterFree…', 'indices': [50, 73]}]}}, 'protected': False, 'followers_count': 587066, 'friends_count': 0, 'listed_count': 1996, 'created_at': 'Fri May 20 16:29:14 +0000 2011', 'favourites_count': 15, 'utc_offset': None, 'time_zone': None, 'geo_enabled': True, 'verified': True, 'statuses_count': 11815, 'lang': None, 'contributors_enabled': False, 'is_translator': False, 'is_translation_enabled': False, 'profile_background_color': 'C0DEED', 'profile_background_image_url': 'http://abs.twimg.com/images/themes/theme1/bg.png', 'profile_background_image_url_https': 'https://abs.twimg.com/images/themes/theme1/bg.png', 'profile_background_tile': True, 'profile_image_url': 'http://pbs.twimg.com/profile_images/1450637239969538053/QlF2le48_normal.jpg', 'profile_image_url_https': 'https://pbs.twimg.com/profile_images/1450637239969538053/QlF2le48_normal.jpg', 'profile_banner_url': 'https://pbs.twimg.com/profile_banners/302111485/1632950587', 'profile_link_color': '0084B4', 'profile_sidebar_border_color': 'C0DEED', 'profile_sidebar_fill_color': 'DDEEF6', 'profile_text_color': '333333', 'profile_use_background_image': True, 'has_extended_profile': False, 'default_profile': False, 'default_profile_image': False, 'following': False, 'follow_request_sent': False, 'notifications': False, 'translator_type': 'none', 'withheld_in_countries': ['TR']}}}]}, 'source': '<a href=\"http://twitter.com/download/iphone\" rel=\"nofollow\">Twitter for iPhone</a>', 'in_reply_to_status_id': None, 'in_reply_to_status_id_str': None, 'in_reply_to_user_id': None, 'in_reply_to_user_id_str': None, 'in_reply_to_screen_name': None, 'user': {'id': 883767102, 'id_str': '883767102', 'name': 'TheBruns', 'screen_name': 'bruns_the', 'location': 'Bay Area, CA', 'description': \"I will fight for someone I don't know, as I believe in quality of life for all people, not just a few. The power of the people can change everything. #NotMeUs\", 'url': None, 'entities': {'description': {'urls': []}}, 'protected': False, 'followers_count': 2426, 'friends_count': 4829, 'listed_count': 128, 'created_at': 'Tue Oct 16 05:32:22 +0000 2012', 'favourites_count': 188058, 'utc_offset': None, 'time_zone': None, 'geo_enabled': True, 'verified': False, 'statuses_count': 174462, 'lang': None, 'contributors_enabled': False, 'is_translator': False, 'is_translation_enabled': False, 'profile_background_color': '000000', 'profile_background_image_url': 'http://abs.twimg.com/images/themes/theme15/bg.png', 'profile_background_image_url_https': 'https://abs.twimg.com/images/themes/theme15/bg.png', 'profile_background_tile': False, 'profile_image_url': 'http://pbs.twimg.com/profile_images/1458441722002743298/uY43rDtz_normal.jpg', 'profile_image_url_https': 'https://pbs.twimg.com/profile_images/1458441722002743298/uY43rDtz_normal.jpg', 'profile_banner_url': 'https://pbs.twimg.com/profile_banners/883767102/1354504588', 'profile_link_color': 'FF691F', 'profile_sidebar_border_color': '000000', 'profile_sidebar_fill_color': '000000', 'profile_text_color': '000000', 'profile_use_background_image': False, 'has_extended_profile': False, 'default_profile': False, 'default_profile_image': False, 'following': False, 'follow_request_sent': False, 'notifications': False, 'translator_type': 'none', 'withheld_in_countries': []}, 'geo': None, 'coordinates': None, 'place': None, 'contributors': None, 'withheld_in_countries': ['TR'], 'retweeted_status': {'created_at': 'Mon Oct 25 19:02:11 +0000 2021', 'id': 1452712106843910100, 'id_str': '1452712106843910148', 'full_text': 'Dear @Nike\\n\\nStop the modern day SLAVERY, now!!!\\n\\n#HypocriteNike\\n\\n#EndUyghurForcedLabor https://t.co/tvX2k3wE4X', 'truncated': False, 'display_text_range': [0, 86], 'entities': {'hashtags': [{'text': 'HypocriteNike', 'indices': [49, 63]}, {'text': 'EndUyghurForcedLabor', 'indices': [65, 86]}], 'symbols': [], 'user_mentions': [{'screen_name': 'Nike', 'name': 'Nike', 'id': 415859364, 'id_str': '415859364', 'indices': [5, 10]}], 'urls': [], 'media': [{'id': 1452704335608090600, 'id_str': '1452704335608090626', 'indices': [87, 110], 'media_url': 'http://pbs.twimg.com/amplify_video_thumb/1452704335608090626/img/iGN1ulIggWjDd6mN.jpg', 'media_url_https': 'https://pbs.twimg.com/amplify_video_thumb/1452704335608090626/img/iGN1ulIggWjDd6mN.jpg', 'url': 'https://t.co/tvX2k3wE4X', 'display_url': 'pic.twitter.com/tvX2k3wE4X', 'expanded_url': 'https://twitter.com/EnesKanter/status/1452712106843910148/video/1', 'type': 'photo', 'sizes': {'thumb': {'w': 150, 'h': 150, 'resize': 'crop'}, 'large': {'w': 848, 'h': 480, 'resize': 'fit'}, 'medium': {'w': 848, 'h': 480, 'resize': 'fit'}, 'small': {'w': 680, 'h': 385, 'resize': 'fit'}}}]}, 'extended_entities': {'media': [{'id': 1452704335608090600, 'id_str': '1452704335608090626', 'indices': [87, 110], 'media_url': 'http://pbs.twimg.com/amplify_video_thumb/1452704335608090626/img/iGN1ulIggWjDd6mN.jpg', 'media_url_https': 'https://pbs.twimg.com/amplify_video_thumb/1452704335608090626/img/iGN1ulIggWjDd6mN.jpg', 'url': 'https://t.co/tvX2k3wE4X', 'display_url': 'pic.twitter.com/tvX2k3wE4X', 'expanded_url': 'https://twitter.com/EnesKanter/status/1452712106843910148/video/1', 'type': 'video', 'sizes': {'thumb': {'w': 150, 'h': 150, 'resize': 'crop'}, 'large': {'w': 848, 'h': 480, 'resize': 'fit'}, 'medium': {'w': 848, 'h': 480, 'resize': 'fit'}, 'small': {'w': 680, 'h': 385, 'resize': 'fit'}}, 'video_info': {'aspect_ratio': [53, 30], 'duration_millis': 189300, 'variants': [{'bitrate': 832000, 'content_type': 'video/mp4', 'url': 'https://video.twimg.com/amplify_video/1452704335608090626/vid/636x360/2nreUASv8IdOAioS.mp4?tag=14'}, {'bitrate': 2176000, 'content_type': 'video/mp4', 'url': 'https://video.twimg.com/amplify_video/1452704335608090626/vid/848x480/9AVrnslO5pi8lEJ0.mp4?tag=14'}, {'content_type': 'application/x-mpegURL', 'url': 'https://video.twimg.com/amplify_video/1452704335608090626/pl/1GZ3AQQvZMfzNAhO.m3u8?tag=14&container=fmp4'}, {'bitrate': 288000, 'content_type': 'video/mp4', 'url': 'https://video.twimg.com/amplify_video/1452704335608090626/vid/476x270/X5jBnzY8SjJo-I2O.mp4?tag=14'}]}, 'additional_media_info': {'title': '', 'description': '', 'embeddable': True, 'monetizable': False}}]}, 'source': '<a href=\"https://studio.twitter.com\" rel=\"nofollow\">Twitter Media Studio</a>', 'in_reply_to_status_id': None, 'in_reply_to_status_id_str': None, 'in_reply_to_user_id': None, 'in_reply_to_user_id_str': None, 'in_reply_to_screen_name': None, 'user': {'id': 302111485, 'id_str': '302111485', 'name': 'Enes Kanter FREEDOM', 'screen_name': 'EnesFreedom', 'location': '', 'description': '~ FREEDOM IS NOT FREE ~ https://t.co/CkmvW2ZVgo & https://t.co/Y4XBHi291W', 'url': None, 'entities': {'description': {'urls': [{'url': 'https://t.co/CkmvW2ZVgo', 'expanded_url': 'http://Instagram.com/enesfreedom/', 'display_url': 'Instagram.com/enesfreedom/', 'indices': [24, 47]}, {'url': 'https://t.co/Y4XBHi291W', 'expanded_url': 'http://facebook.com/EnesKanterFreedom', 'display_url': 'facebook.com/EnesKanterFree…', 'indices': [50, 73]}]}}, 'protected': False, 'followers_count': 587066, 'friends_count': 0, 'listed_count': 1996, 'created_at': 'Fri May 20 16:29:14 +0000 2011', 'favourites_count': 15, 'utc_offset': None, 'time_zone': None, 'geo_enabled': True, 'verified': True, 'statuses_count': 11815, 'lang': None, 'contributors_enabled': False, 'is_translator': False, 'is_translation_enabled': False, 'profile_background_color': 'C0DEED', 'profile_background_image_url': 'http://abs.twimg.com/images/themes/theme1/bg.png', 'profile_background_image_url_https': 'https://abs.twimg.com/images/themes/theme1/bg.png', 'profile_background_tile': True, 'profile_image_url': 'http://pbs.twimg.com/profile_images/1450637239969538053/QlF2le48_normal.jpg', 'profile_image_url_https': 'https://pbs.twimg.com/profile_images/1450637239969538053/QlF2le48_normal.jpg', 'profile_banner_url': 'https://pbs.twimg.com/profile_banners/302111485/1632950587', 'profile_link_color': '0084B4', 'profile_sidebar_border_color': 'C0DEED', 'profile_sidebar_fill_color': 'DDEEF6', 'profile_text_color': '333333', 'profile_use_background_image': True, 'has_extended_profile': False, 'default_profile': False, 'default_profile_image': False, 'following': False, 'follow_request_sent': False, 'notifications': False, 'translator_type': 'none', 'withheld_in_countries': ['TR']}, 'geo': None, 'coordinates': None, 'place': None, 'contributors': None, 'withheld_in_countries': ['TR'], 'is_quote_status': False, 'retweet_count': 11450, 'favorite_count': 38595, 'favorited': False, 'retweeted': False, 'possibly_sensitive': False, 'lang': 'en'}, 'is_quote_status': False, 'retweet_count': 11450, 'favorite_count': 0, 'favorited': False, 'retweeted': False, 'possibly_sensitive': False, 'lang': 'en'}\n",
            "False\n",
            "{'created_at': 'Wed Oct 27 11:52:15 +0000 2021', 'id': 1453328689614176300, 'id_str': '1453328689614176257', 'full_text': \"RT @EnesKanter: To the owner of @Nike, Phil Knight \\n\\nHow about I book plane tickets for us\\nand let's fly to China together.\\n\\nWe can try to…\", 'truncated': False, 'display_text_range': [0, 139], 'entities': {'hashtags': [], 'symbols': [], 'user_mentions': [{'screen_name': 'Nike', 'name': 'Nike', 'id': 415859364, 'id_str': '415859364', 'indices': [32, 37]}], 'urls': []}, 'source': '<a href=\"http://twitter.com/download/android\" rel=\"nofollow\">Twitter for Android</a>', 'in_reply_to_status_id': None, 'in_reply_to_status_id_str': None, 'in_reply_to_user_id': None, 'in_reply_to_user_id_str': None, 'in_reply_to_screen_name': None, 'user': {'id': 817374391029743600, 'id_str': '817374391029743616', 'name': 'Turned deplorable KB', 'screen_name': 'KonnieBrewer', 'location': 'Missouri, USA', 'description': \"I'm a proud hard working American!\\nPraying God Will unite us and save this country.\", 'url': None, 'entities': {'description': {'urls': []}}, 'protected': False, 'followers_count': 181, 'friends_count': 224, 'listed_count': 0, 'created_at': 'Fri Jan 06 14:16:55 +0000 2017', 'favourites_count': 20455, 'utc_offset': None, 'time_zone': None, 'geo_enabled': True, 'verified': False, 'statuses_count': 18623, 'lang': None, 'contributors_enabled': False, 'is_translator': False, 'is_translation_enabled': False, 'profile_background_color': 'F5F8FA', 'profile_background_image_url': None, 'profile_background_image_url_https': None, 'profile_background_tile': False, 'profile_image_url': 'http://pbs.twimg.com/profile_images/1052563853060452352/okth2gP7_normal.jpg', 'profile_image_url_https': 'https://pbs.twimg.com/profile_images/1052563853060452352/okth2gP7_normal.jpg', 'profile_link_color': '1DA1F2', 'profile_sidebar_border_color': 'C0DEED', 'profile_sidebar_fill_color': 'DDEEF6', 'profile_text_color': '333333', 'profile_use_background_image': True, 'has_extended_profile': False, 'default_profile': True, 'default_profile_image': False, 'following': False, 'follow_request_sent': False, 'notifications': False, 'translator_type': 'none', 'withheld_in_countries': []}, 'geo': None, 'coordinates': None, 'place': None, 'contributors': None, 'withheld_in_countries': ['TR'], 'retweeted_status': {'created_at': 'Tue Oct 26 18:01:48 +0000 2021', 'id': 1453059299056423000, 'id_str': '1453059299056422912', 'full_text': \"To the owner of @Nike, Phil Knight \\n\\nHow about I book plane tickets for us\\nand let's fly to China together.\\n\\nWe can try to visit these SLAVE labor\\ncamps and you can see it with your\\nown eyes.\\n\\n@KingJames \\n@Jumpman23 \\nyou guys are welcome to come too.\\n\\n#EndUyghurForcedLabor https://t.co/241bg887JO\", 'truncated': False, 'display_text_range': [0, 273], 'entities': {'hashtags': [{'text': 'EndUyghurForcedLabor', 'indices': [252, 273]}], 'symbols': [], 'user_mentions': [{'screen_name': 'Nike', 'name': 'Nike', 'id': 415859364, 'id_str': '415859364', 'indices': [16, 21]}, {'screen_name': 'KingJames', 'name': 'LeBron James', 'id': 23083404, 'id_str': '23083404', 'indices': [193, 203]}, {'screen_name': 'Jumpman23', 'name': 'Jordan', 'id': 198975780, 'id_str': '198975780', 'indices': [205, 215]}], 'urls': [], 'media': [{'id': 1453059294933528600, 'id_str': '1453059294933528577', 'indices': [274, 297], 'media_url': 'http://pbs.twimg.com/media/FCpNuugXsAEa3IA.jpg', 'media_url_https': 'https://pbs.twimg.com/media/FCpNuugXsAEa3IA.jpg', 'url': 'https://t.co/241bg887JO', 'display_url': 'pic.twitter.com/241bg887JO', 'expanded_url': 'https://twitter.com/EnesKanter/status/1453059299056422912/photo/1', 'type': 'photo', 'sizes': {'small': {'w': 680, 'h': 680, 'resize': 'fit'}, 'thumb': {'w': 150, 'h': 150, 'resize': 'crop'}, 'large': {'w': 2048, 'h': 2048, 'resize': 'fit'}, 'medium': {'w': 1200, 'h': 1200, 'resize': 'fit'}}}]}, 'extended_entities': {'media': [{'id': 1453059294933528600, 'id_str': '1453059294933528577', 'indices': [274, 297], 'media_url': 'http://pbs.twimg.com/media/FCpNuugXsAEa3IA.jpg', 'media_url_https': 'https://pbs.twimg.com/media/FCpNuugXsAEa3IA.jpg', 'url': 'https://t.co/241bg887JO', 'display_url': 'pic.twitter.com/241bg887JO', 'expanded_url': 'https://twitter.com/EnesKanter/status/1453059299056422912/photo/1', 'type': 'photo', 'sizes': {'small': {'w': 680, 'h': 680, 'resize': 'fit'}, 'thumb': {'w': 150, 'h': 150, 'resize': 'crop'}, 'large': {'w': 2048, 'h': 2048, 'resize': 'fit'}, 'medium': {'w': 1200, 'h': 1200, 'resize': 'fit'}}}, {'id': 1453059294941880300, 'id_str': '1453059294941880320', 'indices': [274, 297], 'media_url': 'http://pbs.twimg.com/media/FCpNuuiXIAAVGjo.jpg', 'media_url_https': 'https://pbs.twimg.com/media/FCpNuuiXIAAVGjo.jpg', 'url': 'https://t.co/241bg887JO', 'display_url': 'pic.twitter.com/241bg887JO', 'expanded_url': 'https://twitter.com/EnesKanter/status/1453059299056422912/photo/1', 'type': 'photo', 'sizes': {'thumb': {'w': 150, 'h': 150, 'resize': 'crop'}, 'large': {'w': 2048, 'h': 2048, 'resize': 'fit'}, 'small': {'w': 680, 'h': 680, 'resize': 'fit'}, 'medium': {'w': 1200, 'h': 1200, 'resize': 'fit'}}}, {'id': 1453059294933495800, 'id_str': '1453059294933495810', 'indices': [274, 297], 'media_url': 'http://pbs.twimg.com/media/FCpNuugXMAIwFOv.jpg', 'media_url_https': 'https://pbs.twimg.com/media/FCpNuugXMAIwFOv.jpg', 'url': 'https://t.co/241bg887JO', 'display_url': 'pic.twitter.com/241bg887JO', 'expanded_url': 'https://twitter.com/EnesKanter/status/1453059299056422912/photo/1', 'type': 'photo', 'sizes': {'thumb': {'w': 150, 'h': 150, 'resize': 'crop'}, 'small': {'w': 680, 'h': 680, 'resize': 'fit'}, 'large': {'w': 2048, 'h': 2048, 'resize': 'fit'}, 'medium': {'w': 1200, 'h': 1200, 'resize': 'fit'}}}, {'id': 1453059294920851500, 'id_str': '1453059294920851461', 'indices': [274, 297], 'media_url': 'http://pbs.twimg.com/media/FCpNuudWQAUfpg6.jpg', 'media_url_https': 'https://pbs.twimg.com/media/FCpNuudWQAUfpg6.jpg', 'url': 'https://t.co/241bg887JO', 'display_url': 'pic.twitter.com/241bg887JO', 'expanded_url': 'https://twitter.com/EnesKanter/status/1453059299056422912/photo/1', 'type': 'photo', 'sizes': {'thumb': {'w': 150, 'h': 150, 'resize': 'crop'}, 'medium': {'w': 1200, 'h': 1200, 'resize': 'fit'}, 'large': {'w': 2048, 'h': 2048, 'resize': 'fit'}, 'small': {'w': 680, 'h': 680, 'resize': 'fit'}}}]}, 'source': '<a href=\"http://twitter.com/download/iphone\" rel=\"nofollow\">Twitter for iPhone</a>', 'in_reply_to_status_id': None, 'in_reply_to_status_id_str': None, 'in_reply_to_user_id': None, 'in_reply_to_user_id_str': None, 'in_reply_to_screen_name': None, 'user': {'id': 302111485, 'id_str': '302111485', 'name': 'Enes Kanter FREEDOM', 'screen_name': 'EnesFreedom', 'location': '', 'description': '~ FREEDOM IS NOT FREE ~ https://t.co/CkmvW2ZVgo & https://t.co/Y4XBHi291W', 'url': None, 'entities': {'description': {'urls': [{'url': 'https://t.co/CkmvW2ZVgo', 'expanded_url': 'http://Instagram.com/enesfreedom/', 'display_url': 'Instagram.com/enesfreedom/', 'indices': [24, 47]}, {'url': 'https://t.co/Y4XBHi291W', 'expanded_url': 'http://facebook.com/EnesKanterFreedom', 'display_url': 'facebook.com/EnesKanterFree…', 'indices': [50, 73]}]}}, 'protected': False, 'followers_count': 587066, 'friends_count': 0, 'listed_count': 1996, 'created_at': 'Fri May 20 16:29:14 +0000 2011', 'favourites_count': 15, 'utc_offset': None, 'time_zone': None, 'geo_enabled': True, 'verified': True, 'statuses_count': 11815, 'lang': None, 'contributors_enabled': False, 'is_translator': False, 'is_translation_enabled': False, 'profile_background_color': 'C0DEED', 'profile_background_image_url': 'http://abs.twimg.com/images/themes/theme1/bg.png', 'profile_background_image_url_https': 'https://abs.twimg.com/images/themes/theme1/bg.png', 'profile_background_tile': True, 'profile_image_url': 'http://pbs.twimg.com/profile_images/1450637239969538053/QlF2le48_normal.jpg', 'profile_image_url_https': 'https://pbs.twimg.com/profile_images/1450637239969538053/QlF2le48_normal.jpg', 'profile_banner_url': 'https://pbs.twimg.com/profile_banners/302111485/1632950587', 'profile_link_color': '0084B4', 'profile_sidebar_border_color': 'C0DEED', 'profile_sidebar_fill_color': 'DDEEF6', 'profile_text_color': '333333', 'profile_use_background_image': True, 'has_extended_profile': False, 'default_profile': False, 'default_profile_image': False, 'following': False, 'follow_request_sent': False, 'notifications': False, 'translator_type': 'none', 'withheld_in_countries': ['TR']}, 'geo': None, 'coordinates': None, 'place': None, 'contributors': None, 'withheld_in_countries': ['TR'], 'is_quote_status': False, 'retweet_count': 18126, 'favorite_count': 66943, 'favorited': False, 'retweeted': False, 'possibly_sensitive': False, 'lang': 'en'}, 'is_quote_status': False, 'retweet_count': 18126, 'favorite_count': 0, 'favorited': False, 'retweeted': False, 'lang': 'en'}\n",
            "False\n",
            "{'created_at': 'Sun Oct 31 20:06:29 +0000 2021', 'id': 1454902618149507000, 'id_str': '1454902618149507073', 'full_text': \"RT @SneakerScouts: #ad The Nike Air Force 1 '1/1' is now available via @FinishLine! |$140| #SneakerScouts @Nike https://t.co/RlP6EGXC80 htt…\", 'truncated': False, 'display_text_range': [0, 140], 'entities': {'hashtags': [{'text': 'ad', 'indices': [19, 22]}, {'text': 'SneakerScouts', 'indices': [91, 105]}], 'symbols': [], 'user_mentions': [{'screen_name': 'SneakerScouts', 'name': '#SneakerScouts', 'id': 792182745942233100, 'id_str': '792182745942233089', 'indices': [3, 17]}, {'screen_name': 'FinishLine', 'name': 'Finish Line', 'id': 22175551, 'id_str': '22175551', 'indices': [71, 82]}, {'screen_name': 'Nike', 'name': 'Nike', 'id': 415859364, 'id_str': '415859364', 'indices': [106, 111]}], 'urls': [{'url': 'https://t.co/RlP6EGXC80', 'expanded_url': 'https://www.finishline.com/store/product/nike-air-force-11-casual-shoes/prod2841733?styleId=DB2576&colorId=001&ranMID=37731&ranEAID=zAJE4hSbGa4&ranSiteID=zAJE4hSbGa4-v2rWcfSFXeSOrCAnu34tcQ&CMP=AFL-LS-affiliatechannel&sourceid=affiliate&utm_source=3516449&utm_medium=affiliate&utm_campaign=1&siteID=zAJE4hSbGa4-v2rWcfSFXeSOrCAnu34tcQ', 'display_url': 'finishline.com/store/product/…', 'indices': [112, 135]}]}, 'source': '<a href=\"http://twitter.com/download/iphone\" rel=\"nofollow\">Twitter for iPhone</a>', 'in_reply_to_status_id': None, 'in_reply_to_status_id_str': None, 'in_reply_to_user_id': None, 'in_reply_to_user_id_str': None, 'in_reply_to_screen_name': None, 'user': {'id': 1154375990, 'id_str': '1154375990', 'name': 'Dave Pierre', 'screen_name': 'DavePOfficial', 'location': 'Zodiac Sign & Became A 🌟', 'description': '♎️Libra|Undergrad Actor|Student of life|Christ Lover🙏🏽|❤️Hollywood🎬|Dream Big.|Lover of Art #ToBalanceLifeOrLifeIsBalanced | https://t.co/UQenMbsDnl', 'url': 'https://t.co/6nKPqrPlfQ', 'entities': {'url': {'urls': [{'url': 'https://t.co/6nKPqrPlfQ', 'expanded_url': 'http://m.imdb.com/name/nm6085940/', 'display_url': 'm.imdb.com/name/nm6085940/', 'indices': [0, 23]}]}, 'description': {'urls': [{'url': 'https://t.co/UQenMbsDnl', 'expanded_url': 'http://Instagram.com/ddavespence', 'display_url': 'Instagram.com/ddavespence', 'indices': [125, 148]}]}}, 'protected': False, 'followers_count': 37894, 'friends_count': 37389, 'listed_count': 82, 'created_at': 'Wed Feb 06 15:51:32 +0000 2013', 'favourites_count': 1195229, 'utc_offset': None, 'time_zone': None, 'geo_enabled': True, 'verified': False, 'statuses_count': 365273, 'lang': None, 'contributors_enabled': False, 'is_translator': False, 'is_translation_enabled': True, 'profile_background_color': '3B94D9', 'profile_background_image_url': 'http://abs.twimg.com/images/themes/theme1/bg.png', 'profile_background_image_url_https': 'https://abs.twimg.com/images/themes/theme1/bg.png', 'profile_background_tile': True, 'profile_image_url': 'http://pbs.twimg.com/profile_images/932656927003246593/PaeOH1Ag_normal.jpg', 'profile_image_url_https': 'https://pbs.twimg.com/profile_images/932656927003246593/PaeOH1Ag_normal.jpg', 'profile_banner_url': 'https://pbs.twimg.com/profile_banners/1154375990/1471727564', 'profile_link_color': '91D2FA', 'profile_sidebar_border_color': '000000', 'profile_sidebar_fill_color': 'DDEEF6', 'profile_text_color': '333333', 'profile_use_background_image': True, 'has_extended_profile': True, 'default_profile': False, 'default_profile_image': False, 'following': False, 'follow_request_sent': False, 'notifications': False, 'translator_type': 'regular', 'withheld_in_countries': []}, 'geo': None, 'coordinates': None, 'place': None, 'contributors': None, 'retweeted_status': {'created_at': 'Sat Oct 30 22:40:03 +0000 2021', 'id': 1454578874692554800, 'id_str': '1454578874692554754', 'full_text': \"#ad The Nike Air Force 1 '1/1' is now available via @FinishLine! |$140| #SneakerScouts @Nike https://t.co/RlP6EGXC80 https://t.co/PMtD2kDajF\", 'truncated': False, 'display_text_range': [0, 116], 'entities': {'hashtags': [{'text': 'ad', 'indices': [0, 3]}, {'text': 'SneakerScouts', 'indices': [72, 86]}], 'symbols': [], 'user_mentions': [{'screen_name': 'FinishLine', 'name': 'Finish Line', 'id': 22175551, 'id_str': '22175551', 'indices': [52, 63]}, {'screen_name': 'Nike', 'name': 'Nike', 'id': 415859364, 'id_str': '415859364', 'indices': [87, 92]}], 'urls': [{'url': 'https://t.co/RlP6EGXC80', 'expanded_url': 'https://www.finishline.com/store/product/nike-air-force-11-casual-shoes/prod2841733?styleId=DB2576&colorId=001&ranMID=37731&ranEAID=zAJE4hSbGa4&ranSiteID=zAJE4hSbGa4-v2rWcfSFXeSOrCAnu34tcQ&CMP=AFL-LS-affiliatechannel&sourceid=affiliate&utm_source=3516449&utm_medium=affiliate&utm_campaign=1&siteID=zAJE4hSbGa4-v2rWcfSFXeSOrCAnu34tcQ', 'display_url': 'finishline.com/store/product/…', 'indices': [93, 116]}], 'media': [{'id': 1454578872134078500, 'id_str': '1454578872134078478', 'indices': [117, 140], 'media_url': 'http://pbs.twimg.com/media/FC-zxwtXEA4RU9N.jpg', 'media_url_https': 'https://pbs.twimg.com/media/FC-zxwtXEA4RU9N.jpg', 'url': 'https://t.co/PMtD2kDajF', 'display_url': 'pic.twitter.com/PMtD2kDajF', 'expanded_url': 'https://twitter.com/SneakerScouts/status/1454578874692554754/photo/1', 'type': 'photo', 'sizes': {'thumb': {'w': 150, 'h': 150, 'resize': 'crop'}, 'medium': {'w': 1000, 'h': 684, 'resize': 'fit'}, 'small': {'w': 680, 'h': 465, 'resize': 'fit'}, 'large': {'w': 1000, 'h': 684, 'resize': 'fit'}}}]}, 'extended_entities': {'media': [{'id': 1454578872134078500, 'id_str': '1454578872134078478', 'indices': [117, 140], 'media_url': 'http://pbs.twimg.com/media/FC-zxwtXEA4RU9N.jpg', 'media_url_https': 'https://pbs.twimg.com/media/FC-zxwtXEA4RU9N.jpg', 'url': 'https://t.co/PMtD2kDajF', 'display_url': 'pic.twitter.com/PMtD2kDajF', 'expanded_url': 'https://twitter.com/SneakerScouts/status/1454578874692554754/photo/1', 'type': 'photo', 'sizes': {'thumb': {'w': 150, 'h': 150, 'resize': 'crop'}, 'medium': {'w': 1000, 'h': 684, 'resize': 'fit'}, 'small': {'w': 680, 'h': 465, 'resize': 'fit'}, 'large': {'w': 1000, 'h': 684, 'resize': 'fit'}}}, {'id': 1454578872071110700, 'id_str': '1454578872071110663', 'indices': [117, 140], 'media_url': 'http://pbs.twimg.com/media/FC-zxweWQAcTClX.jpg', 'media_url_https': 'https://pbs.twimg.com/media/FC-zxweWQAcTClX.jpg', 'url': 'https://t.co/PMtD2kDajF', 'display_url': 'pic.twitter.com/PMtD2kDajF', 'expanded_url': 'https://twitter.com/SneakerScouts/status/1454578874692554754/photo/1', 'type': 'photo', 'sizes': {'thumb': {'w': 150, 'h': 150, 'resize': 'crop'}, 'small': {'w': 680, 'h': 680, 'resize': 'fit'}, 'medium': {'w': 1000, 'h': 1000, 'resize': 'fit'}, 'large': {'w': 1000, 'h': 1000, 'resize': 'fit'}}}, {'id': 1454578872092176400, 'id_str': '1454578872092176386', 'indices': [117, 140], 'media_url': 'http://pbs.twimg.com/media/FC-zxwjXsAIWXQ1.jpg', 'media_url_https': 'https://pbs.twimg.com/media/FC-zxwjXsAIWXQ1.jpg', 'url': 'https://t.co/PMtD2kDajF', 'display_url': 'pic.twitter.com/PMtD2kDajF', 'expanded_url': 'https://twitter.com/SneakerScouts/status/1454578874692554754/photo/1', 'type': 'photo', 'sizes': {'medium': {'w': 1000, 'h': 1000, 'resize': 'fit'}, 'thumb': {'w': 150, 'h': 150, 'resize': 'crop'}, 'large': {'w': 1000, 'h': 1000, 'resize': 'fit'}, 'small': {'w': 680, 'h': 680, 'resize': 'fit'}}}, {'id': 1454578871869837300, 'id_str': '1454578871869837314', 'indices': [117, 140], 'media_url': 'http://pbs.twimg.com/media/FC-zxvuXEAIUgqR.jpg', 'media_url_https': 'https://pbs.twimg.com/media/FC-zxvuXEAIUgqR.jpg', 'url': 'https://t.co/PMtD2kDajF', 'display_url': 'pic.twitter.com/PMtD2kDajF', 'expanded_url': 'https://twitter.com/SneakerScouts/status/1454578874692554754/photo/1', 'type': 'photo', 'sizes': {'thumb': {'w': 150, 'h': 150, 'resize': 'crop'}, 'medium': {'w': 1000, 'h': 1000, 'resize': 'fit'}, 'small': {'w': 680, 'h': 680, 'resize': 'fit'}, 'large': {'w': 1000, 'h': 1000, 'resize': 'fit'}}}]}, 'source': '<a href=\"https://www.hootsuite.com\" rel=\"nofollow\">Hootsuite Inc.</a>', 'in_reply_to_status_id': None, 'in_reply_to_status_id_str': None, 'in_reply_to_user_id': None, 'in_reply_to_user_id_str': None, 'in_reply_to_screen_name': None, 'user': {'id': 792182745942233100, 'id_str': '792182745942233089', 'name': '#SneakerScouts', 'screen_name': 'SneakerScouts', 'location': '', 'description': 'The #1 source for sneaker news, release dates, sales, and general information! info@SneakerScouts.com  #SneakerScouts', 'url': 'https://t.co/YBERhCCwh7', 'entities': {'url': {'urls': [{'url': 'https://t.co/YBERhCCwh7', 'expanded_url': 'http://www.SneakerScouts.com', 'display_url': 'SneakerScouts.com', 'indices': [0, 23]}]}, 'description': {'urls': []}}, 'protected': False, 'followers_count': 18262, 'friends_count': 6397, 'listed_count': 82, 'created_at': 'Sat Oct 29 01:54:19 +0000 2016', 'favourites_count': 169294, 'utc_offset': None, 'time_zone': None, 'geo_enabled': False, 'verified': False, 'statuses_count': 301805, 'lang': None, 'contributors_enabled': False, 'is_translator': False, 'is_translation_enabled': False, 'profile_background_color': '000000', 'profile_background_image_url': 'http://abs.twimg.com/images/themes/theme1/bg.png', 'profile_background_image_url_https': 'https://abs.twimg.com/images/themes/theme1/bg.png', 'profile_background_tile': False, 'profile_image_url': 'http://pbs.twimg.com/profile_images/971422898886868992/K3R78VcP_normal.jpg', 'profile_image_url_https': 'https://pbs.twimg.com/profile_images/971422898886868992/K3R78VcP_normal.jpg', 'profile_banner_url': 'https://pbs.twimg.com/profile_banners/792182745942233089/1540175194', 'profile_link_color': '000000', 'profile_sidebar_border_color': '000000', 'profile_sidebar_fill_color': '000000', 'profile_text_color': '000000', 'profile_use_background_image': False, 'has_extended_profile': False, 'default_profile': False, 'default_profile_image': False, 'following': False, 'follow_request_sent': False, 'notifications': False, 'translator_type': 'none', 'withheld_in_countries': []}, 'geo': None, 'coordinates': None, 'place': None, 'contributors': None, 'is_quote_status': False, 'retweet_count': 5, 'favorite_count': 7, 'favorited': False, 'retweeted': False, 'possibly_sensitive': False, 'lang': 'en'}, 'is_quote_status': False, 'retweet_count': 5, 'favorite_count': 0, 'favorited': False, 'retweeted': False, 'possibly_sensitive': False, 'lang': 'en'}\n",
            "False\n",
            "{'created_at': 'Sun Nov 07 19:12:24 +0000 2021', 'id': 1457425721316581400, 'id_str': '1457425721316581384', 'full_text': \"RT @SneakerScouts: #ad The Nike Women's Air VaporMax Plus 'Red/White' is now available via @footlocker! |$200| #SneakerScouts @Nike https:/…\", 'truncated': False, 'display_text_range': [0, 140], 'entities': {'hashtags': [{'text': 'ad', 'indices': [19, 22]}, {'text': 'SneakerScouts', 'indices': [111, 125]}], 'symbols': [], 'user_mentions': [{'screen_name': 'SneakerScouts', 'name': '#SneakerScouts', 'id': 792182745942233100, 'id_str': '792182745942233089', 'indices': [3, 17]}, {'screen_name': 'footlocker', 'name': 'Foot Locker', 'id': 22030851, 'id_str': '22030851', 'indices': [91, 102]}, {'screen_name': 'Nike', 'name': 'Nike', 'id': 415859364, 'id_str': '415859364', 'indices': [126, 131]}], 'urls': []}, 'source': '<a href=\"http://twitter.com/download/iphone\" rel=\"nofollow\">Twitter for iPhone</a>', 'in_reply_to_status_id': None, 'in_reply_to_status_id_str': None, 'in_reply_to_user_id': None, 'in_reply_to_user_id_str': None, 'in_reply_to_screen_name': None, 'user': {'id': 21424748, 'id_str': '21424748', 'name': \"HU's Bad Guys #HBOW\", 'screen_name': 'HUsBadGuys', 'location': '', 'description': \"HU's Bad Guys #HBOW\", 'url': None, 'entities': {'description': {'urls': []}}, 'protected': False, 'followers_count': 57, 'friends_count': 32, 'listed_count': 0, 'created_at': 'Fri Feb 20 19:26:15 +0000 2009', 'favourites_count': 149563, 'utc_offset': None, 'time_zone': None, 'geo_enabled': False, 'verified': False, 'statuses_count': 151057, 'lang': None, 'contributors_enabled': False, 'is_translator': False, 'is_translation_enabled': False, 'profile_background_color': '022330', 'profile_background_image_url': 'http://abs.twimg.com/images/themes/theme15/bg.png', 'profile_background_image_url_https': 'https://abs.twimg.com/images/themes/theme15/bg.png', 'profile_background_tile': False, 'profile_image_url': 'http://pbs.twimg.com/profile_images/1888909916/BadGuysLogo_normal.jpg', 'profile_image_url_https': 'https://pbs.twimg.com/profile_images/1888909916/BadGuysLogo_normal.jpg', 'profile_link_color': '0084B4', 'profile_sidebar_border_color': 'A8C7F7', 'profile_sidebar_fill_color': 'C0DFEC', 'profile_text_color': '333333', 'profile_use_background_image': True, 'has_extended_profile': False, 'default_profile': False, 'default_profile_image': False, 'following': False, 'follow_request_sent': False, 'notifications': False, 'translator_type': 'none', 'withheld_in_countries': []}, 'geo': None, 'coordinates': None, 'place': None, 'contributors': None, 'retweeted_status': {'created_at': 'Sun Nov 07 17:50:02 +0000 2021', 'id': 1457404993552666600, 'id_str': '1457404993552666624', 'full_text': \"#ad The Nike Women's Air VaporMax Plus 'Red/White' is now available via @footlocker! |$200| #SneakerScouts @Nike https://t.co/Z2WTsfyuvb https://t.co/gTGP7X816I\", 'truncated': False, 'display_text_range': [0, 136], 'entities': {'hashtags': [{'text': 'ad', 'indices': [0, 3]}, {'text': 'SneakerScouts', 'indices': [92, 106]}], 'symbols': [], 'user_mentions': [{'screen_name': 'footlocker', 'name': 'Foot Locker', 'id': 22030851, 'id_str': '22030851', 'indices': [72, 83]}, {'screen_name': 'Nike', 'name': 'Nike', 'id': 415859364, 'id_str': '415859364', 'indices': [107, 112]}], 'urls': [{'url': 'https://t.co/Z2WTsfyuvb', 'expanded_url': 'https://www.footlocker.com/product/~/O1160600.html?irclickid=R9hRvy2vcxyLWQd07OwzdzZ-UkBXG6yJRVh6SI0&sid=8259&cm_mmc=Affiliate-_-SneakerScouts-_--_-Content-_--_--_-p-_--_--_--_--_--_-ONLINE_TRACKING_LINK-_--_-Online%20Tracking%20Link-_--_-&irgwc=1', 'display_url': 'footlocker.com/product/~/O116…', 'indices': [113, 136]}], 'media': [{'id': 1457404991937863700, 'id_str': '1457404991937863682', 'indices': [137, 160], 'media_url': 'http://pbs.twimg.com/media/FDm-HlZWYAIktQw.png', 'media_url_https': 'https://pbs.twimg.com/media/FDm-HlZWYAIktQw.png', 'url': 'https://t.co/gTGP7X816I', 'display_url': 'pic.twitter.com/gTGP7X816I', 'expanded_url': 'https://twitter.com/SneakerScouts/status/1457404993552666624/photo/1', 'type': 'photo', 'sizes': {'medium': {'w': 821, 'h': 591, 'resize': 'fit'}, 'large': {'w': 821, 'h': 591, 'resize': 'fit'}, 'small': {'w': 680, 'h': 490, 'resize': 'fit'}, 'thumb': {'w': 150, 'h': 150, 'resize': 'crop'}}}]}, 'extended_entities': {'media': [{'id': 1457404991937863700, 'id_str': '1457404991937863682', 'indices': [137, 160], 'media_url': 'http://pbs.twimg.com/media/FDm-HlZWYAIktQw.png', 'media_url_https': 'https://pbs.twimg.com/media/FDm-HlZWYAIktQw.png', 'url': 'https://t.co/gTGP7X816I', 'display_url': 'pic.twitter.com/gTGP7X816I', 'expanded_url': 'https://twitter.com/SneakerScouts/status/1457404993552666624/photo/1', 'type': 'photo', 'sizes': {'medium': {'w': 821, 'h': 591, 'resize': 'fit'}, 'large': {'w': 821, 'h': 591, 'resize': 'fit'}, 'small': {'w': 680, 'h': 490, 'resize': 'fit'}, 'thumb': {'w': 150, 'h': 150, 'resize': 'crop'}}}]}, 'source': '<a href=\"https://www.hootsuite.com\" rel=\"nofollow\">Hootsuite Inc.</a>', 'in_reply_to_status_id': None, 'in_reply_to_status_id_str': None, 'in_reply_to_user_id': None, 'in_reply_to_user_id_str': None, 'in_reply_to_screen_name': None, 'user': {'id': 792182745942233100, 'id_str': '792182745942233089', 'name': '#SneakerScouts', 'screen_name': 'SneakerScouts', 'location': '', 'description': 'The #1 source for sneaker news, release dates, sales, and general information! info@SneakerScouts.com  #SneakerScouts', 'url': 'https://t.co/YBERhCCwh7', 'entities': {'url': {'urls': [{'url': 'https://t.co/YBERhCCwh7', 'expanded_url': 'http://www.SneakerScouts.com', 'display_url': 'SneakerScouts.com', 'indices': [0, 23]}]}, 'description': {'urls': []}}, 'protected': False, 'followers_count': 18262, 'friends_count': 6397, 'listed_count': 82, 'created_at': 'Sat Oct 29 01:54:19 +0000 2016', 'favourites_count': 169294, 'utc_offset': None, 'time_zone': None, 'geo_enabled': False, 'verified': False, 'statuses_count': 301805, 'lang': None, 'contributors_enabled': False, 'is_translator': False, 'is_translation_enabled': False, 'profile_background_color': '000000', 'profile_background_image_url': 'http://abs.twimg.com/images/themes/theme1/bg.png', 'profile_background_image_url_https': 'https://abs.twimg.com/images/themes/theme1/bg.png', 'profile_background_tile': False, 'profile_image_url': 'http://pbs.twimg.com/profile_images/971422898886868992/K3R78VcP_normal.jpg', 'profile_image_url_https': 'https://pbs.twimg.com/profile_images/971422898886868992/K3R78VcP_normal.jpg', 'profile_banner_url': 'https://pbs.twimg.com/profile_banners/792182745942233089/1540175194', 'profile_link_color': '000000', 'profile_sidebar_border_color': '000000', 'profile_sidebar_fill_color': '000000', 'profile_text_color': '000000', 'profile_use_background_image': False, 'has_extended_profile': False, 'default_profile': False, 'default_profile_image': False, 'following': False, 'follow_request_sent': False, 'notifications': False, 'translator_type': 'none', 'withheld_in_countries': []}, 'geo': None, 'coordinates': None, 'place': None, 'contributors': None, 'is_quote_status': False, 'retweet_count': 4, 'favorite_count': 6, 'favorited': False, 'retweeted': False, 'possibly_sensitive': False, 'lang': 'en'}, 'is_quote_status': False, 'retweet_count': 4, 'favorite_count': 0, 'favorited': False, 'retweeted': False, 'lang': 'en'}\n",
            "False\n",
            "{'created_at': 'Sun Nov 14 17:14:39 +0000 2021', 'id': 1459932802498150400, 'id_str': '1459932802498150407', 'full_text': '@Nike Womans Nation Team? How genderphobic can you get? This team sounds very exclusionary and bigoted. How do you exclude 262+ genders?', 'truncated': False, 'display_text_range': [6, 136], 'entities': {'hashtags': [], 'symbols': [], 'user_mentions': [{'screen_name': 'Nike', 'name': 'Nike', 'id': 415859364, 'id_str': '415859364', 'indices': [0, 5]}], 'urls': []}, 'source': '<a href=\"http://twitter.com/download/android\" rel=\"nofollow\">Twitter for Android</a>', 'in_reply_to_status_id': 1424218343175688200, 'in_reply_to_status_id_str': '1424218343175688192', 'in_reply_to_user_id': 415859364, 'in_reply_to_user_id_str': '415859364', 'in_reply_to_screen_name': 'Nike', 'user': {'id': 143913915, 'id_str': '143913915', 'name': \"Let's go Brandon\", 'screen_name': 'NYgiantsSUCK', 'location': 'United States', 'description': '$SHIB', 'url': None, 'entities': {'description': {'urls': []}}, 'protected': False, 'followers_count': 183, 'friends_count': 144, 'listed_count': 21, 'created_at': 'Fri May 14 19:38:58 +0000 2010', 'favourites_count': 1567, 'utc_offset': None, 'time_zone': None, 'geo_enabled': True, 'verified': False, 'statuses_count': 18451, 'lang': None, 'contributors_enabled': False, 'is_translator': False, 'is_translation_enabled': False, 'profile_background_color': 'C0DEED', 'profile_background_image_url': 'http://abs.twimg.com/images/themes/theme1/bg.png', 'profile_background_image_url_https': 'https://abs.twimg.com/images/themes/theme1/bg.png', 'profile_background_tile': False, 'profile_image_url': 'http://pbs.twimg.com/profile_images/1349000408614764546/FpVpcUB9_normal.jpg', 'profile_image_url_https': 'https://pbs.twimg.com/profile_images/1349000408614764546/FpVpcUB9_normal.jpg', 'profile_link_color': '1DA1F2', 'profile_sidebar_border_color': 'C0DEED', 'profile_sidebar_fill_color': 'DDEEF6', 'profile_text_color': '333333', 'profile_use_background_image': True, 'has_extended_profile': True, 'default_profile': True, 'default_profile_image': False, 'following': False, 'follow_request_sent': False, 'notifications': False, 'translator_type': 'none', 'withheld_in_countries': []}, 'geo': None, 'coordinates': None, 'place': None, 'contributors': None, 'is_quote_status': False, 'retweet_count': 0, 'favorite_count': 0, 'favorited': False, 'retweeted': False, 'lang': 'en'}\n",
            "False\n",
            "{'created_at': 'Sat Nov 20 03:56:17 +0000 2021', 'id': 1461906217945682000, 'id_str': '1461906217945681923', 'full_text': 'RT @itsmeglinehan: Interim CEO Marla Messing announcing that the @NWSL and @Nike have renewed their partnership with another long-term deal…', 'truncated': False, 'display_text_range': [0, 140], 'entities': {'hashtags': [], 'symbols': [], 'user_mentions': [{'screen_name': 'itsmeglinehan', 'name': 'Meg Linehan', 'id': 12670592, 'id_str': '12670592', 'indices': [3, 17]}, {'screen_name': 'NWSL', 'name': 'National Women’s Soccer League', 'id': 1013399942, 'id_str': '1013399942', 'indices': [65, 70]}, {'screen_name': 'Nike', 'name': 'Nike', 'id': 415859364, 'id_str': '415859364', 'indices': [75, 80]}], 'urls': []}, 'source': '<a href=\"https://mobile.twitter.com\" rel=\"nofollow\">Twitter Web App</a>', 'in_reply_to_status_id': None, 'in_reply_to_status_id_str': None, 'in_reply_to_user_id': None, 'in_reply_to_user_id_str': None, 'in_reply_to_screen_name': None, 'user': {'id': 92603118, 'id_str': '92603118', 'name': 'Jeff Strong', 'screen_name': 'DynamoCooligan', 'location': 'Houston, Texas', 'description': \"Soccer, Football, Futbol, Calcio...whatever you call it, I'm into it! @HoustonDynamo, @HoustonDash, @RGVFC, & @USSoccer Supporter!\", 'url': None, 'entities': {'description': {'urls': []}}, 'protected': False, 'followers_count': 3923, 'friends_count': 4116, 'listed_count': 717, 'created_at': 'Wed Nov 25 20:22:09 +0000 2009', 'favourites_count': 1354549, 'utc_offset': None, 'time_zone': None, 'geo_enabled': False, 'verified': False, 'statuses_count': 1821159, 'lang': None, 'contributors_enabled': False, 'is_translator': False, 'is_translation_enabled': False, 'profile_background_color': '000000', 'profile_background_image_url': 'http://abs.twimg.com/images/themes/theme10/bg.gif', 'profile_background_image_url_https': 'https://abs.twimg.com/images/themes/theme10/bg.gif', 'profile_background_tile': True, 'profile_image_url': 'http://pbs.twimg.com/profile_images/485627572210778112/_mI6ah0L_normal.png', 'profile_image_url_https': 'https://pbs.twimg.com/profile_images/485627572210778112/_mI6ah0L_normal.png', 'profile_banner_url': 'https://pbs.twimg.com/profile_banners/92603118/1404617168', 'profile_link_color': 'F36600', 'profile_sidebar_border_color': 'FFFFFF', 'profile_sidebar_fill_color': 'F08635', 'profile_text_color': '000000', 'profile_use_background_image': True, 'has_extended_profile': True, 'default_profile': False, 'default_profile_image': False, 'following': False, 'follow_request_sent': False, 'notifications': False, 'translator_type': 'none', 'withheld_in_countries': []}, 'geo': None, 'coordinates': None, 'place': None, 'contributors': None, 'retweeted_status': {'created_at': 'Fri Nov 19 20:12:54 +0000 2021', 'id': 1461789603468386300, 'id_str': '1461789603468386312', 'full_text': 'Interim CEO Marla Messing announcing that the @NWSL and @Nike have renewed their partnership with another long-term deal (no length given) — and the renewal is “most substantial agreement in #NWSL history.”\\n\\nBeen really notable to see sponsor support here in Louisville this week.', 'truncated': False, 'display_text_range': [0, 280], 'entities': {'hashtags': [{'text': 'NWSL', 'indices': [191, 196]}], 'symbols': [], 'user_mentions': [{'screen_name': 'NWSL', 'name': 'National Women’s Soccer League', 'id': 1013399942, 'id_str': '1013399942', 'indices': [46, 51]}, {'screen_name': 'Nike', 'name': 'Nike', 'id': 415859364, 'id_str': '415859364', 'indices': [56, 61]}], 'urls': []}, 'source': '<a href=\"http://twitter.com/download/iphone\" rel=\"nofollow\">Twitter for iPhone</a>', 'in_reply_to_status_id': None, 'in_reply_to_status_id_str': None, 'in_reply_to_user_id': None, 'in_reply_to_user_id_str': None, 'in_reply_to_screen_name': None, 'user': {'id': 12670592, 'id_str': '12670592', 'name': 'Meg Linehan', 'screen_name': 'itsmeglinehan', 'location': 'New York, NY', 'description': \"No, the schedule isn't out yet.\", 'url': 'https://t.co/laLc55pkZe', 'entities': {'url': {'urls': [{'url': 'https://t.co/laLc55pkZe', 'expanded_url': 'http://meglinehan.com', 'display_url': 'meglinehan.com', 'indices': [0, 23]}]}, 'description': {'urls': []}}, 'protected': False, 'followers_count': 44867, 'friends_count': 1367, 'listed_count': 853, 'created_at': 'Fri Jan 25 04:34:15 +0000 2008', 'favourites_count': 31372, 'utc_offset': None, 'time_zone': None, 'geo_enabled': False, 'verified': True, 'statuses_count': 26410, 'lang': None, 'contributors_enabled': False, 'is_translator': False, 'is_translation_enabled': False, 'profile_background_color': '343333', 'profile_background_image_url': 'http://abs.twimg.com/images/themes/theme1/bg.png', 'profile_background_image_url_https': 'https://abs.twimg.com/images/themes/theme1/bg.png', 'profile_background_tile': False, 'profile_image_url': 'http://pbs.twimg.com/profile_images/1442146839638249474/1CoGs8Gl_normal.jpg', 'profile_image_url_https': 'https://pbs.twimg.com/profile_images/1442146839638249474/1CoGs8Gl_normal.jpg', 'profile_banner_url': 'https://pbs.twimg.com/profile_banners/12670592/1635032544', 'profile_link_color': '666666', 'profile_sidebar_border_color': '000000', 'profile_sidebar_fill_color': 'E5E5E5', 'profile_text_color': '2A0801', 'profile_use_background_image': True, 'has_extended_profile': True, 'default_profile': False, 'default_profile_image': False, 'following': False, 'follow_request_sent': False, 'notifications': False, 'translator_type': 'none', 'withheld_in_countries': []}, 'geo': None, 'coordinates': None, 'place': None, 'contributors': None, 'is_quote_status': False, 'retweet_count': 38, 'favorite_count': 458, 'favorited': False, 'retweeted': False, 'lang': 'en'}, 'is_quote_status': False, 'retweet_count': 38, 'favorite_count': 0, 'favorited': False, 'retweeted': False, 'lang': 'en'}\n",
            "False\n",
            "{'created_at': 'Thu Nov 25 20:57:29 +0000 2021', 'id': 1463975148294398000, 'id_str': '1463975148294397965', 'full_text': 'Even though I could barely get my picture, still wanted to show y’all my blessings and what I’m thankful for. Happy Thanksgiving!!! @Nike sponsor the kids 😂 https://t.co/tcIH7yfoq7', 'truncated': False, 'display_text_range': [0, 156], 'entities': {'hashtags': [], 'symbols': [], 'user_mentions': [{'screen_name': 'Nike', 'name': 'Nike', 'id': 415859364, 'id_str': '415859364', 'indices': [132, 137]}], 'urls': [], 'media': [{'id': 1463975139448656000, 'id_str': '1463975139448655873', 'indices': [157, 180], 'media_url': 'http://pbs.twimg.com/media/FFEVogLXEAEtWxw.jpg', 'media_url_https': 'https://pbs.twimg.com/media/FFEVogLXEAEtWxw.jpg', 'url': 'https://t.co/tcIH7yfoq7', 'display_url': 'pic.twitter.com/tcIH7yfoq7', 'expanded_url': 'https://twitter.com/danicakes5/status/1463975148294397965/photo/1', 'type': 'photo', 'sizes': {'thumb': {'w': 150, 'h': 150, 'resize': 'crop'}, 'small': {'w': 510, 'h': 680, 'resize': 'fit'}, 'medium': {'w': 900, 'h': 1200, 'resize': 'fit'}, 'large': {'w': 1536, 'h': 2048, 'resize': 'fit'}}}]}, 'extended_entities': {'media': [{'id': 1463975139448656000, 'id_str': '1463975139448655873', 'indices': [157, 180], 'media_url': 'http://pbs.twimg.com/media/FFEVogLXEAEtWxw.jpg', 'media_url_https': 'https://pbs.twimg.com/media/FFEVogLXEAEtWxw.jpg', 'url': 'https://t.co/tcIH7yfoq7', 'display_url': 'pic.twitter.com/tcIH7yfoq7', 'expanded_url': 'https://twitter.com/danicakes5/status/1463975148294397965/photo/1', 'type': 'photo', 'sizes': {'thumb': {'w': 150, 'h': 150, 'resize': 'crop'}, 'small': {'w': 510, 'h': 680, 'resize': 'fit'}, 'medium': {'w': 900, 'h': 1200, 'resize': 'fit'}, 'large': {'w': 1536, 'h': 2048, 'resize': 'fit'}}}]}, 'source': '<a href=\"http://twitter.com/download/iphone\" rel=\"nofollow\">Twitter for iPhone</a>', 'in_reply_to_status_id': None, 'in_reply_to_status_id_str': None, 'in_reply_to_user_id': None, 'in_reply_to_user_id_str': None, 'in_reply_to_screen_name': None, 'user': {'id': 974041273, 'id_str': '974041273', 'name': 'danielle mccalister', 'screen_name': 'danicakes5', 'location': 'Oklahoma City, OK', 'description': 'Mom to Javeon, Jaylnn, Jamouri, Jashawn and Jaciah McCalister.', 'url': None, 'entities': {'description': {'urls': []}}, 'protected': False, 'followers_count': 182, 'friends_count': 677, 'listed_count': 0, 'created_at': 'Tue Nov 27 14:50:20 +0000 2012', 'favourites_count': 1303, 'utc_offset': None, 'time_zone': None, 'geo_enabled': True, 'verified': False, 'statuses_count': 389, 'lang': None, 'contributors_enabled': False, 'is_translator': False, 'is_translation_enabled': False, 'profile_background_color': 'C0DEED', 'profile_background_image_url': 'http://abs.twimg.com/images/themes/theme1/bg.png', 'profile_background_image_url_https': 'https://abs.twimg.com/images/themes/theme1/bg.png', 'profile_background_tile': False, 'profile_image_url': 'http://pbs.twimg.com/profile_images/1346871768535986176/8b-d7-td_normal.jpg', 'profile_image_url_https': 'https://pbs.twimg.com/profile_images/1346871768535986176/8b-d7-td_normal.jpg', 'profile_banner_url': 'https://pbs.twimg.com/profile_banners/974041273/1609954230', 'profile_link_color': '1DA1F2', 'profile_sidebar_border_color': 'C0DEED', 'profile_sidebar_fill_color': 'DDEEF6', 'profile_text_color': '333333', 'profile_use_background_image': True, 'has_extended_profile': True, 'default_profile': True, 'default_profile_image': False, 'following': False, 'follow_request_sent': False, 'notifications': False, 'translator_type': 'none', 'withheld_in_countries': []}, 'geo': None, 'coordinates': None, 'place': {'id': '7e831b14a06a5759', 'url': 'https://api.twitter.com/1.1/geo/id/7e831b14a06a5759.json', 'place_type': 'city', 'name': 'Del City', 'full_name': 'Del City, OK', 'country_code': 'US', 'country': 'United States', 'contained_within': [], 'bounding_box': {'type': 'Polygon', 'coordinates': [[[-97.459517, 35.420738], [-97.423502, 35.420738], [-97.423502, 35.4787071], [-97.459517, 35.4787071]]]}, 'attributes': {}}, 'contributors': None, 'is_quote_status': False, 'retweet_count': 0, 'favorite_count': 15, 'favorited': False, 'retweeted': False, 'possibly_sensitive': False, 'lang': 'en'}\n",
            "True\n",
            "{'created_at': 'Wed Dec 01 20:01:03 +0000 2021', 'id': 1466135275197935600, 'id_str': '1466135275197935619', 'full_text': '@uninterrupted @KingJames @Nike Supporting slavery in China! You are an idiot Lebron', 'truncated': False, 'display_text_range': [32, 84], 'entities': {'hashtags': [], 'symbols': [], 'user_mentions': [{'screen_name': 'uninterrupted', 'name': 'UNINTERRUPTED', 'id': 2966774301, 'id_str': '2966774301', 'indices': [0, 14]}, {'screen_name': 'KingJames', 'name': 'LeBron James', 'id': 23083404, 'id_str': '23083404', 'indices': [15, 25]}, {'screen_name': 'Nike', 'name': 'Nike', 'id': 415859364, 'id_str': '415859364', 'indices': [26, 31]}], 'urls': []}, 'source': '<a href=\"http://twitter.com/download/iphone\" rel=\"nofollow\">Twitter for iPhone</a>', 'in_reply_to_status_id': 1465500834267947000, 'in_reply_to_status_id_str': '1465500834267947012', 'in_reply_to_user_id': 2966774301, 'in_reply_to_user_id_str': '2966774301', 'in_reply_to_screen_name': 'uninterrupted', 'user': {'id': 912875113061732400, 'id_str': '912875113061732352', 'name': 'Proud American', 'screen_name': 'ProudAm44757993', 'location': 'United States', 'description': 'Immigrant and Proud American. We are in mourning 🖤We have a DICTATORSHIP Federal government in USA 🇺🇸 #FJB', 'url': None, 'entities': {'description': {'urls': []}}, 'protected': False, 'followers_count': 1208, 'friends_count': 1251, 'listed_count': 2, 'created_at': 'Wed Sep 27 03:02:42 +0000 2017', 'favourites_count': 44227, 'utc_offset': None, 'time_zone': None, 'geo_enabled': False, 'verified': False, 'statuses_count': 35189, 'lang': None, 'contributors_enabled': False, 'is_translator': False, 'is_translation_enabled': False, 'profile_background_color': 'F5F8FA', 'profile_background_image_url': None, 'profile_background_image_url_https': None, 'profile_background_tile': False, 'profile_image_url': 'http://pbs.twimg.com/profile_images/1431951485332504579/rPfeYO5T_normal.jpg', 'profile_image_url_https': 'https://pbs.twimg.com/profile_images/1431951485332504579/rPfeYO5T_normal.jpg', 'profile_banner_url': 'https://pbs.twimg.com/profile_banners/912875113061732352/1633364962', 'profile_link_color': '1DA1F2', 'profile_sidebar_border_color': 'C0DEED', 'profile_sidebar_fill_color': 'DDEEF6', 'profile_text_color': '333333', 'profile_use_background_image': True, 'has_extended_profile': False, 'default_profile': True, 'default_profile_image': False, 'following': False, 'follow_request_sent': False, 'notifications': False, 'translator_type': 'none', 'withheld_in_countries': []}, 'geo': None, 'coordinates': None, 'place': None, 'contributors': None, 'is_quote_status': False, 'retweet_count': 0, 'favorite_count': 0, 'favorited': False, 'retweeted': False, 'lang': 'en'}\n",
            "False\n",
            "{'created_at': 'Thu Dec 09 01:55:03 +0000 2021', 'id': 1468761075076243500, 'id_str': '1468761075076243461', 'full_text': \"#ad The Nike Air VaporMax 2021 Flyknit 'Logo Pack' is now available via @FinishLine! |$200| #SneakerScouts @Nike https://t.co/RydcvOxpQm https://t.co/e40qQcwzxl\", 'truncated': False, 'display_text_range': [0, 136], 'entities': {'hashtags': [{'text': 'ad', 'indices': [0, 3]}, {'text': 'SneakerScouts', 'indices': [92, 106]}], 'symbols': [], 'user_mentions': [{'screen_name': 'FinishLine', 'name': 'Finish Line', 'id': 22175551, 'id_str': '22175551', 'indices': [72, 83]}, {'screen_name': 'Nike', 'name': 'Nike', 'id': 415859364, 'id_str': '415859364', 'indices': [107, 112]}], 'urls': [{'url': 'https://t.co/RydcvOxpQm', 'expanded_url': 'https://www.finishline.com/store/product/mens-nike-air-vapormax-2021-flyknit-running-shoes/prod2825432?styleId=DH4085&colorId=001&ranMID=37731&ranEAID=zAJE4hSbGa4&ranSiteID=zAJE4hSbGa4-IewV88gLY8C.IgYLoHbs1w&CMP=AFL-LS-affiliatechannel&sourceid=affiliate&utm_source=3516449&utm_medium=affiliate&utm_campaign=1&siteID=zAJE4hSbGa4-IewV88gLY8C.IgYLoHbs1w', 'display_url': 'finishline.com/store/product/…', 'indices': [113, 136]}], 'media': [{'id': 1468761072513527800, 'id_str': '1468761072513527811', 'indices': [137, 160], 'media_url': 'http://pbs.twimg.com/media/FGIWaeMXMAM9vDw.jpg', 'media_url_https': 'https://pbs.twimg.com/media/FGIWaeMXMAM9vDw.jpg', 'url': 'https://t.co/e40qQcwzxl', 'display_url': 'pic.twitter.com/e40qQcwzxl', 'expanded_url': 'https://twitter.com/SneakerScouts/status/1468761075076243461/photo/1', 'type': 'photo', 'sizes': {'thumb': {'w': 150, 'h': 150, 'resize': 'crop'}, 'medium': {'w': 1000, 'h': 796, 'resize': 'fit'}, 'large': {'w': 1000, 'h': 796, 'resize': 'fit'}, 'small': {'w': 680, 'h': 541, 'resize': 'fit'}}}]}, 'extended_entities': {'media': [{'id': 1468761072513527800, 'id_str': '1468761072513527811', 'indices': [137, 160], 'media_url': 'http://pbs.twimg.com/media/FGIWaeMXMAM9vDw.jpg', 'media_url_https': 'https://pbs.twimg.com/media/FGIWaeMXMAM9vDw.jpg', 'url': 'https://t.co/e40qQcwzxl', 'display_url': 'pic.twitter.com/e40qQcwzxl', 'expanded_url': 'https://twitter.com/SneakerScouts/status/1468761075076243461/photo/1', 'type': 'photo', 'sizes': {'thumb': {'w': 150, 'h': 150, 'resize': 'crop'}, 'medium': {'w': 1000, 'h': 796, 'resize': 'fit'}, 'large': {'w': 1000, 'h': 796, 'resize': 'fit'}, 'small': {'w': 680, 'h': 541, 'resize': 'fit'}}}, {'id': 1468761072232546300, 'id_str': '1468761072232546310', 'indices': [137, 160], 'media_url': 'http://pbs.twimg.com/media/FGIWadJXwAYI0H_.jpg', 'media_url_https': 'https://pbs.twimg.com/media/FGIWadJXwAYI0H_.jpg', 'url': 'https://t.co/e40qQcwzxl', 'display_url': 'pic.twitter.com/e40qQcwzxl', 'expanded_url': 'https://twitter.com/SneakerScouts/status/1468761075076243461/photo/1', 'type': 'photo', 'sizes': {'thumb': {'w': 150, 'h': 150, 'resize': 'crop'}, 'small': {'w': 680, 'h': 680, 'resize': 'fit'}, 'medium': {'w': 1000, 'h': 1000, 'resize': 'fit'}, 'large': {'w': 1000, 'h': 1000, 'resize': 'fit'}}}, {'id': 1468761072542830600, 'id_str': '1468761072542830596', 'indices': [137, 160], 'media_url': 'http://pbs.twimg.com/media/FGIWaeTWUAQV81h.jpg', 'media_url_https': 'https://pbs.twimg.com/media/FGIWaeTWUAQV81h.jpg', 'url': 'https://t.co/e40qQcwzxl', 'display_url': 'pic.twitter.com/e40qQcwzxl', 'expanded_url': 'https://twitter.com/SneakerScouts/status/1468761075076243461/photo/1', 'type': 'photo', 'sizes': {'thumb': {'w': 150, 'h': 150, 'resize': 'crop'}, 'large': {'w': 1000, 'h': 1000, 'resize': 'fit'}, 'small': {'w': 680, 'h': 680, 'resize': 'fit'}, 'medium': {'w': 1000, 'h': 1000, 'resize': 'fit'}}}, {'id': 1468761072588963800, 'id_str': '1468761072588963844', 'indices': [137, 160], 'media_url': 'http://pbs.twimg.com/media/FGIWaeeWQAQ0Lgz.jpg', 'media_url_https': 'https://pbs.twimg.com/media/FGIWaeeWQAQ0Lgz.jpg', 'url': 'https://t.co/e40qQcwzxl', 'display_url': 'pic.twitter.com/e40qQcwzxl', 'expanded_url': 'https://twitter.com/SneakerScouts/status/1468761075076243461/photo/1', 'type': 'photo', 'sizes': {'thumb': {'w': 150, 'h': 150, 'resize': 'crop'}, 'small': {'w': 680, 'h': 680, 'resize': 'fit'}, 'medium': {'w': 1000, 'h': 1000, 'resize': 'fit'}, 'large': {'w': 1000, 'h': 1000, 'resize': 'fit'}}}]}, 'source': '<a href=\"https://www.hootsuite.com\" rel=\"nofollow\">Hootsuite Inc.</a>', 'in_reply_to_status_id': None, 'in_reply_to_status_id_str': None, 'in_reply_to_user_id': None, 'in_reply_to_user_id_str': None, 'in_reply_to_screen_name': None, 'user': {'id': 792182745942233100, 'id_str': '792182745942233089', 'name': '#SneakerScouts', 'screen_name': 'SneakerScouts', 'location': '', 'description': 'The #1 source for sneaker news, release dates, sales, and general information! info@SneakerScouts.com  #SneakerScouts', 'url': 'https://t.co/YBERhCCwh7', 'entities': {'url': {'urls': [{'url': 'https://t.co/YBERhCCwh7', 'expanded_url': 'http://www.SneakerScouts.com', 'display_url': 'SneakerScouts.com', 'indices': [0, 23]}]}, 'description': {'urls': []}}, 'protected': False, 'followers_count': 18262, 'friends_count': 6397, 'listed_count': 82, 'created_at': 'Sat Oct 29 01:54:19 +0000 2016', 'favourites_count': 169294, 'utc_offset': None, 'time_zone': None, 'geo_enabled': False, 'verified': False, 'statuses_count': 301805, 'lang': None, 'contributors_enabled': False, 'is_translator': False, 'is_translation_enabled': False, 'profile_background_color': '000000', 'profile_background_image_url': 'http://abs.twimg.com/images/themes/theme1/bg.png', 'profile_background_image_url_https': 'https://abs.twimg.com/images/themes/theme1/bg.png', 'profile_background_tile': False, 'profile_image_url': 'http://pbs.twimg.com/profile_images/971422898886868992/K3R78VcP_normal.jpg', 'profile_image_url_https': 'https://pbs.twimg.com/profile_images/971422898886868992/K3R78VcP_normal.jpg', 'profile_banner_url': 'https://pbs.twimg.com/profile_banners/792182745942233089/1540175194', 'profile_link_color': '000000', 'profile_sidebar_border_color': '000000', 'profile_sidebar_fill_color': '000000', 'profile_text_color': '000000', 'profile_use_background_image': False, 'has_extended_profile': False, 'default_profile': False, 'default_profile_image': False, 'following': False, 'follow_request_sent': False, 'notifications': False, 'translator_type': 'none', 'withheld_in_countries': []}, 'geo': None, 'coordinates': None, 'place': None, 'contributors': None, 'is_quote_status': False, 'retweet_count': 3, 'favorite_count': 4, 'favorited': False, 'retweeted': False, 'possibly_sensitive': False, 'lang': 'en'}\n",
            "False\n",
            "{'created_at': 'Sun Dec 12 06:34:27 +0000 2021', 'id': 1469918554434818000, 'id_str': '1469918554434818049', 'full_text': '@Nike @Jumpman23 so I was up at 9:55 and soon as it hit 10 I put it my raffle for the cool grey 11s …… sold out … your SNKRS app is wack and always gives away to bots . Y’all seriously have to come up with a better way. Like how do I not get a pair 😂 9:59 I put in my order 🤣', 'truncated': False, 'display_text_range': [0, 275], 'entities': {'hashtags': [], 'symbols': [], 'user_mentions': [{'screen_name': 'Nike', 'name': 'Nike', 'id': 415859364, 'id_str': '415859364', 'indices': [0, 5]}, {'screen_name': 'Jumpman23', 'name': 'Jordan', 'id': 198975780, 'id_str': '198975780', 'indices': [6, 16]}], 'urls': []}, 'source': '<a href=\"http://twitter.com/download/iphone\" rel=\"nofollow\">Twitter for iPhone</a>', 'in_reply_to_status_id': None, 'in_reply_to_status_id_str': None, 'in_reply_to_user_id': 415859364, 'in_reply_to_user_id_str': '415859364', 'in_reply_to_screen_name': 'Nike', 'user': {'id': 433659441, 'id_str': '433659441', 'name': 'ToeKnee🇳🇮', 'screen_name': 'YnotGonzo', 'location': 'Village ', 'description': 'Love is the most important thing in the world, but baseball is pretty good too. RIP Ramsey RIP Boomer❤️❤️❤️', 'url': None, 'entities': {'description': {'urls': []}}, 'protected': False, 'followers_count': 126, 'friends_count': 132, 'listed_count': 0, 'created_at': 'Sat Dec 10 21:10:37 +0000 2011', 'favourites_count': 4347, 'utc_offset': None, 'time_zone': None, 'geo_enabled': True, 'verified': False, 'statuses_count': 10770, 'lang': None, 'contributors_enabled': False, 'is_translator': False, 'is_translation_enabled': False, 'profile_background_color': 'C0DEED', 'profile_background_image_url': 'http://abs.twimg.com/images/themes/theme1/bg.png', 'profile_background_image_url_https': 'https://abs.twimg.com/images/themes/theme1/bg.png', 'profile_background_tile': False, 'profile_image_url': 'http://pbs.twimg.com/profile_images/1452893410092883971/TXe4onia_normal.jpg', 'profile_image_url_https': 'https://pbs.twimg.com/profile_images/1452893410092883971/TXe4onia_normal.jpg', 'profile_banner_url': 'https://pbs.twimg.com/profile_banners/433659441/1635231758', 'profile_link_color': '1DA1F2', 'profile_sidebar_border_color': 'C0DEED', 'profile_sidebar_fill_color': 'DDEEF6', 'profile_text_color': '333333', 'profile_use_background_image': True, 'has_extended_profile': True, 'default_profile': True, 'default_profile_image': False, 'following': False, 'follow_request_sent': False, 'notifications': False, 'translator_type': 'none', 'withheld_in_countries': []}, 'geo': None, 'coordinates': None, 'place': None, 'contributors': None, 'is_quote_status': False, 'retweet_count': 0, 'favorite_count': 1, 'favorited': False, 'retweeted': False, 'lang': 'en'}\n",
            "False\n",
            "{'created_at': 'Wed Dec 15 20:46:37 +0000 2021', 'id': 1471220171943690200, 'id_str': '1471220171943690242', 'full_text': '@brandometry @4o4esports @Nike 😎🤜🤛😎 https://t.co/X7AOoEdLAc', 'truncated': False, 'display_text_range': [31, 35], 'entities': {'hashtags': [], 'symbols': [], 'user_mentions': [{'screen_name': 'brandometry', 'name': 'Mr. Bran', 'id': 59011572, 'id_str': '59011572', 'indices': [0, 12]}, {'screen_name': '4o4esports', 'name': '4o4 Esports', 'id': 1027353531806830600, 'id_str': '1027353531806830592', 'indices': [13, 24]}, {'screen_name': 'Nike', 'name': 'Nike', 'id': 415859364, 'id_str': '415859364', 'indices': [25, 30]}], 'urls': [], 'media': [{'id': 1471220152981205000, 'id_str': '1471220152981204993', 'indices': [36, 59], 'media_url': 'http://pbs.twimg.com/media/FGrS7yzXMAEP233.jpg', 'media_url_https': 'https://pbs.twimg.com/media/FGrS7yzXMAEP233.jpg', 'url': 'https://t.co/X7AOoEdLAc', 'display_url': 'pic.twitter.com/X7AOoEdLAc', 'expanded_url': 'https://twitter.com/JeffreyBoz247/status/1471220171943690242/photo/1', 'type': 'photo', 'sizes': {'thumb': {'w': 150, 'h': 150, 'resize': 'crop'}, 'medium': {'w': 900, 'h': 1200, 'resize': 'fit'}, 'large': {'w': 1536, 'h': 2048, 'resize': 'fit'}, 'small': {'w': 510, 'h': 680, 'resize': 'fit'}}}]}, 'extended_entities': {'media': [{'id': 1471220152981205000, 'id_str': '1471220152981204993', 'indices': [36, 59], 'media_url': 'http://pbs.twimg.com/media/FGrS7yzXMAEP233.jpg', 'media_url_https': 'https://pbs.twimg.com/media/FGrS7yzXMAEP233.jpg', 'url': 'https://t.co/X7AOoEdLAc', 'display_url': 'pic.twitter.com/X7AOoEdLAc', 'expanded_url': 'https://twitter.com/JeffreyBoz247/status/1471220171943690242/photo/1', 'type': 'photo', 'sizes': {'thumb': {'w': 150, 'h': 150, 'resize': 'crop'}, 'medium': {'w': 900, 'h': 1200, 'resize': 'fit'}, 'large': {'w': 1536, 'h': 2048, 'resize': 'fit'}, 'small': {'w': 510, 'h': 680, 'resize': 'fit'}}}, {'id': 1471220164830154800, 'id_str': '1471220164830154758', 'indices': [36, 59], 'media_url': 'http://pbs.twimg.com/media/FGrS8e8X0AYAobM.jpg', 'media_url_https': 'https://pbs.twimg.com/media/FGrS8e8X0AYAobM.jpg', 'url': 'https://t.co/X7AOoEdLAc', 'display_url': 'pic.twitter.com/X7AOoEdLAc', 'expanded_url': 'https://twitter.com/JeffreyBoz247/status/1471220171943690242/photo/1', 'type': 'photo', 'sizes': {'small': {'w': 510, 'h': 680, 'resize': 'fit'}, 'thumb': {'w': 150, 'h': 150, 'resize': 'crop'}, 'medium': {'w': 900, 'h': 1200, 'resize': 'fit'}, 'large': {'w': 1536, 'h': 2048, 'resize': 'fit'}}}]}, 'source': '<a href=\"http://twitter.com/download/android\" rel=\"nofollow\">Twitter for Android</a>', 'in_reply_to_status_id': 1471135704583483400, 'in_reply_to_status_id_str': '1471135704583483392', 'in_reply_to_user_id': 59011572, 'in_reply_to_user_id_str': '59011572', 'in_reply_to_screen_name': 'brandometry', 'user': {'id': 313584123, 'id_str': '313584123', 'name': 'Jefftopia', 'screen_name': 'JeffreyBoz247', 'location': '', 'description': \"If you don't look like a anime girl Don't DM\\n🇯🇵ANIME  Groove/ラブビット \\nSplatoons is 💕Button masher \\nFGC  member. ARTIST ALWAYS LIT🎵🔥🎶🔥\\ncasually creative\", 'url': None, 'entities': {'description': {'urls': []}}, 'protected': False, 'followers_count': 112, 'friends_count': 845, 'listed_count': 6, 'created_at': 'Wed Jun 08 21:56:27 +0000 2011', 'favourites_count': 36887, 'utc_offset': None, 'time_zone': None, 'geo_enabled': True, 'verified': False, 'statuses_count': 15500, 'lang': None, 'contributors_enabled': False, 'is_translator': False, 'is_translation_enabled': False, 'profile_background_color': '1E0424', 'profile_background_image_url': 'http://abs.twimg.com/images/themes/theme15/bg.png', 'profile_background_image_url_https': 'https://abs.twimg.com/images/themes/theme15/bg.png', 'profile_background_tile': False, 'profile_image_url': 'http://pbs.twimg.com/profile_images/1323311744392044545/NSLyXRMp_normal.jpg', 'profile_image_url_https': 'https://pbs.twimg.com/profile_images/1323311744392044545/NSLyXRMp_normal.jpg', 'profile_banner_url': 'https://pbs.twimg.com/profile_banners/313584123/1578921970', 'profile_link_color': 'EB0909', 'profile_sidebar_border_color': 'EB26E4', 'profile_sidebar_fill_color': '14B9FA', 'profile_text_color': 'EB1212', 'profile_use_background_image': True, 'has_extended_profile': True, 'default_profile': False, 'default_profile_image': False, 'following': False, 'follow_request_sent': False, 'notifications': False, 'translator_type': 'none', 'withheld_in_countries': []}, 'geo': None, 'coordinates': None, 'place': None, 'contributors': None, 'is_quote_status': False, 'retweet_count': 0, 'favorite_count': 0, 'favorited': False, 'retweeted': False, 'possibly_sensitive': False, 'lang': 'und'}\n",
            "False\n",
            "{'created_at': 'Tue Dec 21 14:44:22 +0000 2021', 'id': 1473303335952437200, 'id_str': '1473303335952437254', 'full_text': '12/3/2021 - the gear hook up from @chicagoeliteclassic &amp;  @Nike @jumpman23 \\n\\n#ChicagoEliteBasketball\\n#HighSchoolBasketball\\n#Nike #JordanBrand\\n#NikeChicago\\n\\n#ButlerCollegePrepGBBALL \\n#LadyLynxBCP \\n#itstheBUTLERway \\n#LynxEatemUp🐯 \\n#GoLynx🏀🧡💙 \\n#FeartheLynxBCP\\n#LadyLynxwantitall https://t.co/qvsRysMSRP', 'truncated': False, 'display_text_range': [0, 279], 'entities': {'hashtags': [{'text': 'ChicagoEliteBasketball', 'indices': [81, 104]}, {'text': 'HighSchoolBasketball', 'indices': [105, 126]}, {'text': 'Nike', 'indices': [127, 132]}, {'text': 'JordanBrand', 'indices': [133, 145]}, {'text': 'NikeChicago', 'indices': [146, 158]}, {'text': 'ButlerCollegePrepGBBALL', 'indices': [160, 184]}, {'text': 'LadyLynxBCP', 'indices': [186, 198]}, {'text': 'itstheBUTLERway', 'indices': [200, 216]}, {'text': 'LynxEatemUp', 'indices': [218, 230]}, {'text': 'GoLynx', 'indices': [233, 240]}, {'text': 'FeartheLynxBCP', 'indices': [245, 260]}, {'text': 'LadyLynxwantitall', 'indices': [261, 279]}], 'symbols': [], 'user_mentions': [{'screen_name': 'Nike', 'name': 'Nike', 'id': 415859364, 'id_str': '415859364', 'indices': [62, 67]}, {'screen_name': 'Jumpman23', 'name': 'Jordan', 'id': 198975780, 'id_str': '198975780', 'indices': [68, 78]}], 'urls': [], 'media': [{'id': 1473303261813915600, 'id_str': '1473303261813915654', 'indices': [280, 303], 'media_url': 'http://pbs.twimg.com/ext_tw_video_thumb/1473303261813915654/pu/img/FzfPcHz001t6uP7i.jpg', 'media_url_https': 'https://pbs.twimg.com/ext_tw_video_thumb/1473303261813915654/pu/img/FzfPcHz001t6uP7i.jpg', 'url': 'https://t.co/qvsRysMSRP', 'display_url': 'pic.twitter.com/qvsRysMSRP', 'expanded_url': 'https://twitter.com/BCPLadyLynx/status/1473303335952437254/video/1', 'type': 'photo', 'sizes': {'thumb': {'w': 150, 'h': 150, 'resize': 'crop'}, 'medium': {'w': 1200, 'h': 675, 'resize': 'fit'}, 'small': {'w': 680, 'h': 383, 'resize': 'fit'}, 'large': {'w': 1280, 'h': 720, 'resize': 'fit'}}}]}, 'extended_entities': {'media': [{'id': 1473303261813915600, 'id_str': '1473303261813915654', 'indices': [280, 303], 'media_url': 'http://pbs.twimg.com/ext_tw_video_thumb/1473303261813915654/pu/img/FzfPcHz001t6uP7i.jpg', 'media_url_https': 'https://pbs.twimg.com/ext_tw_video_thumb/1473303261813915654/pu/img/FzfPcHz001t6uP7i.jpg', 'url': 'https://t.co/qvsRysMSRP', 'display_url': 'pic.twitter.com/qvsRysMSRP', 'expanded_url': 'https://twitter.com/BCPLadyLynx/status/1473303335952437254/video/1', 'type': 'video', 'sizes': {'thumb': {'w': 150, 'h': 150, 'resize': 'crop'}, 'medium': {'w': 1200, 'h': 675, 'resize': 'fit'}, 'small': {'w': 680, 'h': 383, 'resize': 'fit'}, 'large': {'w': 1280, 'h': 720, 'resize': 'fit'}}, 'video_info': {'aspect_ratio': [16, 9], 'duration_millis': 19245, 'variants': [{'bitrate': 256000, 'content_type': 'video/mp4', 'url': 'https://video.twimg.com/ext_tw_video/1473303261813915654/pu/vid/480x270/DPoaMpjYyKqROniQ.mp4?tag=12'}, {'bitrate': 2176000, 'content_type': 'video/mp4', 'url': 'https://video.twimg.com/ext_tw_video/1473303261813915654/pu/vid/1280x720/qfV4upOMYVDLgKyj.mp4?tag=12'}, {'content_type': 'application/x-mpegURL', 'url': 'https://video.twimg.com/ext_tw_video/1473303261813915654/pu/pl/Hl-pkl9ZZtLyjkMX.m3u8?tag=12&container=fmp4'}, {'bitrate': 832000, 'content_type': 'video/mp4', 'url': 'https://video.twimg.com/ext_tw_video/1473303261813915654/pu/vid/640x360/gAY0ksHVhC2APwV3.mp4?tag=12'}]}, 'additional_media_info': {'monetizable': False}}]}, 'source': '<a href=\"http://twitter.com/download/iphone\" rel=\"nofollow\">Twitter for iPhone</a>', 'in_reply_to_status_id': None, 'in_reply_to_status_id_str': None, 'in_reply_to_user_id': None, 'in_reply_to_user_id_str': None, 'in_reply_to_screen_name': None, 'user': {'id': 926899939040514000, 'id_str': '926899939040514048', 'name': 'Lady Lynx', 'screen_name': 'BCPLadyLynx', 'location': 'Chicago, IL', 'description': 'Official Twitter for Butler College Prep Lady Lynx 🏀 • 2020 & 2021 Noble League Champions 🏆 ✌🏽 times • 📺 Live Link for games ⬇️', 'url': 'https://t.co/X51sc9D2YB', 'entities': {'url': {'urls': [{'url': 'https://t.co/X51sc9D2YB', 'expanded_url': 'https://www.youtube.com/user/ILXCITEMENT', 'display_url': 'youtube.com/user/ILXCITEME…', 'indices': [0, 23]}]}, 'description': {'urls': []}}, 'protected': False, 'followers_count': 184, 'friends_count': 239, 'listed_count': 2, 'created_at': 'Sat Nov 04 19:52:21 +0000 2017', 'favourites_count': 952, 'utc_offset': None, 'time_zone': None, 'geo_enabled': False, 'verified': False, 'statuses_count': 1032, 'lang': None, 'contributors_enabled': False, 'is_translator': False, 'is_translation_enabled': False, 'profile_background_color': 'F5F8FA', 'profile_background_image_url': None, 'profile_background_image_url_https': None, 'profile_background_tile': False, 'profile_image_url': 'http://pbs.twimg.com/profile_images/1458266230750601222/vq2EsBUt_normal.jpg', 'profile_image_url_https': 'https://pbs.twimg.com/profile_images/1458266230750601222/vq2EsBUt_normal.jpg', 'profile_banner_url': 'https://pbs.twimg.com/profile_banners/926899939040514048/1616301748', 'profile_link_color': '1DA1F2', 'profile_sidebar_border_color': 'C0DEED', 'profile_sidebar_fill_color': 'DDEEF6', 'profile_text_color': '333333', 'profile_use_background_image': True, 'has_extended_profile': False, 'default_profile': True, 'default_profile_image': False, 'following': False, 'follow_request_sent': False, 'notifications': False, 'translator_type': 'none', 'withheld_in_countries': []}, 'geo': None, 'coordinates': None, 'place': None, 'contributors': None, 'is_quote_status': False, 'retweet_count': 0, 'favorite_count': 0, 'favorited': False, 'retweeted': False, 'possibly_sensitive': False, 'lang': 'en'}\n",
            "False\n",
            "{'created_at': 'Wed Dec 29 15:55:18 +0000 2021', 'id': 1476220289335718000, 'id_str': '1476220289335717890', 'full_text': \"@Nubbers_Natch @JoeLashKGT @adidas Did Steph win the dunk contest too? Lol I don't think I've ever even seen Steph dunk the ball. For Donovan to do what he has done is impressive and to take anything away from that is straight jealousy!\", 'truncated': False, 'display_text_range': [35, 236], 'entities': {'hashtags': [], 'symbols': [], 'user_mentions': [{'screen_name': 'Nubbers_Natch', 'name': 'Matt Finnigan', 'id': 1306168063, 'id_str': '1306168063', 'indices': [0, 14]}, {'screen_name': 'JoeLashKGT', 'name': 'Joe Lash', 'id': 3385743485, 'id_str': '3385743485', 'indices': [15, 26]}, {'screen_name': 'adidas', 'name': 'adidas', 'id': 300114634, 'id_str': '300114634', 'indices': [27, 34]}], 'urls': []}, 'source': '<a href=\"https://mobile.twitter.com\" rel=\"nofollow\">Twitter Web App</a>', 'in_reply_to_status_id': 1476206302451966000, 'in_reply_to_status_id_str': '1476206302451965966', 'in_reply_to_user_id': 1306168063, 'in_reply_to_user_id_str': '1306168063', 'in_reply_to_screen_name': 'Nubbers_Natch', 'user': {'id': 1742966659, 'id_str': '1742966659', 'name': 'Jamiere West', 'screen_name': 'Tdking87', 'location': '', 'description': '', 'url': None, 'entities': {'description': {'urls': []}}, 'protected': False, 'followers_count': 24, 'friends_count': 27, 'listed_count': 0, 'created_at': 'Sat Sep 07 07:45:48 +0000 2013', 'favourites_count': 1555, 'utc_offset': None, 'time_zone': None, 'geo_enabled': False, 'verified': False, 'statuses_count': 1149, 'lang': None, 'contributors_enabled': False, 'is_translator': False, 'is_translation_enabled': False, 'profile_background_color': 'C0DEED', 'profile_background_image_url': 'http://abs.twimg.com/images/themes/theme1/bg.png', 'profile_background_image_url_https': 'https://abs.twimg.com/images/themes/theme1/bg.png', 'profile_background_tile': False, 'profile_image_url': 'http://pbs.twimg.com/profile_images/1440066671440400403/hHhobhVw_normal.jpg', 'profile_image_url_https': 'https://pbs.twimg.com/profile_images/1440066671440400403/hHhobhVw_normal.jpg', 'profile_banner_url': 'https://pbs.twimg.com/profile_banners/1742966659/1525415617', 'profile_link_color': '1DA1F2', 'profile_sidebar_border_color': 'C0DEED', 'profile_sidebar_fill_color': 'DDEEF6', 'profile_text_color': '333333', 'profile_use_background_image': True, 'has_extended_profile': False, 'default_profile': True, 'default_profile_image': False, 'following': False, 'follow_request_sent': False, 'notifications': False, 'translator_type': 'none', 'withheld_in_countries': []}, 'geo': None, 'coordinates': None, 'place': None, 'contributors': None, 'is_quote_status': False, 'retweet_count': 0, 'favorite_count': 5, 'favorited': False, 'retweeted': False, 'lang': 'en'}\n",
            "False\n"
          ]
        }
      ]
    },
    {
      "cell_type": "markdown",
      "source": [
        "## Check the count\n",
        "\n",
        "If you have implemented your matching function correctly, the count of US tweets should be **5713**:"
      ],
      "metadata": {
        "id": "M3JhOX85pfGP"
      }
    },
    {
      "cell_type": "code",
      "source": [
        "print(len(US_tweets))"
      ],
      "metadata": {
        "id": "xf_Mzs5TbCXT",
        "colab": {
          "base_uri": "https://localhost:8080/"
        },
        "outputId": "57f09848-0723-4bfe-8fb6-fa2a4790b2ce"
      },
      "execution_count": 10,
      "outputs": [
        {
          "output_type": "stream",
          "name": "stdout",
          "text": [
            "5713\n"
          ]
        }
      ]
    },
    {
      "cell_type": "markdown",
      "source": [
        "## Refiltering\n",
        "\n",
        "Now, make another pass on the tweets, this time narrowing the selection down by date. You could have passed in all of the filter parameters above, but sometimes iterative filtering like this is useful during a data exploration or analysis."
      ],
      "metadata": {
        "id": "zZ68myPkpt32"
      }
    },
    {
      "cell_type": "code",
      "source": [
        "nov_usa_tweets = list(filter_tweets(US_tweets, start_date=start, end_date=end))"
      ],
      "metadata": {
        "id": "puNKR6nXlpUe",
        "colab": {
          "base_uri": "https://localhost:8080/"
        },
        "outputId": "537196ea-24a7-4c0b-cb15-512e17cbca85"
      },
      "execution_count": 11,
      "outputs": [
        {
          "output_type": "stream",
          "name": "stdout",
          "text": [
            "{'created_at': 'Fri Oct 01 08:15:17 +0000 2021', 'id': 1443852003537571800, 'id_str': '1443852003537571845', 'full_text': '@USArmy @BritishArmy @CNN @WheelofFortune @BloombergRadio @wbpictures @DisneyStudios @WGCI @HOT97 @V103 @TMZ @HarveyLevinTMZ @etnow @instagram @eBay @amazon @ABC @ABC7Chicago @Chicago_Police @NYPDnews @usairforce @USMC @USNavy @RoyalFamily @RoyalNavy @RoyalAirForce @jack @finkd @PriscillaChanZ @business @FBI @Nike @BeccaDiamondxx @DanaCBS2 @WaltDisneyCo @POTUS @VP @DrBiden44 @TheDemocrats @TheGreenParty @BET @foxsoultv @DrSeanMcMillan @MsTammiMac To the @USArmy @USNavy @USMC @usairforce @BritishArmy abroad.', 'truncated': False, 'display_text_range': [451, 512], 'entities': {'hashtags': [], 'symbols': [], 'user_mentions': [{'screen_name': 'USArmy', 'name': 'U.S. Army', 'id': 8775672, 'id_str': '8775672', 'indices': [0, 7]}, {'screen_name': 'BritishArmy', 'name': 'British Army', 'id': 22046686, 'id_str': '22046686', 'indices': [8, 20]}, {'screen_name': 'CNN', 'name': 'CNN', 'id': 759251, 'id_str': '759251', 'indices': [21, 25]}, {'screen_name': 'WheelofFortune', 'name': 'Wheel of Fortune', 'id': 52553796, 'id_str': '52553796', 'indices': [26, 41]}, {'screen_name': 'BloombergRadio', 'name': 'Bloomberg Radio', 'id': 57675435, 'id_str': '57675435', 'indices': [42, 57]}, {'screen_name': 'wbpictures', 'name': 'Warner Bros. Pictures', 'id': 20255162, 'id_str': '20255162', 'indices': [58, 69]}, {'screen_name': 'DisneyStudios', 'name': 'Walt Disney Studios', 'id': 36947388, 'id_str': '36947388', 'indices': [70, 84]}, {'screen_name': 'WGCI', 'name': 'WGCI', 'id': 20493439, 'id_str': '20493439', 'indices': [85, 90]}, {'screen_name': 'HOT97', 'name': 'HOT 97', 'id': 14854462, 'id_str': '14854462', 'indices': [91, 97]}, {'screen_name': 'V103', 'name': 'V103 Chicago', 'id': 20643110, 'id_str': '20643110', 'indices': [98, 103]}, {'screen_name': 'TMZ', 'name': 'TMZ', 'id': 16331010, 'id_str': '16331010', 'indices': [104, 108]}, {'screen_name': 'HarveyLevinTMZ', 'name': 'Harvey Levin', 'id': 36098990, 'id_str': '36098990', 'indices': [109, 124]}, {'screen_name': 'etnow', 'name': 'Entertainment Tonight', 'id': 23603092, 'id_str': '23603092', 'indices': [125, 131]}, {'screen_name': 'instagram', 'name': 'Instagram', 'id': 180505807, 'id_str': '180505807', 'indices': [132, 142]}, {'screen_name': 'eBay', 'name': 'eBay', 'id': 19709040, 'id_str': '19709040', 'indices': [143, 148]}, {'screen_name': 'amazon', 'name': 'Amazon', 'id': 20793816, 'id_str': '20793816', 'indices': [149, 156]}, {'screen_name': 'ABC', 'name': 'ABC News', 'id': 28785486, 'id_str': '28785486', 'indices': [157, 161]}, {'screen_name': 'ABC7Chicago', 'name': 'ABC 7 Chicago', 'id': 17028405, 'id_str': '17028405', 'indices': [162, 174]}, {'screen_name': 'Chicago_Police', 'name': 'Chicago Police', 'id': 24252468, 'id_str': '24252468', 'indices': [175, 190]}, {'screen_name': 'NYPDnews', 'name': 'NYPD NEWS', 'id': 17393196, 'id_str': '17393196', 'indices': [191, 200]}, {'screen_name': 'usairforce', 'name': 'U.S. Air Force', 'id': 19611483, 'id_str': '19611483', 'indices': [201, 212]}, {'screen_name': 'USMC', 'name': 'U.S. Marines', 'id': 10126672, 'id_str': '10126672', 'indices': [213, 218]}, {'screen_name': 'USNavy', 'name': 'U.S. Navy', 'id': 54885400, 'id_str': '54885400', 'indices': [219, 226]}, {'screen_name': 'RoyalFamily', 'name': 'The Royal Family', 'id': 36042554, 'id_str': '36042554', 'indices': [227, 239]}, {'screen_name': 'RoyalNavy', 'name': 'Royal Navy', 'id': 343961846, 'id_str': '343961846', 'indices': [240, 250]}, {'screen_name': 'RoyalAirForce', 'name': 'Royal Air Force', 'id': 92943533, 'id_str': '92943533', 'indices': [251, 265]}, {'screen_name': 'jack', 'name': 'jack⚡️', 'id': 12, 'id_str': '12', 'indices': [266, 271]}, {'screen_name': 'finkd', 'name': 'Mark Zuckerberg', 'id': 20749410, 'id_str': '20749410', 'indices': [272, 278]}, {'screen_name': 'PriscillaChanZ', 'name': 'Priscilla Chan', 'id': 719302468694356000, 'id_str': '719302468694355970', 'indices': [279, 294]}, {'screen_name': 'business', 'name': 'Bloomberg', 'id': 34713362, 'id_str': '34713362', 'indices': [295, 304]}, {'screen_name': 'FBI', 'name': 'FBI', 'id': 17629860, 'id_str': '17629860', 'indices': [305, 309]}, {'screen_name': 'Nike', 'name': 'Nike', 'id': 415859364, 'id_str': '415859364', 'indices': [310, 315]}, {'screen_name': 'BeccaDiamondxx', 'name': 'Charming Teacher', 'id': 1593883962, 'id_str': '1593883962', 'indices': [316, 331]}, {'screen_name': 'DanaCBS2', 'name': 'Dana Kozlov', 'id': 64897628, 'id_str': '64897628', 'indices': [332, 341]}, {'screen_name': 'WaltDisneyCo', 'name': 'Walt Disney Company', 'id': 398282459, 'id_str': '398282459', 'indices': [342, 355]}, {'screen_name': 'POTUS', 'name': 'President Biden', 'id': 1349149096909668400, 'id_str': '1349149096909668363', 'indices': [356, 362]}, {'screen_name': 'VP', 'name': 'Vice President Kamala Harris', 'id': 803694179079458800, 'id_str': '803694179079458816', 'indices': [363, 366]}, {'screen_name': 'DrBiden44', 'name': 'Dr. Biden -Archived', 'id': 1281405877, 'id_str': '1281405877', 'indices': [367, 377]}, {'screen_name': 'TheDemocrats', 'name': 'The Democrats', 'id': 14377605, 'id_str': '14377605', 'indices': [378, 391]}, {'screen_name': 'TheGreenParty', 'name': 'The Green Party', 'id': 15529670, 'id_str': '15529670', 'indices': [392, 406]}, {'screen_name': 'BET', 'name': 'BET', 'id': 16560657, 'id_str': '16560657', 'indices': [407, 411]}, {'screen_name': 'foxsoultv', 'name': 'FOX SOUL', 'id': 1181704852201558000, 'id_str': '1181704852201558018', 'indices': [412, 422]}, {'screen_name': 'DrSeanMcMillan', 'name': 'Sean McMillan', 'id': 24067137, 'id_str': '24067137', 'indices': [423, 438]}, {'screen_name': 'MsTammiMac', 'name': 'The Tammi Mac Show on FoxSoul', 'id': 330494494, 'id_str': '330494494', 'indices': [439, 450]}, {'screen_name': 'USArmy', 'name': 'U.S. Army', 'id': 8775672, 'id_str': '8775672', 'indices': [458, 465]}, {'screen_name': 'USNavy', 'name': 'U.S. Navy', 'id': 54885400, 'id_str': '54885400', 'indices': [466, 473]}, {'screen_name': 'USMC', 'name': 'U.S. Marines', 'id': 10126672, 'id_str': '10126672', 'indices': [474, 479]}, {'screen_name': 'usairforce', 'name': 'U.S. Air Force', 'id': 19611483, 'id_str': '19611483', 'indices': [480, 491]}, {'screen_name': 'BritishArmy', 'name': 'British Army', 'id': 22046686, 'id_str': '22046686', 'indices': [492, 504]}], 'urls': []}, 'source': '<a href=\"http://twitter.com/download/android\" rel=\"nofollow\">Twitter for Android</a>', 'in_reply_to_status_id': 1443851915478118400, 'in_reply_to_status_id_str': '1443851915478118402', 'in_reply_to_user_id': 403481070, 'in_reply_to_user_id_str': '403481070', 'in_reply_to_screen_name': 'GirardisGod', 'user': {'id': 403481070, 'id_str': '403481070', 'name': '(Girard Davout) 🤔☝️😁😘', 'screen_name': 'GirardisGod', 'location': 'Chicago, IL', 'description': \"My 2 Instagram accounts are (@girardisgodgram) & (@godjustdoinstuff) is only 4 women.  I'm the man that doesn't stop growing. I'm a sex symbol 2(women)😁😍😘❤\", 'url': None, 'entities': {'description': {'urls': []}}, 'protected': False, 'followers_count': 698, 'friends_count': 3861, 'listed_count': 61, 'created_at': 'Wed Nov 02 15:18:45 +0000 2011', 'favourites_count': 47357, 'utc_offset': None, 'time_zone': None, 'geo_enabled': True, 'verified': False, 'statuses_count': 105436, 'lang': None, 'contributors_enabled': False, 'is_translator': False, 'is_translation_enabled': False, 'profile_background_color': '0099B9', 'profile_background_image_url': 'http://abs.twimg.com/images/themes/theme4/bg.gif', 'profile_background_image_url_https': 'https://abs.twimg.com/images/themes/theme4/bg.gif', 'profile_background_tile': False, 'profile_image_url': 'http://pbs.twimg.com/profile_images/1134199335317622784/QBjTLCE4_normal.jpg', 'profile_image_url_https': 'https://pbs.twimg.com/profile_images/1134199335317622784/QBjTLCE4_normal.jpg', 'profile_banner_url': 'https://pbs.twimg.com/profile_banners/403481070/1562382178', 'profile_link_color': '0099B9', 'profile_sidebar_border_color': '5ED4DC', 'profile_sidebar_fill_color': '95E8EC', 'profile_text_color': '3C3940', 'profile_use_background_image': True, 'has_extended_profile': True, 'default_profile': False, 'default_profile_image': False, 'following': False, 'follow_request_sent': False, 'notifications': False, 'translator_type': 'none', 'withheld_in_countries': []}, 'geo': None, 'coordinates': None, 'place': {'id': '1d9a5370a355ab0c', 'url': 'https://api.twitter.com/1.1/geo/id/1d9a5370a355ab0c.json', 'place_type': 'city', 'name': 'Chicago', 'full_name': 'Chicago, IL', 'country_code': 'US', 'country': 'United States', 'contained_within': [], 'bounding_box': {'type': 'Polygon', 'coordinates': [[[-87.940033, 41.644102], [-87.523993, 41.644102], [-87.523993, 42.0230669], [-87.940033, 42.0230669]]]}, 'attributes': {}}, 'contributors': None, 'is_quote_status': False, 'retweet_count': 0, 'favorite_count': 0, 'favorited': False, 'retweeted': False, 'lang': 'en'}\n",
            "False\n"
          ]
        }
      ]
    },
    {
      "cell_type": "markdown",
      "source": [
        "### Check the count\n",
        "\n",
        "There should be a total of **1713** tweets in the data set that are US Tweets posted in Nov 2021."
      ],
      "metadata": {
        "id": "tW2kBMMzqCNa"
      }
    },
    {
      "cell_type": "code",
      "source": [
        "len(nov_usa_tweets)"
      ],
      "metadata": {
        "id": "Qdmv3JCulywv",
        "colab": {
          "base_uri": "https://localhost:8080/"
        },
        "outputId": "566c5907-ce5f-4017-d8cc-488dd4bba61f"
      },
      "execution_count": 12,
      "outputs": [
        {
          "output_type": "execute_result",
          "data": {
            "text/plain": [
              "1620"
            ]
          },
          "metadata": {},
          "execution_count": 12
        }
      ]
    }
  ]
}