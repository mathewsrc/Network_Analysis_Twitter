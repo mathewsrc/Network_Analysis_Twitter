{
  "nbformat": 4,
  "nbformat_minor": 0,
  "metadata": {
    "colab": {
      "provenance": [],
      "collapsed_sections": [],
      "include_colab_link": true
    },
    "kernelspec": {
      "name": "python3",
      "display_name": "Python 3"
    }
  },
  "cells": [
    {
      "cell_type": "markdown",
      "metadata": {
        "id": "view-in-github",
        "colab_type": "text"
      },
      "source": [
        "<a href=\"https://colab.research.google.com/github/punkmic/Network_Analysis_Twitter/blob/master/MSDSNetworkAnalysis_HW1_TwitterData.ipynb\" target=\"_parent\"><img src=\"https://colab.research.google.com/assets/colab-badge.svg\" alt=\"Open In Colab\"/></a>"
      ]
    },
    {
      "cell_type": "markdown",
      "source": [
        "# MSDS Network Analysis, Homework 1: Twitter data wrangling"
      ],
      "metadata": {
        "id": "Blhvc2teosDj"
      }
    },
    {
      "cell_type": "markdown",
      "source": [
        "## ⚡️ Make a Copy\n",
        "\n",
        "Save a copy of this notebook in your Google Drive before continuing. Be sure to edit your own copy, not the original notebook."
      ],
      "metadata": {
        "id": "YIjMSV2y4rna"
      }
    },
    {
      "cell_type": "markdown",
      "source": [
        "## 🏁 We are working toward a goal: the final project"
      ],
      "metadata": {
        "id": "R0dxMCbrGkVI"
      }
    },
    {
      "cell_type": "markdown",
      "source": [
        "Please take a moment to review the requirements for the upcoming final project for this course. The homework assignments and coding labs are designed to step you toward the goal of preparing to complete your final project."
      ],
      "metadata": {
        "id": "GBTs-_v7Go2x"
      }
    },
    {
      "cell_type": "markdown",
      "source": [
        "## Working with Twitter data"
      ],
      "metadata": {
        "id": "_W2TItPIpZIw"
      }
    },
    {
      "cell_type": "markdown",
      "source": [
        "Social media data tends to have a lot of metadata. When doing an analysis, you can take advantage of the richness of this data toward the end of slicing it up to meet the needs for your project."
      ],
      "metadata": {
        "id": "I_BTKgMPo_pa"
      }
    },
    {
      "cell_type": "markdown",
      "source": [
        "In this assignment, you will practice working with Twitter API data by implementing a function for matching Tweets to a given set of metadata parameters. We'll then take a look at how you can use that function for filtering Tweets to a specific subset.\n",
        "\n",
        "> 💡 Before continuing, take a moment to get familiar with the structure of the [Tweet object model](https://developer.twitter.com/en/docs/twitter-api/v1/data-dictionary/object-model/tweet)"
      ],
      "metadata": {
        "id": "tPDRAo7mpfyE"
      }
    },
    {
      "cell_type": "markdown",
      "source": [
        "### 📝 Completing the assignment"
      ],
      "metadata": {
        "id": "6KcmA3Hpz5Vf"
      }
    },
    {
      "cell_type": "markdown",
      "source": [
        "> **⚠️  Don't code outside the lines.** Keep your function implementation code inside the function blocks. Be sure not to write any code above the `/autorade` delimiter other than the specified function code. Any experimentation or testing code should go below the `/autograde` indicator, and will be ignored by the grader."
      ],
      "metadata": {
        "id": "DTr17HArz0r3"
      }
    },
    {
      "cell_type": "markdown",
      "source": [
        "## Defining the match critera"
      ],
      "metadata": {
        "id": "0WJTCtDKp6lx"
      }
    },
    {
      "cell_type": "markdown",
      "source": [
        "Take a look at the Twitter documentation referenced above, and determine what fields you will need to complete this assignment. In this assignment, you will be implementing a function called `match_tweet` which determines if a Tweet matches the set of matching parameters:\n",
        "\n",
        " * **country_codes:** If provided and non-empty, is the Tweet's country code in this list of provided country codes?\n",
        " * **start_date:** If provided, is the date of Tweet's `created_at` date greater than or equal to this date?\n",
        " * **end_date:** If provided, is the date of the Tweet's `created_at` date less than or equal to this date?\n",
        "\n",
        "\n",
        "Let's consider further details about matching before jumping into the implementation."
      ],
      "metadata": {
        "id": "_8TKxPBSqB1s"
      }
    },
    {
      "cell_type": "markdown",
      "source": [
        "## 🌎 Matching by country code"
      ],
      "metadata": {
        "id": "XRH47lCNsuyz"
      }
    },
    {
      "cell_type": "markdown",
      "source": [
        "The following criteria should be implemented in your function for matching to the country code:\n",
        "\n",
        " * If the country_code parameter is `None` or an empty list the function should match any Tweet regardless of country code.\n",
        " * Country codes should be matched in a case-insensitive way. E.g. \"US\" is equivalent to \"us\". However, \"US\" and \"USA\" are not considered to be matches -- the case-insensitive match should be exact.\n",
        " * If this parameter is provided and the Tweet's country code is not in the list of provided country codes, the function should return False regardless of the other match parameters."
      ],
      "metadata": {
        "id": "Wt5uSN8Gs0cW"
      }
    },
    {
      "cell_type": "markdown",
      "source": [
        "## 📅 Matching by date"
      ],
      "metadata": {
        "id": "GIx8f53wuEE8"
      }
    },
    {
      "cell_type": "markdown",
      "source": [
        "The `start_date` and `end_date` parameters are used to determine if the Tweet was created within a specific date range. One of these parameters may be provide to match an open-ended range, or neither of them to match all Tweets.\n",
        "\n",
        "Use the following criteria when matching by date:\n",
        "\n",
        " * The \"date\" of a Tweet is the date component of the `created_at` timestamp of the Tweet (see below for info about working with dates)\n",
        " * start_date and end_date are both inclusive matches. E.g. a Tweet created on 2021-11-01 will match either a start_date or an end_date of 2021-11-01\n",
        " * `None` for either date parameter means \"no limit\" in that direction. By this criterion, `None` for both parameters means: \"match all Tweets\"\n",
        " * If date parameters are provided and the Tweet does not match, the function should return False regardless of other matching parameters."
      ],
      "metadata": {
        "id": "vgh6PEi4uIqp"
      }
    },
    {
      "cell_type": "markdown",
      "source": [
        "### 🐍 Working with Tweet timestamps as dates"
      ],
      "metadata": {
        "id": "t3G0RgETx21v"
      }
    },
    {
      "cell_type": "markdown",
      "source": [
        "The following code snippet can be used to parse a Tweet's created_at time into a datetime object:\n",
        "\n",
        "```\n",
        "    dt = datetime.strptime(tweet[\"created_at\"], \"%a %b %d %H:%M:%S +0000 %Y\")\n",
        "```\n",
        "\n",
        "You can then get just a date object from that by calling the `.date()` method on the datetime object:\n",
        "\n",
        "```\n",
        "    dt = dt.date()\n",
        "```"
      ],
      "metadata": {
        "id": "KlP9apDMh78l"
      }
    },
    {
      "cell_type": "markdown",
      "source": [
        "## ⚡️ Getting started"
      ],
      "metadata": {
        "id": "IXJLl_JByPjN"
      }
    },
    {
      "cell_type": "markdown",
      "source": [
        "You should now be ready to go. To complete the assignment:\n",
        "\n",
        " 1. Complete the implementation of the `match_tweet` function.\n",
        "\n",
        "    The function definition line is created for you below. Your job is to complete the function so that it works to specification.\n",
        "\n",
        "2. Write any exploratory and testing code only below the `/autograde` note.\n",
        "\n",
        "3. Download the completed notebook as a .py file:\n",
        "\n",
        "    File > Download > Download .py\n",
        "\n",
        "    ⚠️ The .ipynb file will not work with the grader. Be sure to download the .py file\n",
        "\n",
        "4. Submit the file to the Coursera grader for assessment."
      ],
      "metadata": {
        "id": "MbfmxYIM1n3t"
      }
    },
    {
      "cell_type": "markdown",
      "source": [
        "## Imports"
      ],
      "metadata": {
        "id": "JEys5ZXDPk4L"
      }
    },
    {
      "cell_type": "code",
      "source": [
        "import datetime\n",
        "import gzip\n",
        "import json"
      ],
      "metadata": {
        "id": "cRE1kTM6PmCQ"
      },
      "execution_count": 70,
      "outputs": []
    },
    {
      "cell_type": "markdown",
      "source": [
        "## Implement match_tweet"
      ],
      "metadata": {
        "id": "K0odiwn4s2c6"
      }
    },
    {
      "cell_type": "code",
      "source": [
        "def match_tweet(tweet, country_codes=None, start_date=None, end_date=None):\n",
        "    \"\"\"Return the boolean value of whether this tweet object matches\n",
        "    the specified parameters.\n",
        "\n",
        "    Supports the following match criteria:\n",
        "\n",
        "      * country_codes (a list of case-insensitive country codes)\n",
        "      * start_date (earliest date of matching tweets)\n",
        "      * end_date (latest date of matching tweets)\n",
        "\n",
        "    `None` values for any parameters, as well as an empty country_code list are\n",
        "    interpreted as \"match all\" for the respective parameter.\n",
        "    \"\"\"\n",
        "\n",
        "    # parse str to date\n",
        "    if tweet[\"created_at\"] != None:\n",
        "      created_at = datetime.datetime.strptime(tweet[\"created_at\"], \"%a %b %d %H:%M:%S +0000 %Y\").date()\n",
        "    else:\n",
        "      print(\"Tweet does not have created_at field\")\n",
        "\n",
        "    # lower country codes\n",
        "    if country_codes != None:\n",
        "      country_codes = [x.lower() for x in country_codes]\n",
        "    \n",
        "    if created_at != None and start_date != None:\n",
        "      if created_at < start_date:\n",
        "        return False\n",
        "    if created_at != None and end_date != None:\n",
        "      if created_at > end_date:\n",
        "        return False\n",
        "    if tweet['place'] == None:\n",
        "      return False\n",
        "    if country_codes != None and len(country_codes) > 0:\n",
        "       if tweet['place']['country_code'].lower() not in country_codes:\n",
        "         return False\n",
        "    return True"
      ],
      "metadata": {
        "id": "h6onyg1Zqjop"
      },
      "execution_count": 71,
      "outputs": []
    },
    {
      "cell_type": "code",
      "source": [
        "#~~ /autograde # do not delete this code cell"
      ],
      "metadata": {
        "id": "Uoxq6phr2Jfm"
      },
      "execution_count": 72,
      "outputs": []
    },
    {
      "cell_type": "markdown",
      "source": [
        "---\n",
        "### ⚠️  **Caution:** No arbitrary code above this line\n",
        "\n",
        "The only code written above should be the implementation of your graded \n",
        "function. For experimentation and testing, only add code below.\n",
        "\n",
        "---"
      ],
      "metadata": {
        "id": "mOGA9PUO2E0f"
      }
    },
    {
      "cell_type": "markdown",
      "source": [
        "## Testing things out"
      ],
      "metadata": {
        "id": "sV0RJg2Iv813"
      }
    },
    {
      "cell_type": "markdown",
      "source": [
        "A test Tweet with minimal data, and a start and end date are created below for you to test with. You will almost certainly want to create some of your own values for further testing."
      ],
      "metadata": {
        "id": "MAkF4CQs2Pw0"
      }
    },
    {
      "cell_type": "code",
      "source": [
        "test_tweet =  {\n",
        "    \"created_at\": \"Fri Nov 11 08:25:03 +0000 2021\",\n",
        "    \"place\": { \"country_code\": \"US\"}\n",
        "}"
      ],
      "metadata": {
        "id": "Bqg7tEBJnUTp"
      },
      "execution_count": 73,
      "outputs": []
    },
    {
      "cell_type": "code",
      "source": [
        "start = datetime.date.fromisoformat(\"2021-11-01\")\n",
        "end = datetime.date.fromisoformat(\"2021-11-30\")"
      ],
      "metadata": {
        "id": "i4RmpkpTigth"
      },
      "execution_count": 74,
      "outputs": []
    },
    {
      "cell_type": "code",
      "source": [
        "match_tweet(test_tweet, country_codes=[\"US\"], start_date=start, end_date=end)"
      ],
      "metadata": {
        "id": "X3mWRE3iooiq",
        "colab": {
          "base_uri": "https://localhost:8080/"
        },
        "outputId": "71f9d2f7-d1b6-45ae-a007-8f1a329e9094"
      },
      "execution_count": 75,
      "outputs": [
        {
          "output_type": "execute_result",
          "data": {
            "text/plain": [
              "True"
            ]
          },
          "metadata": {},
          "execution_count": 75
        }
      ]
    },
    {
      "cell_type": "markdown",
      "source": [
        "## Making use of the Tweet matcher: Filtering a set of Tweets"
      ],
      "metadata": {
        "id": "89D7YrnDNbSH"
      }
    },
    {
      "cell_type": "markdown",
      "source": [
        "The code below shows how you might make use of the matching function for filtering a list or a data file of Tweets."
      ],
      "metadata": {
        "id": "8FdMz89g2mWX"
      }
    },
    {
      "cell_type": "markdown",
      "source": [
        "The filter_tweets function uses your match_tweet implementation to filter an iterable of tweets using the provided matching parameters.\n",
        "\n",
        "`filter_tweets` works with an iterable of either JSON strings, or dict objects, so you can use it to parse tweets out of a JSON-L file, but also use it to re-filter the Tweets it returns. We'll see how that works below."
      ],
      "metadata": {
        "id": "ly9VDcGWNibY"
      }
    },
    {
      "cell_type": "code",
      "source": [
        "def filter_tweets(tweets, country_codes=None, start_date=None, end_date=None):\n",
        "    \"\"\"Returns a list of tweets filtered by provided filter criteria.\n",
        "\n",
        "    Currently only supports country_codes filtering. See match_tweet\n",
        "    for details about how match based filtering works.\n",
        "\n",
        "    This function accepts an iterable of tweet objects which may either \n",
        "    be JSON strings, or previously parsed tweet dictionaries.\n",
        "\n",
        "    Yields an iterable of dictionaries.\n",
        "    \"\"\"\n",
        "    for i, tweet in enumerate(tweets):\n",
        "      if isinstance(tweet, (bytes, str)):\n",
        "        tweet = json.loads(tweet)\n",
        "      if match_tweet(tweet,\n",
        "                       country_codes=country_codes,\n",
        "                       start_date=start_date,\n",
        "                       end_date=end_date):\n",
        "        if i % 200 == 0:\n",
        "          print(f\"Index {i}, {tweet['created_at']}\")\n",
        "        yield tweet\n",
        "    "
      ],
      "metadata": {
        "id": "fsl3eds6N7-N"
      },
      "execution_count": 76,
      "outputs": []
    },
    {
      "cell_type": "markdown",
      "source": [
        "> 🐍 **About yield:** \"Yielding\" instead of \"returning\" from a function allows a Python function to iteratively turn out results as it processes them, rather than collecting all the results and returning them at once. This is called a **generator** and is handy particularly when processing large amounts of data. While we convert all the results to lists below for simple testing purposes, in a real application you would probably take advantage of the generator, and process the filtered Tweets as they are yielded by the function."
      ],
      "metadata": {
        "id": "W_AEx4cg22nk"
      }
    },
    {
      "cell_type": "markdown",
      "source": [
        "## 📁 Getting the data file"
      ],
      "metadata": {
        "id": "mEHNA_Tr0IrC"
      }
    },
    {
      "cell_type": "markdown",
      "source": [
        "The code below makes use of a Twitter dataset harvested from the Twitter API and saved in a Gzipped JSON-L file. This is the same file used in the labs and final project for the course.\n",
        "\n",
        "> **💡  JSON-L.** JSON-L is an unofficial yet common format of one JSON document per line in the file. It is typically read by parsing each line of the file as a JSON string.\n",
        "\n",
        "---\n",
        "\n",
        "Before continuing, you will need to:\n",
        "\n",
        " * Download the file from the course resources\n",
        " * Upload it to the root of your Google Drive account"
      ],
      "metadata": {
        "id": "czsn9x900PAn"
      }
    },
    {
      "cell_type": "markdown",
      "source": [
        "## Mount Google Drive"
      ],
      "metadata": {
        "id": "2MxR-LLqjd8_"
      }
    },
    {
      "cell_type": "code",
      "source": [
        "from google.colab import drive\n",
        "drive.mount('/content/drive')"
      ],
      "metadata": {
        "id": "qbAV_s8wjffW",
        "colab": {
          "base_uri": "https://localhost:8080/"
        },
        "outputId": "a927b12f-20b7-466e-97cb-94459595870a"
      },
      "execution_count": 77,
      "outputs": [
        {
          "output_type": "stream",
          "name": "stdout",
          "text": [
            "Drive already mounted at /content/drive; to attempt to forcibly remount, call drive.mount(\"/content/drive\", force_remount=True).\n"
          ]
        }
      ]
    },
    {
      "cell_type": "markdown",
      "source": [
        "## Testing out the filter"
      ],
      "metadata": {
        "id": "2dtb98GEPLxX"
      }
    },
    {
      "cell_type": "code",
      "source": [
        "with gzip.open('drive/MyDrive/nikelululemonadidas_tweets.jsonl.gz') as f:\n",
        "    US_tweets = list(filter_tweets(f, country_codes=[\"us\"]))"
      ],
      "metadata": {
        "id": "vQBfHnic15F-"
      },
      "execution_count": null,
      "outputs": []
    },
    {
      "cell_type": "markdown",
      "source": [
        "## Check the count\n",
        "\n",
        "If you have implemented your matching function correctly, the count of US tweets should be **5713**:"
      ],
      "metadata": {
        "id": "M3JhOX85pfGP"
      }
    },
    {
      "cell_type": "code",
      "source": [
        "print(len(US_tweets))"
      ],
      "metadata": {
        "id": "xf_Mzs5TbCXT",
        "colab": {
          "base_uri": "https://localhost:8080/"
        },
        "outputId": "4aaa1ea5-b6c3-41fa-b250-7a5740c88101"
      },
      "execution_count": 79,
      "outputs": [
        {
          "output_type": "stream",
          "name": "stdout",
          "text": [
            "5713\n"
          ]
        }
      ]
    },
    {
      "cell_type": "markdown",
      "source": [
        "## Refiltering\n",
        "\n",
        "Now, make another pass on the tweets, this time narrowing the selection down by date. You could have passed in all of the filter parameters above, but sometimes iterative filtering like this is useful during a data exploration or analysis."
      ],
      "metadata": {
        "id": "zZ68myPkpt32"
      }
    },
    {
      "cell_type": "code",
      "source": [
        "nov_usa_tweets = list(filter_tweets(US_tweets, start_date=start, end_date=end))"
      ],
      "metadata": {
        "id": "puNKR6nXlpUe",
        "colab": {
          "base_uri": "https://localhost:8080/"
        },
        "outputId": "64218e4d-6cc1-4c2b-c649-64bc870b843d"
      },
      "execution_count": 80,
      "outputs": [
        {
          "output_type": "stream",
          "name": "stdout",
          "text": [
            "Index 2200, Tue Nov 02 22:39:51 +0000 2021\n",
            "Index 2400, Fri Nov 05 21:27:38 +0000 2021\n",
            "Index 2600, Wed Nov 10 14:18:32 +0000 2021\n",
            "Index 2800, Sat Nov 13 01:30:18 +0000 2021\n",
            "Index 3000, Tue Nov 16 02:16:53 +0000 2021\n",
            "Index 3200, Fri Nov 19 17:47:18 +0000 2021\n",
            "Index 3400, Mon Nov 22 21:47:08 +0000 2021\n",
            "Index 3600, Sat Nov 27 01:41:44 +0000 2021\n",
            "Index 3800, Tue Nov 30 20:11:36 +0000 2021\n"
          ]
        }
      ]
    },
    {
      "cell_type": "markdown",
      "source": [
        "### Check the count\n",
        "\n",
        "There should be a total of **1713** tweets in the data set that are US Tweets posted in Nov 2021."
      ],
      "metadata": {
        "id": "tW2kBMMzqCNa"
      }
    },
    {
      "cell_type": "code",
      "source": [
        "len(nov_usa_tweets)"
      ],
      "metadata": {
        "id": "Qdmv3JCulywv",
        "colab": {
          "base_uri": "https://localhost:8080/"
        },
        "outputId": "c619ba8e-66c1-48e9-b1d2-b1e0dc6fcfa8"
      },
      "execution_count": 81,
      "outputs": [
        {
          "output_type": "execute_result",
          "data": {
            "text/plain": [
              "1713"
            ]
          },
          "metadata": {},
          "execution_count": 81
        }
      ]
    }
  ]
}